{
  "nbformat": 4,
  "nbformat_minor": 0,
  "metadata": {
    "colab": {
      "name": "EVA4_S15A_data_generation.ipynb",
      "provenance": [],
      "collapsed_sections": [],
      "include_colab_link": true
    },
    "kernelspec": {
      "name": "python3",
      "display_name": "Python 3"
    },
    "accelerator": "GPU"
  },
  "cells": [
    {
      "cell_type": "markdown",
      "metadata": {
        "id": "view-in-github",
        "colab_type": "text"
      },
      "source": [
        "<a href=\"https://colab.research.google.com/github/aswa09/EVA-4/blob/master/S14/EVA4_S15A_data_generation.ipynb\" target=\"_parent\"><img src=\"https://colab.research.google.com/assets/colab-badge.svg\" alt=\"Open In Colab\"/></a>"
      ]
    },
    {
      "cell_type": "markdown",
      "metadata": {
        "id": "YzdY25uuvp3U",
        "colab_type": "text"
      },
      "source": [
        "#Import Libraries"
      ]
    },
    {
      "cell_type": "code",
      "metadata": {
        "id": "ui_j9rd0c0_J",
        "colab_type": "code",
        "colab": {}
      },
      "source": [
        "import os\n",
        "from zipfile import ZipFile,ZIP_STORED\n",
        "import zipfile\n",
        "from pathlib import Path\n",
        "import gc\n",
        "import io\n",
        "import sys\n",
        "from skimage.transform import resize\n",
        "import numpy as np\n",
        "import matplotlib.pyplot as plt\n",
        "from PIL import Image, ImageOps\n",
        "import glob\n",
        "\n",
        "import warnings\n",
        "\n",
        "warnings.simplefilter(\"ignore\")"
      ],
      "execution_count": null,
      "outputs": []
    },
    {
      "cell_type": "code",
      "metadata": {
        "id": "yoEFnWNAEetG",
        "colab_type": "code",
        "colab": {
          "base_uri": "https://localhost:8080/",
          "height": 102
        },
        "outputId": "dfa61cea-08ee-43cd-946d-259018317b49"
      },
      "source": [
        "!pip install tensorflow=='1.13.0-rc2' --quiet\n",
        "!pip install keras==2.2.4 --quiet"
      ],
      "execution_count": null,
      "outputs": [
        {
          "output_type": "stream",
          "text": [
            "\u001b[K     |████████████████████████████████| 92.6MB 47kB/s \n",
            "\u001b[K     |████████████████████████████████| 3.1MB 9.7MB/s \n",
            "\u001b[K     |████████████████████████████████| 51kB 6.1MB/s \n",
            "\u001b[K     |████████████████████████████████| 368kB 10.9MB/s \n",
            "\u001b[K     |████████████████████████████████| 317kB 3.5MB/s \n",
            "\u001b[?25h"
          ],
          "name": "stdout"
        }
      ]
    },
    {
      "cell_type": "markdown",
      "metadata": {
        "id": "LulzrWq9-dB7",
        "colab_type": "text"
      },
      "source": [
        "# Mount and Fetch Data"
      ]
    },
    {
      "cell_type": "code",
      "metadata": {
        "id": "2GmtoJ9Nwu2B",
        "colab_type": "code",
        "colab": {
          "base_uri": "https://localhost:8080/",
          "height": 122
        },
        "outputId": "fe143ae3-f049-4cd6-bb8d-f0ec28ecf947"
      },
      "source": [
        "from google.colab import drive\n",
        "drive.mount('/content/drive/',force_remount=True)"
      ],
      "execution_count": null,
      "outputs": [
        {
          "output_type": "stream",
          "text": [
            "Go to this URL in a browser: https://accounts.google.com/o/oauth2/auth?client_id=947318989803-6bn6qk8qdgf4n4g3pfee6491hc0brc4i.apps.googleusercontent.com&redirect_uri=urn%3aietf%3awg%3aoauth%3a2.0%3aoob&response_type=code&scope=email%20https%3a%2f%2fwww.googleapis.com%2fauth%2fdocs.test%20https%3a%2f%2fwww.googleapis.com%2fauth%2fdrive%20https%3a%2f%2fwww.googleapis.com%2fauth%2fdrive.photos.readonly%20https%3a%2f%2fwww.googleapis.com%2fauth%2fpeopleapi.readonly\n",
            "\n",
            "Enter your authorization code:\n",
            "··········\n",
            "Mounted at /content/drive/\n"
          ],
          "name": "stdout"
        }
      ]
    },
    {
      "cell_type": "markdown",
      "metadata": {
        "id": "bjXzD9T9vxDX",
        "colab_type": "text"
      },
      "source": [
        "#Extract background, foreground and foreground masks from zip files\n",
        "\n",
        "* The background and foreground images were curated from google and uniformly resized manually MS Paint.\n",
        "* With these forground images, masks were created in Gimp.\n",
        "\n",
        "\n",
        "**This part can be skipped if directly unzipping the whole dataset"
      ]
    },
    {
      "cell_type": "code",
      "metadata": {
        "id": "qehvl2cayN1e",
        "colab_type": "code",
        "colab": {
          "base_uri": "https://localhost:8080/",
          "height": 51
        },
        "outputId": "6a9fb95d-24ea-446b-9ca9-94232fa38a14"
      },
      "source": [
        "path_to_zip_file = \"/content/drive/My Drive/Colab Notebooks/S14/images.zip\"\n",
        "directory_to_extract_to = '/content/drive/My Drive/Colab Notebooks/S14/'\n",
        "print(\"Extracting zip file: %s\" % path_to_zip_file)\n",
        "with zipfile.ZipFile(path_to_zip_file, 'r') as zip_ref:\n",
        "  zip_ref.extractall(directory_to_extract_to)\n",
        "print(\"Extracted at: %s\" % directory_to_extract_to)"
      ],
      "execution_count": null,
      "outputs": [
        {
          "output_type": "stream",
          "text": [
            "Extracting zip file: /content/drive/My Drive/Colab Notebooks/S14/images.zip\n",
            "Extracted at: /content/drive/My Drive/Colab Notebooks/S14/\n"
          ],
          "name": "stdout"
        }
      ]
    },
    {
      "cell_type": "markdown",
      "metadata": {
        "id": "VomiPc1Bv6oI",
        "colab_type": "text"
      },
      "source": [
        "##Change Directory"
      ]
    },
    {
      "cell_type": "code",
      "metadata": {
        "id": "j19GvuYIcmXk",
        "colab_type": "code",
        "colab": {
          "base_uri": "https://localhost:8080/",
          "height": 34
        },
        "outputId": "8e92ffc0-04a8-4f17-ae40-1e8a01e79014"
      },
      "source": [
        "os.chdir('./drive/My Drive/Colab Notebooks/S14/')\n",
        "!ls"
      ],
      "execution_count": null,
      "outputs": [
        {
          "output_type": "stream",
          "text": [
            "EVA4_S15A_data_generation.ipynb  images  images.zip\n"
          ],
          "name": "stdout"
        }
      ]
    },
    {
      "cell_type": "markdown",
      "metadata": {
        "id": "0q7jYBgt_2rY",
        "colab_type": "text"
      },
      "source": [
        "## Overlay Foreground on Background"
      ]
    },
    {
      "cell_type": "markdown",
      "metadata": {
        "id": "fVMTJVAEG9-i",
        "colab_type": "text"
      },
      "source": [
        "*   Each foreground is flipped horizontally (so twice)\n",
        "*   For each orientation of foreground, randomly overlay it on the background 20 times.\n",
        "*   #bg = 100\n",
        "*   #fg = 100\n",
        "*   #fg_bg = 100\\*100\\*2\\*20 = 400,000\n",
        "\n"
      ]
    },
    {
      "cell_type": "code",
      "metadata": {
        "id": "BSpFVgQ7GC8j",
        "colab_type": "code",
        "colab": {}
      },
      "source": [
        "def overlay_fg_on_bg():\n",
        "  try:\n",
        "    bg_dir = \"./images/bg/\"\n",
        "    bg_imgs = sorted(os.listdir(bg_dir))\n",
        "    fg_dir = \"./images/fg/\"\n",
        "    fg_imgs = sorted(os.listdir(fg_dir))\n",
        "    fg_masks_dir = \"./images/fg_mask/\"\n",
        "    assert (len(bg_imgs) == 100)\n",
        "    assert (len(fg_imgs) == 100)\n",
        "    label_info = open(f'./images/fg_bg_labels.txt', 'w+')\n",
        "    for bidx, bg_img in enumerate(bg_imgs):\n",
        "      i=bidx\n",
        "      if i!=100:\n",
        "        i=int(i)%100\n",
        "      else:\n",
        "        i=100\n",
        "\n",
        "      out_zip_fg_bg = ZipFile('./images/fg_bg/bg{0:03d}.zip'.format(i + 1), mode='a', compression=ZIP_STORED)\n",
        "      out_zip_fg_bg_m = ZipFile('./images/fg_bg_mask/bg{0:03d}.zip'.format(i + 1), mode='a', compression=ZIP_STORED)\n",
        "      out_lbl=open('./images/labels.txt', 'a')\n",
        "      mbg = Image.open(bg_dir + bg_img)\n",
        "      for fidx, fg_img in enumerate(fg_imgs):\n",
        "        mfg = Image.open(fg_dir + fg_img)\n",
        "        assert (fg_img[-4:] == \".png\")\n",
        "        mfg_mask = Image.open(fg_masks_dir + fg_img[:-4] + \"_mask.png\")\n",
        "\n",
        "        if mfg_mask.mode in (\"RGBA\", \"P\"):\n",
        "          mfg_mask = mfg_mask.convert(\"RGB\")\n",
        "\n",
        "        flip = [True, False]\n",
        "        for i in range(40):\n",
        "          should_flip = flip[i % len(flip)]\n",
        "\n",
        "          bg = mbg.copy()\n",
        "          fg = mfg.copy()\n",
        "          fg_mask = mfg_mask.copy()\n",
        "\n",
        "          if should_flip:\n",
        "            fg = fg.transpose(Image.FLIP_LEFT_RIGHT)\n",
        "            fg_mask = fg_mask.transpose(Image.FLIP_LEFT_RIGHT)\n",
        "\n",
        "          bg_w, bg_h = bg.size\n",
        "          fg_w, fg_h = fg.size\n",
        "          max_h = bg_h - fg_h\n",
        "          max_w = bg_w - fg_w\n",
        "          pos_x = np.random.randint(low=0, high=max_w, size=1)[0]\n",
        "          pos_y = np.random.randint(low=0, high=max_h, size=1)[0]\n",
        "\n",
        "          bg.paste(fg, (pos_x, pos_y), fg)\n",
        "\n",
        "          bg_mask = Image.new('L', bg.size)\n",
        "          fg_mask = fg_mask.convert('L')\n",
        "          bg_mask.paste(fg_mask, (pos_x, pos_y), fg_mask)\n",
        "\n",
        "          if bg.mode in (\"RGBA\", \"P\"):\n",
        "              bg = bg.convert(\"RGB\")\n",
        "          bg.save('./images/bg_temp.jpg', optimize=True, quality=65)\n",
        "\n",
        "          if bg_mask.mode in (\"RGBA\", \"P\"):\n",
        "              bg_mask = bg_mask.convert(\"RGB\")\n",
        "          bg_mask.save('./images/bg_m_temp.jpg', optimize=True, quality=65)\n",
        "\n",
        "          out_zip_fg_bg.write('./images/bg_temp.jpg', f'./fg_bg/{bg_img[:-4]}_{fg_img[:-4]}_{i + 1:02d}.jpg')\n",
        "\n",
        "          out_zip_fg_bg_m.write('./images/bg_m_temp.jpg',f'./fg_bg_mask/{bg_img[:-4]}_{fg_img[:-4]}_{i + 1:02d}_mask.jpg')\n",
        "\n",
        "          out_lbl.write(f'{bg_img[:-4]}_{fg_img[:-4]}_{i + 1:02d}.jpg\\t{pos_x}\\t{pos_y}\\n')\n",
        "          \n",
        "          # !python test.py\n",
        "          # out_zip.write('../images/dd.jpg',\n",
        "          #               f'../fg_bg_depth/{bg_img[:-4]}_{fg_img[:-4]}_{i + 1:02d}_depth.jpg')\n",
        "              \n",
        "      out_zip_fg_bg.close()\n",
        "      out_zip_fg_bg_m.close()\n",
        "\n",
        "    label_info.close()\n",
        "    out_lbl.write('./images/fg_bg_labels.txt')\n",
        "    out_lbl.close()\n",
        "  except Exception as e:\n",
        "    print('Error on line {}'.format(sys.exc_info()[-1].tb_lineno) + \" \" + type(e).__name__ + \" \" + str(e))\n",
        "    sys.exit(1)"
      ],
      "execution_count": null,
      "outputs": []
    },
    {
      "cell_type": "markdown",
      "metadata": {
        "id": "AlmA5dlHH4Tu",
        "colab_type": "text"
      },
      "source": [
        "Generate the fg_bg images and masks"
      ]
    },
    {
      "cell_type": "code",
      "metadata": {
        "id": "2hPjPGXHzO7a",
        "colab_type": "code",
        "colab": {}
      },
      "source": [
        "overlay_fg_on_bg()"
      ],
      "execution_count": null,
      "outputs": []
    },
    {
      "cell_type": "markdown",
      "metadata": {
        "id": "G5VXtBXTrHx2",
        "colab_type": "text"
      },
      "source": [
        "#Dense Depth"
      ]
    },
    {
      "cell_type": "code",
      "metadata": {
        "id": "NOAe56z7Z7sv",
        "colab_type": "code",
        "colab": {
          "base_uri": "https://localhost:8080/",
          "height": 102
        },
        "outputId": "2a7bc5a3-6b46-43a7-d8dd-04eed5901357"
      },
      "source": [
        "!rm -rf DenseDepth/\n",
        "!git clone https://github.com/ialhashim/DenseDepth.git"
      ],
      "execution_count": null,
      "outputs": [
        {
          "output_type": "stream",
          "text": [
            "Cloning into 'DenseDepth'...\n",
            "remote: Enumerating objects: 238, done.\u001b[K\n",
            "remote: Total 238 (delta 0), reused 0 (delta 0), pack-reused 238\u001b[K\n",
            "Receiving objects: 100% (238/238), 11.80 MiB | 19.45 MiB/s, done.\n",
            "Resolving deltas: 100% (117/117), done.\n"
          ],
          "name": "stdout"
        }
      ]
    },
    {
      "cell_type": "code",
      "metadata": {
        "id": "lTSsK7BRPlzI",
        "colab_type": "code",
        "colab": {
          "base_uri": "https://localhost:8080/",
          "height": 204
        },
        "outputId": "45abd1b8-5257-431e-bf9f-4386b1eee14b"
      },
      "source": [
        "!wget https://s3-eu-west-1.amazonaws.com/densedepth/nyu.h5 -O ./DenseDepth/nyu.h5"
      ],
      "execution_count": null,
      "outputs": [
        {
          "output_type": "stream",
          "text": [
            "--2020-08-08 00:39:40--  https://s3-eu-west-1.amazonaws.com/densedepth/nyu.h5\n",
            "Resolving s3-eu-west-1.amazonaws.com (s3-eu-west-1.amazonaws.com)... 52.218.96.114\n",
            "Connecting to s3-eu-west-1.amazonaws.com (s3-eu-west-1.amazonaws.com)|52.218.96.114|:443... connected.\n",
            "HTTP request sent, awaiting response... 200 OK\n",
            "Length: 172897376 (165M) [application/h5]\n",
            "Saving to: ‘./DenseDepth/nyu.h5’\n",
            "\n",
            "./DenseDepth/nyu.h5 100%[===================>] 164.89M  18.6MB/s    in 10s     \n",
            "\n",
            "2020-08-08 00:39:51 (16.5 MB/s) - ‘./DenseDepth/nyu.h5’ saved [172897376/172897376]\n",
            "\n"
          ],
          "name": "stdout"
        }
      ]
    },
    {
      "cell_type": "code",
      "metadata": {
        "id": "YfDLuVCafTG5",
        "colab_type": "code",
        "colab": {
          "base_uri": "https://localhost:8080/",
          "height": 102
        },
        "outputId": "9dad12d1-5b79-4190-8b5a-1ed70d89ebbd"
      },
      "source": [
        "%cd DenseDepth\n",
        "!ls"
      ],
      "execution_count": null,
      "outputs": [
        {
          "output_type": "stream",
          "text": [
            "/content/drive/My Drive/Colab Notebooks/S14/DenseDepth\n",
            "augment.py\tdemo.py\t\t  examples   model.py\t  README.md   utils.py\n",
            "callbacks.py\tdemo_rgb.npy\t  layers.py  nyu.h5\t  Tensorflow\n",
            "data.py\t\tDenseDepth.ipynb  LICENSE    __pycache__  test.py\n",
            "demo_depth.npy\tevaluate.py\t  loss.py    PyTorch\t  train.py\n"
          ],
          "name": "stdout"
        }
      ]
    },
    {
      "cell_type": "markdown",
      "metadata": {
        "id": "y-TH6q5y9TMV",
        "colab_type": "text"
      },
      "source": [
        "##Load Model"
      ]
    },
    {
      "cell_type": "code",
      "metadata": {
        "id": "4VbKR1KWfTvS",
        "colab_type": "code",
        "colab": {
          "base_uri": "https://localhost:8080/",
          "height": 156
        },
        "outputId": "0301b0be-49b5-47a5-acfb-0cd5d36673e2"
      },
      "source": [
        "from utils import predict, display_images\n",
        "from keras.models import load_model\n",
        "from layers import BilinearUpSampling2D\n",
        "from loss import depth_loss_function\n",
        "\n",
        "os.environ['TF_CPP_MIN_LOG_LEVEL'] = '5'\n",
        " \n",
        "custom_objects = {'BilinearUpSampling2D': BilinearUpSampling2D, 'depth_loss_function': depth_loss_function}\n",
        " \n",
        "print('Loading model...')\n",
        " \n",
        "# Load model into GPU / CPU\n",
        "model = load_model('nyu.h5', custom_objects=custom_objects, compile=False)\n",
        "print('\\n Model loaded')"
      ],
      "execution_count": null,
      "outputs": [
        {
          "output_type": "stream",
          "text": [
            "Using TensorFlow backend.\n"
          ],
          "name": "stderr"
        },
        {
          "output_type": "stream",
          "text": [
            "Loading model...\n",
            "WARNING:tensorflow:From /usr/local/lib/python3.6/dist-packages/tensorflow/python/framework/op_def_library.py:263: colocate_with (from tensorflow.python.framework.ops) is deprecated and will be removed in a future version.\n",
            "Instructions for updating:\n",
            "Colocations handled automatically by placer.\n",
            "\n",
            " Model loaded\n"
          ],
          "name": "stdout"
        }
      ]
    },
    {
      "cell_type": "markdown",
      "metadata": {
        "id": "B7onxaGG9YbD",
        "colab_type": "text"
      },
      "source": [
        "##Modify functions to run from zips"
      ]
    },
    {
      "cell_type": "code",
      "metadata": {
        "id": "XeQ00gUafZp9",
        "colab_type": "code",
        "colab": {}
      },
      "source": [
        "def check_if_processed(output_folder,depth_zip,files):\n",
        "  with ZipFile(output_folder + depth_zip, 'r') as dzip:\n",
        "    img_list_depth = dzip.namelist()\n",
        "  dzip.close()\n",
        "  files=list(set(files) - set(img_list_depth))\n",
        "  return files\n",
        "\n",
        "def load_images_zip(zfile,img_files,scale=4):\n",
        "  names=[]\n",
        "  scaled=[]\n",
        "  for img in img_files:\n",
        "    filename = img.split('/')[-1]\n",
        "    names.append(filename)\n",
        "    with ZipFile(zfile, 'r') as zip_files:\n",
        "      image_data = zip_files.read(img)\n",
        "    zip_files.close()\n",
        "\n",
        "    img = io.BytesIO(image_data)\n",
        "    x = np.clip(np.asarray(Image.open(img), dtype=float) / 255, 0, 1)\n",
        "    output_shape = (scale * x.shape[0], scale * x.shape[1])\n",
        "    scaled.append(resize(x, output_shape, order=1, preserve_range=True, mode='reflect', anti_aliasing=True))\n",
        "\n",
        "  return np.stack(scaled),names\n",
        "\n",
        "def savedata_zip(outputs, names, depth_zip, output_folder='../images/fg_bg_depth/'):\n",
        "  plasma = plt.get_cmap('gray')\n",
        "  output_copy = outputs.copy()\n",
        "  for i,filename in enumerate(names):\n",
        "    with ZipFile(output_folder+depth_zip, 'a') as dzip:\n",
        "      rescaled = output_copy[i][:, :, 0]\n",
        "      rescaled = rescaled - np.min(rescaled)\n",
        "      rescaled = rescaled / np.max(rescaled)\n",
        "      matplotlib_image = plt.imshow(plasma(rescaled)[:, :, :3])\n",
        "\n",
        "      pil_image = Image.fromarray(np.uint8((matplotlib_image.get_array() * 255))).convert(\"L\").resize((224, 224))\n",
        "      pil_image.save(os.path.join(output_folder, 'depth_temp.jpg'))\n",
        "      dzip.write(output_folder + 'depth_temp.jpg', filename)\n",
        "      plt.close()\n",
        "        \n",
        "      del matplotlib_image\n",
        "    dzip.close()\n",
        "  del output_copy\n",
        "\n",
        "def test(model, output_folder, zfile,zip_exists,img_list):\n",
        "  zip_file_name=zfile.split('/')[-1]\n",
        "  stp=250\n",
        "  for i in range(0,4000,stp):\n",
        "    gc.collect()\n",
        "    files=img_list[i:i+stp]\n",
        "    if zip_exists:\n",
        "      files=check_if_processed(output_folder,zip_file_name,files)\n",
        "    if len(files)>0:\n",
        "      inputs,names = load_images_zip(zfile,files)\n",
        "      print('Predicting..')\n",
        "      outputs = predict(model, inputs, batch_size= 5)\n",
        "      del inputs\n",
        "      savedata_zip(outputs, names, depth_zip=zip_file_name, output_folder='../images/fg_bg_depth/')\n",
        "      print('Saved idx: '+str(i)+','+str(i+stp))\n",
        "      del outputs\n",
        "      del names"
      ],
      "execution_count": null,
      "outputs": []
    },
    {
      "cell_type": "markdown",
      "metadata": {
        "id": "TO24J3X39gMZ",
        "colab_type": "text"
      },
      "source": [
        "##Create Depth images"
      ]
    },
    {
      "cell_type": "code",
      "metadata": {
        "id": "S-YWrwUmfhCr",
        "colab_type": "code",
        "colab": {
          "base_uri": "https://localhost:8080/",
          "height": 1000
        },
        "outputId": "3b2bcf94-1750-46c3-ef19-87f5208716b0"
      },
      "source": [
        "args_input_zip='../images/fg_bg/*.zip'\n",
        "args_output='../images/fg_bg_depth/'\n",
        "\n",
        "zip_files = glob.glob(args_input_zip)\n",
        "assert (len(zip_files) == 100)\n",
        "print(str(len(zip_files)) + ' bg zips')\n",
        "\n",
        "for zfile in zip_files:\n",
        "  gc.collect()\n",
        "  fname=args_output + zfile.split('/')[-1]\n",
        "  my_file = Path(fname)\n",
        "  if my_file.is_file():\n",
        "    with ZipFile(fname, 'r') as dzip:\n",
        "      img_list_depth = dzip.namelist()\n",
        "    dzip.close()\n",
        "    if len(img_list_depth) == 4000:\n",
        "      zip_exists=None \n",
        "    else:\n",
        "      zip_exists = True\n",
        "  else:\n",
        "    zip_exists = False\n",
        "  \n",
        "  if zip_exists is not None:\n",
        "    print(\"\\nProcessing zip: \" + zfile.split('/')[-1])\n",
        "    with ZipFile(zfile, 'r') as fg_bg:\n",
        "      img_list = fg_bg.namelist()\n",
        "    fg_bg.close()\n",
        "    assert (len(img_list) == 4000)\n",
        "    test(model, args_output, zfile, zip_exists,img_list)\n",
        "  else:\n",
        "    print(zfile + ' : zip already processed')"
      ],
      "execution_count": null,
      "outputs": [
        {
          "output_type": "stream",
          "text": [
            "100 bg zips\n",
            "../images/fg_bg/bg001.zip : zip already processed\n",
            "../images/fg_bg/bg002.zip : zip already processed\n",
            "../images/fg_bg/bg003.zip : zip already processed\n",
            "../images/fg_bg/bg037.zip : zip already processed\n",
            "../images/fg_bg/bg038.zip : zip already processed\n",
            "../images/fg_bg/bg039.zip : zip already processed\n",
            "../images/fg_bg/bg040.zip : zip already processed\n",
            "../images/fg_bg/bg041.zip : zip already processed\n",
            "../images/fg_bg/bg042.zip : zip already processed\n",
            "../images/fg_bg/bg043.zip : zip already processed\n",
            "../images/fg_bg/bg044.zip : zip already processed\n",
            "../images/fg_bg/bg045.zip : zip already processed\n",
            "../images/fg_bg/bg046.zip : zip already processed\n",
            "../images/fg_bg/bg047.zip : zip already processed\n",
            "../images/fg_bg/bg048.zip : zip already processed\n",
            "../images/fg_bg/bg049.zip : zip already processed\n",
            "../images/fg_bg/bg050.zip : zip already processed\n",
            "../images/fg_bg/bg051.zip : zip already processed\n",
            "../images/fg_bg/bg052.zip : zip already processed\n",
            "../images/fg_bg/bg053.zip : zip already processed\n",
            "../images/fg_bg/bg054.zip : zip already processed\n",
            "../images/fg_bg/bg055.zip : zip already processed\n",
            "../images/fg_bg/bg056.zip : zip already processed\n",
            "../images/fg_bg/bg057.zip : zip already processed\n",
            "../images/fg_bg/bg058.zip : zip already processed\n",
            "../images/fg_bg/bg059.zip : zip already processed\n",
            "../images/fg_bg/bg060.zip : zip already processed\n",
            "../images/fg_bg/bg061.zip : zip already processed\n",
            "../images/fg_bg/bg062.zip : zip already processed\n",
            "../images/fg_bg/bg063.zip : zip already processed\n",
            "../images/fg_bg/bg064.zip : zip already processed\n",
            "../images/fg_bg/bg065.zip : zip already processed\n",
            "../images/fg_bg/bg066.zip : zip already processed\n",
            "../images/fg_bg/bg067.zip : zip already processed\n",
            "../images/fg_bg/bg068.zip : zip already processed\n",
            "../images/fg_bg/bg069.zip : zip already processed\n",
            "../images/fg_bg/bg070.zip : zip already processed\n",
            "../images/fg_bg/bg071.zip : zip already processed\n",
            "../images/fg_bg/bg072.zip : zip already processed\n",
            "../images/fg_bg/bg073.zip : zip already processed\n",
            "../images/fg_bg/bg074.zip : zip already processed\n",
            "../images/fg_bg/bg075.zip : zip already processed\n",
            "../images/fg_bg/bg076.zip : zip already processed\n",
            "../images/fg_bg/bg077.zip : zip already processed\n",
            "../images/fg_bg/bg078.zip : zip already processed\n",
            "../images/fg_bg/bg079.zip : zip already processed\n",
            "../images/fg_bg/bg080.zip : zip already processed\n",
            "../images/fg_bg/bg081.zip : zip already processed\n",
            "../images/fg_bg/bg082.zip : zip already processed\n",
            "../images/fg_bg/bg083.zip : zip already processed\n",
            "../images/fg_bg/bg084.zip : zip already processed\n",
            "../images/fg_bg/bg085.zip : zip already processed\n",
            "../images/fg_bg/bg086.zip : zip already processed\n",
            "../images/fg_bg/bg087.zip : zip already processed\n",
            "../images/fg_bg/bg088.zip : zip already processed\n",
            "../images/fg_bg/bg089.zip : zip already processed\n",
            "../images/fg_bg/bg090.zip : zip already processed\n",
            "../images/fg_bg/bg091.zip : zip already processed\n",
            "../images/fg_bg/bg092.zip : zip already processed\n",
            "../images/fg_bg/bg093.zip : zip already processed\n",
            "../images/fg_bg/bg094.zip : zip already processed\n",
            "../images/fg_bg/bg095.zip : zip already processed\n",
            "../images/fg_bg/bg096.zip : zip already processed\n",
            "../images/fg_bg/bg097.zip : zip already processed\n",
            "../images/fg_bg/bg098.zip : zip already processed\n",
            "../images/fg_bg/bg099.zip : zip already processed\n",
            "../images/fg_bg/bg100.zip : zip already processed\n",
            "../images/fg_bg/bg004.zip : zip already processed\n",
            "../images/fg_bg/bg005.zip : zip already processed\n",
            "../images/fg_bg/bg006.zip : zip already processed\n",
            "../images/fg_bg/bg007.zip : zip already processed\n",
            "../images/fg_bg/bg008.zip : zip already processed\n",
            "../images/fg_bg/bg009.zip : zip already processed\n",
            "../images/fg_bg/bg010.zip : zip already processed\n",
            "../images/fg_bg/bg011.zip : zip already processed\n",
            "../images/fg_bg/bg012.zip : zip already processed\n",
            "../images/fg_bg/bg013.zip : zip already processed\n",
            "../images/fg_bg/bg014.zip : zip already processed\n",
            "../images/fg_bg/bg015.zip : zip already processed\n",
            "../images/fg_bg/bg016.zip : zip already processed\n",
            "../images/fg_bg/bg017.zip : zip already processed\n",
            "../images/fg_bg/bg018.zip : zip already processed\n",
            "../images/fg_bg/bg019.zip : zip already processed\n",
            "../images/fg_bg/bg020.zip : zip already processed\n",
            "../images/fg_bg/bg021.zip : zip already processed\n",
            "../images/fg_bg/bg022.zip : zip already processed\n",
            "../images/fg_bg/bg023.zip : zip already processed\n",
            "../images/fg_bg/bg024.zip : zip already processed\n",
            "../images/fg_bg/bg025.zip : zip already processed\n",
            "../images/fg_bg/bg026.zip : zip already processed\n",
            "../images/fg_bg/bg027.zip : zip already processed\n",
            "../images/fg_bg/bg028.zip : zip already processed\n",
            "../images/fg_bg/bg029.zip : zip already processed\n",
            "../images/fg_bg/bg030.zip : zip already processed\n",
            "../images/fg_bg/bg031.zip : zip already processed\n",
            "../images/fg_bg/bg032.zip : zip already processed\n",
            "../images/fg_bg/bg033.zip : zip already processed\n",
            "../images/fg_bg/bg034.zip : zip already processed\n",
            "../images/fg_bg/bg035.zip : zip already processed\n",
            "../images/fg_bg/bg036.zip : zip already processed\n"
          ],
          "name": "stdout"
        }
      ]
    }
  ]
}