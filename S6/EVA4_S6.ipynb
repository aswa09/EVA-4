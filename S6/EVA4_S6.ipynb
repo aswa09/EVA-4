{
  "nbformat": 4,
  "nbformat_minor": 0,
  "metadata": {
    "colab": {
      "name": "EVA4_S6.ipynb",
      "provenance": [],
      "collapsed_sections": [],
      "machine_shape": "hm",
      "include_colab_link": true
    },
    "kernelspec": {
      "name": "python3",
      "display_name": "Python 3"
    },
    "accelerator": "GPU"
  },
  "cells": [
    {
      "cell_type": "markdown",
      "metadata": {
        "id": "view-in-github",
        "colab_type": "text"
      },
      "source": [
        "<a href=\"https://colab.research.google.com/github/aswa09/EVA-4/blob/master/S6/EVA4_S6.ipynb\" target=\"_parent\"><img src=\"https://colab.research.google.com/assets/colab-badge.svg\" alt=\"Open In Colab\"/></a>"
      ]
    },
    {
      "cell_type": "markdown",
      "metadata": {
        "id": "aO-7t1Y7-hV4",
        "colab_type": "text"
      },
      "source": [
        "#Import Libraries"
      ]
    },
    {
      "cell_type": "code",
      "metadata": {
        "id": "8kH16rnZ7wt_",
        "colab_type": "code",
        "colab": {}
      },
      "source": [
        "from __future__ import print_function\n",
        "import torch\n",
        "import torch.nn as nn\n",
        "import torch.nn.functional as F\n",
        "import torch.optim as optim\n",
        "from torchvision import datasets, transforms\n",
        "import matplotlib.pyplot as plt\n",
        "import sys\n",
        "import numpy as np"
      ],
      "execution_count": 0,
      "outputs": []
    },
    {
      "cell_type": "markdown",
      "metadata": {
        "id": "6ZSy2N_b5IPN",
        "colab_type": "text"
      },
      "source": [
        "## Get Train and Test data"
      ]
    },
    {
      "cell_type": "code",
      "metadata": {
        "id": "QP9vmCUb5Kzm",
        "colab_type": "code",
        "colab": {}
      },
      "source": [
        "def get_train_test():\n",
        "    ##Train Phase transformations\n",
        "    train_transforms = transforms.Compose([\n",
        "        #  transforms.Resize((28, 28)),\n",
        "        #  transforms.ColorJitter(brightness=0.10, contrast=0.1, saturation=0.10, hue=0.1),\n",
        "        transforms.RandomRotation((-5.0, 5.0), fill=(1,)),\n",
        "        transforms.ToTensor(),\n",
        "        transforms.Normalize((0.1307,), (0.3081,))\n",
        "        # The mean and std have to be sequences (e.g., tuples), therefore you should add a comma after the values. \n",
        "        # Note the difference between (0.1307) and (0.1307,)\n",
        "    ])\n",
        "\n",
        "    ##Test Phase transformations\n",
        "    test_transforms = transforms.Compose([\n",
        "        #  transforms.Resize((28, 28)),\n",
        "        #  transforms.ColorJitter(brightness=0.10, contrast=0.1, saturation=0.10, hue=0.1),\n",
        "        transforms.ToTensor(),\n",
        "        transforms.Normalize((0.1307,), (0.3081,))\n",
        "    ])\n",
        "    ##Dataset and creating train/test split\n",
        "    train = datasets.MNIST('./data', train=True, download=True, transform=train_transforms)\n",
        "    test = datasets.MNIST('./data', train=False, download=True, transform=test_transforms)\n",
        "\n",
        "    ##Dataloader Arguments & Test/Train Dataloaders\n",
        "    SEED = 1\n",
        "\n",
        "    # CUDA?\n",
        "    cuda = torch.cuda.is_available()\n",
        "    print(\"CUDA Available?\", cuda)\n",
        "\n",
        "    # For reproducibility\n",
        "    torch.manual_seed(SEED)\n",
        "\n",
        "    if cuda:\n",
        "        torch.cuda.manual_seed(SEED)\n",
        "\n",
        "    # dataloader arguments - something you'll fetch these from cmdprmt\n",
        "    dataloader_args = dict(shuffle=True, batch_size=64, num_workers=4, pin_memory=True) if cuda else dict(shuffle=True,\n",
        "                                                                                                          batch_size=64)\n",
        "\n",
        "    # train dataloader\n",
        "    train_loader = torch.utils.data.DataLoader(train, **dataloader_args)\n",
        "\n",
        "    # test dataloader\n",
        "    test_loader = torch.utils.data.DataLoader(test, **dataloader_args)\n",
        "\n",
        "    return train_loader, test_loader, test\n"
      ],
      "execution_count": 0,
      "outputs": []
    },
    {
      "cell_type": "markdown",
      "metadata": {
        "id": "kS_NIR-bI2m_",
        "colab_type": "text"
      },
      "source": [
        "##Ghost Batch Normalisation Class"
      ]
    },
    {
      "cell_type": "code",
      "metadata": {
        "id": "9Yk_u2iQI4G5",
        "colab_type": "code",
        "colab": {}
      },
      "source": [
        "class BatchNorm(nn.BatchNorm2d):\n",
        "    def __init__(self, num_features, eps=1e-05, momentum=0.1, weight=True, bias=True):\n",
        "        super().__init__(num_features, eps=eps, momentum=momentum)\n",
        "        self.weight.data.fill_(1.0)\n",
        "        self.bias.data.fill_(0.0)\n",
        "        self.weight.requires_grad = weight\n",
        "        self.bias.requires_grad = bias\n",
        "\n",
        "class GhostBatchNorm(BatchNorm):\n",
        "    def __init__(self, num_features, num_splits, **kw):\n",
        "        super().__init__(num_features, **kw)\n",
        "        self.num_splits = num_splits\n",
        "        self.register_buffer('running_mean', torch.zeros(num_features * self.num_splits))\n",
        "        self.register_buffer('running_var', torch.ones(num_features * self.num_splits))\n",
        "\n",
        "    def train(self, mode=True):\n",
        "        if (self.training is True) and (mode is False):  # lazily collate stats when we are going to use them\n",
        "            self.running_mean = torch.mean(self.running_mean.view(self.num_splits, self.num_features), dim=0).repeat(\n",
        "                self.num_splits)\n",
        "            self.running_var = torch.mean(self.running_var.view(self.num_splits, self.num_features), dim=0).repeat(\n",
        "                self.num_splits)\n",
        "        return super().train(mode)\n",
        "\n",
        "    def forward(self, input):\n",
        "      try:\n",
        "        N, C, H, W = input.shape\n",
        "        if self.training or not self.track_running_stats:\n",
        "            return F.batch_norm(\n",
        "                input.view(-1, C * self.num_splits, H, W), self.running_mean, self.running_var,\n",
        "                self.weight.repeat(self.num_splits), self.bias.repeat(self.num_splits),\n",
        "                True, self.momentum, self.eps).view(N, C, H, W)\n",
        "        else:\n",
        "            return F.batch_norm(\n",
        "                input, self.running_mean[:self.num_features], self.running_var[:self.num_features],\n",
        "                self.weight, self.bias, False, self.momentum, self.eps)\n",
        "      except Exception as e:\n",
        "        raise Exception('GBN: Error on line {}'.format(sys.exc_info()[-1].tb_lineno) + \" \" + type(e).__name__ + \" \" + str(e))\n",
        "        sys.exit(1)"
      ],
      "execution_count": 0,
      "outputs": []
    },
    {
      "cell_type": "markdown",
      "metadata": {
        "id": "ubQL3H6RJL3h",
        "colab_type": "text"
      },
      "source": [
        "#Base Model"
      ]
    },
    {
      "cell_type": "code",
      "metadata": {
        "id": "7FXQlB9kH1ov",
        "colab_type": "code",
        "colab": {}
      },
      "source": [
        "class Net(nn.Module):\n",
        "    def __init__(self, requiredBN, requiredGBN):\n",
        "        super(Net, self).__init__()\n",
        "        self.requiredBN = requiredBN\n",
        "        self.requiredGBN = requiredGBN\n",
        "\n",
        "        self.convblock1 = nn.Sequential(\n",
        "            nn.Conv2d(in_channels=1, out_channels=10, kernel_size=(3, 3), padding=0),\n",
        "            nn.ReLU(),\n",
        "            nn.Dropout(0.1)\n",
        "        )\n",
        "\n",
        "        if self.requiredBN is True:\n",
        "            self.BN1 = nn.BatchNorm2d(10)\n",
        "        if self.requiredGBN is True:\n",
        "            self.GBN1 = GhostBatchNorm(num_features=10, num_splits=2)\n",
        "\n",
        "        self.convblock2 = nn.Sequential(\n",
        "            nn.Conv2d(in_channels=10, out_channels=10, kernel_size=(3, 3), padding=0),\n",
        "            nn.ReLU(),\n",
        "            nn.Dropout(0.1)\n",
        "        )\n",
        "\n",
        "        if self.requiredBN is True:\n",
        "            self.BN2 = nn.BatchNorm2d(10)\n",
        "        if self.requiredGBN is True:\n",
        "            self.GBN2 = GhostBatchNorm(num_features=10, num_splits=2)\n",
        "\n",
        "        self.pool1 = nn.MaxPool2d(2, 2)\n",
        "\n",
        "        self.convblock3 = nn.Sequential(\n",
        "            nn.Conv2d(in_channels=10, out_channels=16, kernel_size=(3, 3), padding=0),\n",
        "            nn.ReLU(),\n",
        "            nn.Dropout(0.1)\n",
        "        )\n",
        "\n",
        "        if self.requiredBN is True:\n",
        "            self.BN3 = nn.BatchNorm2d(16)\n",
        "        if self.requiredGBN is True:\n",
        "            self.GBN3 = GhostBatchNorm(num_features=16, num_splits=2)\n",
        "\n",
        "        self.convblock4 = nn.Sequential(\n",
        "            nn.Conv2d(in_channels=16, out_channels=16, kernel_size=(3, 3), padding=1),\n",
        "            nn.ReLU(),\n",
        "            nn.Dropout(0.1)\n",
        "        )\n",
        "\n",
        "        if self.requiredBN is True:\n",
        "            self.BN4 = nn.BatchNorm2d(16)\n",
        "        if self.requiredGBN is True:\n",
        "            self.GBN4 = GhostBatchNorm(num_features=16, num_splits=2)\n",
        "\n",
        "        self.pool2 = nn.MaxPool2d(2, 2)\n",
        "\n",
        "        self.convblock5 = nn.Sequential(\n",
        "            nn.Conv2d(in_channels=16, out_channels=16, kernel_size=(3, 3), padding=1),\n",
        "            nn.ReLU(),\n",
        "            nn.Dropout(0.1)\n",
        "        )\n",
        "\n",
        "        if self.requiredBN is True:\n",
        "            self.BN5 = nn.BatchNorm2d(16)\n",
        "        if self.requiredGBN is True:\n",
        "            self.GBN5 = GhostBatchNorm(num_features=16, num_splits=2)\n",
        "\n",
        "        self.convblock6 = nn.Sequential(\n",
        "            nn.Conv2d(in_channels=16, out_channels=10, kernel_size=(3, 3), padding=0),\n",
        "            nn.ReLU(),\n",
        "            nn.Dropout(0.1)\n",
        "        )\n",
        "\n",
        "        if self.requiredBN is True:\n",
        "            self.BN6 = nn.BatchNorm2d(10)\n",
        "        if self.requiredGBN is True:\n",
        "            self.GBN6 = GhostBatchNorm(num_features=10, num_splits=2)\n",
        "\n",
        "        self.convblock7 = nn.Conv2d(in_channels=10, out_channels=10, kernel_size=(3, 3), padding=0)\n",
        "\n",
        "    def forward(self, x):\n",
        "      try:\n",
        "        x = self.convblock1(x)\n",
        "        if self.requiredBN is True:\n",
        "            x = self.BN1(x)\n",
        "        if self.requiredGBN is True:\n",
        "            x = self.GBN1(x)\n",
        "\n",
        "        x = self.convblock2(x)\n",
        "        if self.requiredBN is True:\n",
        "            x = self.BN2(x)\n",
        "        if self.requiredGBN is True:\n",
        "            x = self.GBN2(x)\n",
        "\n",
        "        x = self.pool1(x)\n",
        "\n",
        "        x = self.convblock3(x)\n",
        "        if self.requiredBN is True:\n",
        "            x = self.BN3(x)\n",
        "        if self.requiredGBN is True:\n",
        "            x = self.GBN3(x)\n",
        "\n",
        "        x = self.convblock4(x)\n",
        "        if self.requiredBN is True:\n",
        "            x = self.BN4(x)\n",
        "        if self.requiredGBN is True:\n",
        "            x = self.GBN4(x)\n",
        "\n",
        "        x = self.pool2(x)\n",
        "\n",
        "        x = self.convblock5(x)\n",
        "        if self.requiredBN is True:\n",
        "            x = self.BN5(x)\n",
        "        if self.requiredGBN is True:\n",
        "            x = self.GBN5(x)\n",
        "\n",
        "        x = self.convblock6(x)\n",
        "        if self.requiredBN is True:\n",
        "            x = self.BN6(x)\n",
        "        if self.requiredGBN is True:\n",
        "            x = self.GBN6(x)\n",
        "\n",
        "        x = self.convblock7(x)\n",
        "\n",
        "        x = x.view(-1, 10)\n",
        "        return F.log_softmax(x, dim=-1)\n",
        "      except Exception as e:\n",
        "        raise Exception('Base Model: Error on line {}'.format(sys.exc_info()[-1].tb_lineno) + \" \" + type(e).__name__ + \" \" + str(e))\n",
        "        sys.exit(1)"
      ],
      "execution_count": 0,
      "outputs": []
    },
    {
      "cell_type": "markdown",
      "metadata": {
        "id": "km3G5XUxahYT",
        "colab_type": "text"
      },
      "source": [
        "#L1 Regularization"
      ]
    },
    {
      "cell_type": "code",
      "metadata": {
        "id": "3mMbSgDt0LOC",
        "colab_type": "code",
        "colab": {}
      },
      "source": [
        "def l1_regularization(model, factor=0.0005):\n",
        "  try:\n",
        "    # l1_crit = nn.L1Loss(size_average=False)\n",
        "    reg_loss = 0\n",
        "    for param in model.parameters():\n",
        "        reg_loss += torch.sum(param.abs()) #l1_crit(param)\n",
        "    loss = factor * reg_loss\n",
        "    \n",
        "  except Exception as e:\n",
        "        print('L1: Error on line {}'.format(sys.exc_info()[-1].tb_lineno) + \" \" + type(e).__name__ + \" \" + str(e))\n",
        "        sys.exit(1)\n",
        "  return loss"
      ],
      "execution_count": 0,
      "outputs": []
    },
    {
      "cell_type": "markdown",
      "metadata": {
        "id": "1__x_SbrL7z3",
        "colab_type": "text"
      },
      "source": [
        "# Training"
      ]
    },
    {
      "cell_type": "code",
      "metadata": {
        "id": "fbkF2nN_LYIb",
        "colab_type": "code",
        "colab": {}
      },
      "source": [
        "def train(model, device, train_loader, optimizer, epoch, reg_l1=False, l1_lambda=0.0005):\n",
        "    from tqdm import tqdm\n",
        "    try:\n",
        "\n",
        "      model.train()\n",
        "      pbar = tqdm(train_loader)\n",
        "      correct = 0\n",
        "      processed = 0\n",
        "      batch_train_losses = []\n",
        "      batch_train_acc = []\n",
        "\n",
        "      for batch_idx, (data, target) in enumerate(pbar):\n",
        "          # get samples\n",
        "          data, target = data.to(device), target.to(device)\n",
        "\n",
        "          # Init\n",
        "          optimizer.zero_grad()\n",
        "          # In PyTorch, we need to set the gradients to zero before starting to do backpropragation because PyTorch accumulates the gradients on subsequent backward passes. \n",
        "          # Because of this, when you start your training loop, ideally you should zero out the gradients so that you do the parameter update correctly.\n",
        "\n",
        "          # Predict\n",
        "          y_pred = model(data)\n",
        "\n",
        "          # Calculate loss\n",
        "          loss = F.nll_loss(y_pred, target)\n",
        "          # batch_train_losses.append(loss)\n",
        "\n",
        "          # if chosed regularisation is L1\n",
        "          if reg_l1 is True:\n",
        "              loss = loss + l1_regularization(model, l1_lambda)\n",
        "          batch_train_losses.append(loss)\n",
        "\n",
        "          # Backpropagation\n",
        "          loss.backward()\n",
        "          optimizer.step()\n",
        "\n",
        "          # Update pbar-tqdm\n",
        "          pred = y_pred.argmax(dim=1, keepdim=True)  # get the index of the max log-probability\n",
        "          correct += pred.eq(target.view_as(pred)).sum().item()\n",
        "          processed += len(data)\n",
        "\n",
        "          pbar.set_description(desc=f'Loss={loss.item()} Batch_id={batch_idx} Accuracy={100 * correct / processed:0.2f}')\n",
        "          batch_train_acc.append(100 * correct / processed)\n",
        "\n",
        "    except Exception as e:\n",
        "      print('Train: Error on line {}'.format(sys.exc_info()[-1].tb_lineno) + \" \" + type(e).__name__ + \" \" + str(e))\n",
        "      sys.exit(1)\n",
        "\n",
        "    return batch_train_losses, batch_train_acc"
      ],
      "execution_count": 0,
      "outputs": []
    },
    {
      "cell_type": "markdown",
      "metadata": {
        "id": "MiqOp1a0adwv",
        "colab_type": "text"
      },
      "source": [
        "##Testing"
      ]
    },
    {
      "cell_type": "code",
      "metadata": {
        "id": "zDOio1xcaer4",
        "colab_type": "code",
        "colab": {}
      },
      "source": [
        "def test(model, device, test_loader):\n",
        "  try:\n",
        "    model.eval()\n",
        "    test_loss = 0\n",
        "    correct = 0\n",
        "    test_losses = []\n",
        "    test_acc = []\n",
        "\n",
        "    with torch.no_grad():\n",
        "        for data, target in test_loader:\n",
        "            data, target = data.to(device), target.to(device)\n",
        "            output = model(data)\n",
        "            test_loss += F.nll_loss(output, target, reduction='sum').item()  # sum up batch loss\n",
        "            pred = output.argmax(dim=1, keepdim=True)  # get the index of the max log-probability\n",
        "            correct += pred.eq(target.view_as(pred)).sum().item()\n",
        "\n",
        "    test_loss /= len(test_loader.dataset)\n",
        "    test_losses.append(test_loss)\n",
        "\n",
        "    print('\\nTest set: Average loss: {:.4f}, Accuracy: {}/{} ({:.2f}%)\\n'.format(\n",
        "        test_loss, correct, len(test_loader.dataset),\n",
        "        100. * correct / len(test_loader.dataset)))\n",
        "\n",
        "    test_acc.append(100. * correct / len(test_loader.dataset))\n",
        "  except Exception as e:\n",
        "        print('Test: Error on line {}'.format(sys.exc_info()[-1].tb_lineno) + \" \" + type(e).__name__ + \" \" + str(e))\n",
        "        sys.exit(1)\n",
        "\n",
        "  return test_losses, test_acc"
      ],
      "execution_count": 0,
      "outputs": []
    },
    {
      "cell_type": "markdown",
      "metadata": {
        "id": "E-nAXFklildH",
        "colab_type": "text"
      },
      "source": [
        "##Plotting Misclassified images for a model"
      ]
    },
    {
      "cell_type": "code",
      "metadata": {
        "id": "dotbfvhu-PIt",
        "colab_type": "code",
        "colab": {}
      },
      "source": [
        "def plot_misclassified_images(model, filename, device, test_loader,fig_title,batch_size):\n",
        "  try:\n",
        "    model = model.to(device)\n",
        "    # obtain one batch of test images\n",
        "    data_iterator = iter(test_loader)\n",
        "    count = 0\n",
        "    fig = plt.figure(figsize=(15, 15))\n",
        "    fig.suptitle(fig_title, fontsize=18)\n",
        "    while count < 25:\n",
        "        images, labels = data_iterator.next()\n",
        "        images, labels = images.to(device), labels.to(device)\n",
        "        output = model(images)\n",
        "\n",
        "        _, predictions = torch.max(output, 1)\n",
        "        images = images.cpu().numpy()\n",
        "\n",
        "        for idx in np.arange(batch_size):\n",
        "            if predictions[idx] != labels[idx]:\n",
        "                ax = fig.add_subplot(5, 5, count + 1, xticks=[], yticks=[])\n",
        "                ax.imshow(np.squeeze(images[idx]), cmap='gray_r')\n",
        "                ax.set_title(\"Predicted-{},Actual-{}\".format(str(predictions[idx].item()), str(labels[idx].item())),\n",
        "                             color=\"black\")\n",
        "\n",
        "                count = count + 1\n",
        "                if count == 25:\n",
        "                    break\n",
        "    print('\\n\\n\\n\\n')                \n",
        "    plt.savefig(filename)\n",
        "    plt.show()\n",
        "  except Exception as e:\n",
        "        print('Misclassification plot: Error on line {}'.format(sys.exc_info()[-1].tb_lineno) + \" \" + type(e).__name__ + \" \" + str(e))\n",
        "        sys.exit(1)"
      ],
      "execution_count": 0,
      "outputs": []
    },
    {
      "cell_type": "markdown",
      "metadata": {
        "id": "hITboXc61ZX6",
        "colab_type": "text"
      },
      "source": [
        "#Plotting Test Accuracies and Test Losses"
      ]
    },
    {
      "cell_type": "code",
      "metadata": {
        "id": "89s8v8M1-Q-_",
        "colab_type": "code",
        "colab": {}
      },
      "source": [
        "# %matplotlib inline\n",
        "def plot_acc_loss(test_losses, test_acc, num_conditions):\n",
        "  \"\"\"\n",
        "  without L1/L2 with BN\n",
        "  without L1/L2 with GBN\n",
        "  with L1 with BN\n",
        "  with L1 with GBN\n",
        "  with L2 with BN\n",
        "  with L2 with GBN\n",
        "  with L1 and L2 with BN\n",
        "  with L1 and L2 with GBN\n",
        "  \"\"\"\n",
        "  try:\n",
        "  \n",
        "    fig, (ax1, ax2) = plt.subplots(2, figsize=(15,10))\n",
        "    fig.suptitle('Test Loss and Test Accuracy for the models', fontsize=16)\n",
        "    for i in range(0, num_conditions):\n",
        "        ax1.plot(test_losses[i])\n",
        "\n",
        "    ax1.set_title(\"Test Loss\")\n",
        "    ax1.legend(['Without L1/L2 with BN','Without L1/L2 with GBN','L1 With BN','L1 With GBN','L2 With BN','L2 With GBN','L1 & L2 With BN','L1 & L2 With GBN'], loc='best')\n",
        "\n",
        "    for i in range(0, num_conditions):\n",
        "        ax2.plot(test_acc[i])\n",
        "\n",
        "    ax2.set_title(\"Test Accuracy\")\n",
        "    ax2.legend(['Without L1/L2 with BN','Without L1/L2 with GBN','L1 With BN','L1 With GBN','L2 With BN','L2 With GBN','L1 & L2 With BN','L1 & L2 With GBN'], loc='best')\n",
        "\n",
        "    plt.savefig('acc_vs_loss.jpg')\n",
        "    plt.show()\n",
        "  except Exception as e:\n",
        "        print('Error on line {}'.format(sys.exc_info()[-1].tb_lineno) + \" \" + type(e).__name__ + \" \" + str(e))\n",
        "        sys.exit(1)"
      ],
      "execution_count": 0,
      "outputs": []
    },
    {
      "cell_type": "markdown",
      "metadata": {
        "id": "xfxSI_nn4tMv",
        "colab_type": "text"
      },
      "source": [
        "##Main function"
      ]
    },
    {
      "cell_type": "code",
      "metadata": {
        "id": "biCUqrzA4t-Q",
        "colab_type": "code",
        "colab": {}
      },
      "source": [
        "def main(conditions):\n",
        "    train_loader, test_loader, test_data = get_train_test()\n",
        "\n",
        "    !pip install torchsummary\n",
        "    from torchsummary import summary\n",
        "\n",
        "    use_cuda = torch.cuda.is_available()\n",
        "    device = torch.device(\"cuda\" if use_cuda else \"cpu\")\n",
        "    print(device)\n",
        "\n",
        "    EPOCHS = 25\n",
        "\n",
        "    main_train_losses = []\n",
        "    main_tr_acc = []\n",
        "    main_test_losses = []\n",
        "    main_test_acc = []\n",
        "\n",
        "    # WEIGHT_DECAY=1e-5\n",
        "\n",
        "    for i in range(1, len(conditions) + 1):\n",
        "        train_losses = []\n",
        "        tr_acc = []\n",
        "        test_losses = []\n",
        "        test_acc = []\n",
        "        cond = conditions['cond' + str(i)]\n",
        "        print('\\n\\t---------- ' + cond['condition'] + ' ----------\\n')\n",
        "\n",
        "        model = Net(cond['requiredBN'], cond['requiredGBN']).to(device)\n",
        "        # print(summary(model, input_size=(1, 28, 28)))\n",
        "        optimizer = optim.SGD(model.parameters(), lr=0.01, momentum=0.9, weight_decay=cond['wt_decay'])\n",
        "\n",
        "        for epoch in range(EPOCHS):\n",
        "            print(\"EPOCH:\", epoch)\n",
        "            # batch_train_losses,batch_train_acc\n",
        "            res_train_losses, res_train_acc = train(model, device, train_loader, optimizer, epoch,\n",
        "                                                    reg_l1=cond['req_L1'], l1_lambda=0.0005)\n",
        "            res_test_losses, res_test_acc = test(model, device, test_loader, )\n",
        "\n",
        "            train_losses.append(res_train_losses)\n",
        "            tr_acc.append(res_train_acc)\n",
        "            test_losses.append(res_test_losses)\n",
        "            test_acc.append(res_test_acc)\n",
        "\n",
        "        main_train_losses.append(train_losses)\n",
        "        main_tr_acc.append(tr_acc)\n",
        "        main_test_losses.append(test_losses)\n",
        "        main_test_acc.append(test_acc)\n",
        "\n",
        "        # print('----------model'+str(i)+'-------------')\n",
        "        # print(model)\n",
        "\n",
        "        torch.save(model.state_dict(), 'model' + str(i) + '.pth')\n",
        "\n",
        "    plot_acc_loss(main_test_losses, main_test_acc, len(conditions))\n",
        "\n",
        "    # \"without L1/L2 with BN\"\n",
        "    cond = conditions['cond1']\n",
        "    sample_model = Net(cond['requiredBN'], cond['requiredGBN']).to(device)\n",
        "    sample_model.load_state_dict(torch.load(\"model1.pth\"))  # ,strict=False)\n",
        "\n",
        "    plot_misclassified_images(sample_model, 'without_l1l2_with_bn.jpg', device, test_loader,fig_title='25 Misclassified images(model:without L1/L2 with BN)', batch_size=64)\n",
        "\n",
        "    #\"without L1/L2 with GBN\"\n",
        "    cond = conditions['cond2']\n",
        "    sample_model = Net(cond['requiredBN'], cond['requiredGBN']).to(device)\n",
        "    sample_model.load_state_dict(torch.load(\"model2.pth\"))  # ,strict=False)\n",
        "\n",
        "    plot_misclassified_images(sample_model, 'without_l1l2_with_gbn.jpg', device, test_loader,fig_title='25 Misclassified images(model:without L1/L2 with GBN)', batch_size=64)"
      ],
      "execution_count": 0,
      "outputs": []
    },
    {
      "cell_type": "markdown",
      "metadata": {
        "id": "dLVcFnNybtQU",
        "colab_type": "text"
      },
      "source": [
        "##Calling main"
      ]
    },
    {
      "cell_type": "code",
      "metadata": {
        "id": "9D8lmZbk83tk",
        "colab_type": "code",
        "outputId": "f78bb685-c584-4ada-d126-cf0e8907e19c",
        "colab": {
          "base_uri": "https://localhost:8080/",
          "height": 1000
        }
      },
      "source": [
        "if __name__ == '__main__':\n",
        "    \"\"\"\n",
        "    without L1/L2 with BN\n",
        "    without L1/L2 with GBN\n",
        "    with L1 with BN\n",
        "    with L1 with GBN\n",
        "    with L2 with BN\n",
        "    with L2 with GBN\n",
        "    with L1 and L2 with BN\n",
        "    with L1 and L2 with GBN\n",
        "    \"\"\"\n",
        "\n",
        "    conditions = {\n",
        "        'cond1': {\n",
        "            'condition': \"without L1/L2 with BN\",\n",
        "            'req_L1': False,\n",
        "            'req_L2': False,\n",
        "            'requiredBN': True,\n",
        "            'requiredGBN': False,\n",
        "            'wt_decay': 0\n",
        "        },\n",
        "        'cond2': {\n",
        "            'condition': \"without L1/L2 with GBN\",\n",
        "            'req_L1': False,\n",
        "            'req_L2': False,\n",
        "            'requiredBN': False,\n",
        "            'requiredGBN': True,\n",
        "            'wt_decay': 0.0001\n",
        "        },\n",
        "        'cond3': {\n",
        "            'condition': \"with L1 with BN\",\n",
        "            'req_L1': True,\n",
        "            'req_L2': False,\n",
        "            'requiredBN': True,\n",
        "            'requiredGBN': False,\n",
        "            'wt_decay': 0\n",
        "        },\n",
        "        'cond4': {\n",
        "            'condition': 'with L1 with GBN',\n",
        "            'req_L1': True,\n",
        "            'req_L2': False,\n",
        "            'requiredBN': False,\n",
        "            'requiredGBN': True,\n",
        "            'wt_decay': 0.0001\n",
        "        },\n",
        "        'cond5': {\n",
        "            'condition': 'with L2 with BN',\n",
        "            'req_L1': False,\n",
        "            'req_L2': True,\n",
        "            'requiredBN': True,\n",
        "            'requiredGBN': False,\n",
        "            'wt_decay': 0\n",
        "        },\n",
        "        'cond6': {\n",
        "            'condition': 'with L2 with GBN',\n",
        "            'req_L1': False,\n",
        "            'req_L2': True,\n",
        "            'requiredBN': False,\n",
        "            'requiredGBN': True,\n",
        "            'wt_decay': 0.0001\n",
        "        },\n",
        "        'cond7': {\n",
        "            'condition': 'with L1 and L2 with BN',\n",
        "            'req_L1': True,\n",
        "            'req_L2': True,\n",
        "            'requiredBN': True,\n",
        "            'requiredGBN': False,\n",
        "            'wt_decay': 0\n",
        "        },\n",
        "        'cond8': {\n",
        "            'condition': 'with L1 and L2 with GBN',\n",
        "            'req_L1': True,\n",
        "            'req_L2': True,\n",
        "            'requiredBN': False,\n",
        "            'requiredGBN': True,\n",
        "            'wt_decay': 0.0001\n",
        "        }\n",
        "    }\n",
        "\n",
        "    main(conditions)"
      ],
      "execution_count": 12,
      "outputs": [
        {
          "output_type": "stream",
          "text": [
            "CUDA Available? True\n",
            "Requirement already satisfied: torchsummary in /usr/local/lib/python3.6/dist-packages (1.5.1)\n",
            "cuda\n",
            "\n",
            "\t---------- without L1/L2 with BN ----------\n",
            "\n"
          ],
          "name": "stdout"
        },
        {
          "output_type": "stream",
          "text": [
            "\r  0%|          | 0/938 [00:00<?, ?it/s]"
          ],
          "name": "stderr"
        },
        {
          "output_type": "stream",
          "text": [
            "EPOCH: 0\n"
          ],
          "name": "stdout"
        },
        {
          "output_type": "stream",
          "text": [
            "Loss=0.00537659227848053 Batch_id=937 Accuracy=94.58: 100%|██████████| 938/938 [00:10<00:00, 93.46it/s]\n",
            "  0%|          | 0/938 [00:00<?, ?it/s]"
          ],
          "name": "stderr"
        },
        {
          "output_type": "stream",
          "text": [
            "\n",
            "Test set: Average loss: 0.0470, Accuracy: 9851/10000 (98.51%)\n",
            "\n",
            "EPOCH: 1\n"
          ],
          "name": "stdout"
        },
        {
          "output_type": "stream",
          "text": [
            "Loss=0.05546952784061432 Batch_id=937 Accuracy=97.68: 100%|██████████| 938/938 [00:10<00:00, 91.82it/s]\n",
            "  0%|          | 0/938 [00:00<?, ?it/s]"
          ],
          "name": "stderr"
        },
        {
          "output_type": "stream",
          "text": [
            "\n",
            "Test set: Average loss: 0.0449, Accuracy: 9849/10000 (98.49%)\n",
            "\n",
            "EPOCH: 2\n"
          ],
          "name": "stdout"
        },
        {
          "output_type": "stream",
          "text": [
            "Loss=0.09640760719776154 Batch_id=937 Accuracy=98.19: 100%|██████████| 938/938 [00:10<00:00, 92.64it/s]\n",
            "  0%|          | 0/938 [00:00<?, ?it/s]"
          ],
          "name": "stderr"
        },
        {
          "output_type": "stream",
          "text": [
            "\n",
            "Test set: Average loss: 0.0393, Accuracy: 9878/10000 (98.78%)\n",
            "\n",
            "EPOCH: 3\n"
          ],
          "name": "stdout"
        },
        {
          "output_type": "stream",
          "text": [
            "Loss=0.05329158902168274 Batch_id=937 Accuracy=98.36: 100%|██████████| 938/938 [00:10<00:00, 92.02it/s]\n",
            "  0%|          | 0/938 [00:00<?, ?it/s]"
          ],
          "name": "stderr"
        },
        {
          "output_type": "stream",
          "text": [
            "\n",
            "Test set: Average loss: 0.0277, Accuracy: 9910/10000 (99.10%)\n",
            "\n",
            "EPOCH: 4\n"
          ],
          "name": "stdout"
        },
        {
          "output_type": "stream",
          "text": [
            "Loss=0.16485249996185303 Batch_id=937 Accuracy=98.48: 100%|██████████| 938/938 [00:10<00:00, 92.92it/s]\n",
            "  0%|          | 0/938 [00:00<?, ?it/s]"
          ],
          "name": "stderr"
        },
        {
          "output_type": "stream",
          "text": [
            "\n",
            "Test set: Average loss: 0.0309, Accuracy: 9902/10000 (99.02%)\n",
            "\n",
            "EPOCH: 5\n"
          ],
          "name": "stdout"
        },
        {
          "output_type": "stream",
          "text": [
            "Loss=0.0665200799703598 Batch_id=937 Accuracy=98.62: 100%|██████████| 938/938 [00:09<00:00, 94.67it/s] \n",
            "  0%|          | 0/938 [00:00<?, ?it/s]"
          ],
          "name": "stderr"
        },
        {
          "output_type": "stream",
          "text": [
            "\n",
            "Test set: Average loss: 0.0281, Accuracy: 9919/10000 (99.19%)\n",
            "\n",
            "EPOCH: 6\n"
          ],
          "name": "stdout"
        },
        {
          "output_type": "stream",
          "text": [
            "Loss=0.11492542177438736 Batch_id=937 Accuracy=98.69: 100%|██████████| 938/938 [00:10<00:00, 93.37it/s]\n",
            "  0%|          | 0/938 [00:00<?, ?it/s]"
          ],
          "name": "stderr"
        },
        {
          "output_type": "stream",
          "text": [
            "\n",
            "Test set: Average loss: 0.0274, Accuracy: 9918/10000 (99.18%)\n",
            "\n",
            "EPOCH: 7\n"
          ],
          "name": "stdout"
        },
        {
          "output_type": "stream",
          "text": [
            "Loss=0.023269280791282654 Batch_id=937 Accuracy=98.77: 100%|██████████| 938/938 [00:10<00:00, 92.62it/s]\n",
            "  0%|          | 0/938 [00:00<?, ?it/s]"
          ],
          "name": "stderr"
        },
        {
          "output_type": "stream",
          "text": [
            "\n",
            "Test set: Average loss: 0.0231, Accuracy: 9928/10000 (99.28%)\n",
            "\n",
            "EPOCH: 8\n"
          ],
          "name": "stdout"
        },
        {
          "output_type": "stream",
          "text": [
            "Loss=0.010745137929916382 Batch_id=937 Accuracy=98.85: 100%|██████████| 938/938 [00:10<00:00, 92.00it/s]\n",
            "  0%|          | 0/938 [00:00<?, ?it/s]"
          ],
          "name": "stderr"
        },
        {
          "output_type": "stream",
          "text": [
            "\n",
            "Test set: Average loss: 0.0248, Accuracy: 9925/10000 (99.25%)\n",
            "\n",
            "EPOCH: 9\n"
          ],
          "name": "stdout"
        },
        {
          "output_type": "stream",
          "text": [
            "Loss=0.12870487570762634 Batch_id=937 Accuracy=98.83: 100%|██████████| 938/938 [00:10<00:00, 92.47it/s]\n",
            "  0%|          | 0/938 [00:00<?, ?it/s]"
          ],
          "name": "stderr"
        },
        {
          "output_type": "stream",
          "text": [
            "\n",
            "Test set: Average loss: 0.0234, Accuracy: 9928/10000 (99.28%)\n",
            "\n",
            "EPOCH: 10\n"
          ],
          "name": "stdout"
        },
        {
          "output_type": "stream",
          "text": [
            "Loss=0.009467214345932007 Batch_id=937 Accuracy=98.88: 100%|██████████| 938/938 [00:10<00:00, 92.35it/s]\n",
            "  0%|          | 0/938 [00:00<?, ?it/s]"
          ],
          "name": "stderr"
        },
        {
          "output_type": "stream",
          "text": [
            "\n",
            "Test set: Average loss: 0.0274, Accuracy: 9916/10000 (99.16%)\n",
            "\n",
            "EPOCH: 11\n"
          ],
          "name": "stdout"
        },
        {
          "output_type": "stream",
          "text": [
            "Loss=0.01768667995929718 Batch_id=937 Accuracy=98.94: 100%|██████████| 938/938 [00:10<00:00, 92.23it/s]\n",
            "  0%|          | 0/938 [00:00<?, ?it/s]"
          ],
          "name": "stderr"
        },
        {
          "output_type": "stream",
          "text": [
            "\n",
            "Test set: Average loss: 0.0242, Accuracy: 9927/10000 (99.27%)\n",
            "\n",
            "EPOCH: 12\n"
          ],
          "name": "stdout"
        },
        {
          "output_type": "stream",
          "text": [
            "Loss=0.007792264223098755 Batch_id=937 Accuracy=98.94: 100%|██████████| 938/938 [00:10<00:00, 91.96it/s]\n",
            "  0%|          | 0/938 [00:00<?, ?it/s]"
          ],
          "name": "stderr"
        },
        {
          "output_type": "stream",
          "text": [
            "\n",
            "Test set: Average loss: 0.0236, Accuracy: 9933/10000 (99.33%)\n",
            "\n",
            "EPOCH: 13\n"
          ],
          "name": "stdout"
        },
        {
          "output_type": "stream",
          "text": [
            "Loss=0.044224485754966736 Batch_id=937 Accuracy=98.96: 100%|██████████| 938/938 [00:10<00:00, 92.40it/s]\n",
            "  0%|          | 0/938 [00:00<?, ?it/s]"
          ],
          "name": "stderr"
        },
        {
          "output_type": "stream",
          "text": [
            "\n",
            "Test set: Average loss: 0.0232, Accuracy: 9930/10000 (99.30%)\n",
            "\n",
            "EPOCH: 14\n"
          ],
          "name": "stdout"
        },
        {
          "output_type": "stream",
          "text": [
            "Loss=0.0004912316799163818 Batch_id=937 Accuracy=99.04: 100%|██████████| 938/938 [00:10<00:00, 92.69it/s]\n",
            "  0%|          | 0/938 [00:00<?, ?it/s]"
          ],
          "name": "stderr"
        },
        {
          "output_type": "stream",
          "text": [
            "\n",
            "Test set: Average loss: 0.0226, Accuracy: 9930/10000 (99.30%)\n",
            "\n",
            "EPOCH: 15\n"
          ],
          "name": "stdout"
        },
        {
          "output_type": "stream",
          "text": [
            "Loss=0.0006264150142669678 Batch_id=937 Accuracy=99.03: 100%|██████████| 938/938 [00:10<00:00, 92.42it/s]\n",
            "  0%|          | 0/938 [00:00<?, ?it/s]"
          ],
          "name": "stderr"
        },
        {
          "output_type": "stream",
          "text": [
            "\n",
            "Test set: Average loss: 0.0211, Accuracy: 9937/10000 (99.37%)\n",
            "\n",
            "EPOCH: 16\n"
          ],
          "name": "stdout"
        },
        {
          "output_type": "stream",
          "text": [
            "Loss=0.021503746509552002 Batch_id=937 Accuracy=99.09: 100%|██████████| 938/938 [00:10<00:00, 91.57it/s] \n",
            "  0%|          | 0/938 [00:00<?, ?it/s]"
          ],
          "name": "stderr"
        },
        {
          "output_type": "stream",
          "text": [
            "\n",
            "Test set: Average loss: 0.0206, Accuracy: 9941/10000 (99.41%)\n",
            "\n",
            "EPOCH: 17\n"
          ],
          "name": "stdout"
        },
        {
          "output_type": "stream",
          "text": [
            "Loss=0.0587945431470871 Batch_id=937 Accuracy=99.08: 100%|██████████| 938/938 [00:10<00:00, 90.54it/s]\n",
            "  0%|          | 0/938 [00:00<?, ?it/s]"
          ],
          "name": "stderr"
        },
        {
          "output_type": "stream",
          "text": [
            "\n",
            "Test set: Average loss: 0.0206, Accuracy: 9934/10000 (99.34%)\n",
            "\n",
            "EPOCH: 18\n"
          ],
          "name": "stdout"
        },
        {
          "output_type": "stream",
          "text": [
            "Loss=0.00133514404296875 Batch_id=937 Accuracy=99.09: 100%|██████████| 938/938 [00:10<00:00, 92.01it/s]\n",
            "  0%|          | 0/938 [00:00<?, ?it/s]"
          ],
          "name": "stderr"
        },
        {
          "output_type": "stream",
          "text": [
            "\n",
            "Test set: Average loss: 0.0196, Accuracy: 9944/10000 (99.44%)\n",
            "\n",
            "EPOCH: 19\n"
          ],
          "name": "stdout"
        },
        {
          "output_type": "stream",
          "text": [
            "Loss=0.05215798318386078 Batch_id=937 Accuracy=99.10: 100%|██████████| 938/938 [00:10<00:00, 92.11it/s]\n",
            "  0%|          | 0/938 [00:00<?, ?it/s]"
          ],
          "name": "stderr"
        },
        {
          "output_type": "stream",
          "text": [
            "\n",
            "Test set: Average loss: 0.0231, Accuracy: 9931/10000 (99.31%)\n",
            "\n",
            "EPOCH: 20\n"
          ],
          "name": "stdout"
        },
        {
          "output_type": "stream",
          "text": [
            "Loss=0.024277672171592712 Batch_id=937 Accuracy=99.08: 100%|██████████| 938/938 [00:10<00:00, 91.73it/s]\n",
            "  0%|          | 0/938 [00:00<?, ?it/s]"
          ],
          "name": "stderr"
        },
        {
          "output_type": "stream",
          "text": [
            "\n",
            "Test set: Average loss: 0.0216, Accuracy: 9934/10000 (99.34%)\n",
            "\n",
            "EPOCH: 21\n"
          ],
          "name": "stdout"
        },
        {
          "output_type": "stream",
          "text": [
            "Loss=0.0002665519714355469 Batch_id=937 Accuracy=99.12: 100%|██████████| 938/938 [00:10<00:00, 93.79it/s]\n",
            "  0%|          | 0/938 [00:00<?, ?it/s]"
          ],
          "name": "stderr"
        },
        {
          "output_type": "stream",
          "text": [
            "\n",
            "Test set: Average loss: 0.0194, Accuracy: 9943/10000 (99.43%)\n",
            "\n",
            "EPOCH: 22\n"
          ],
          "name": "stdout"
        },
        {
          "output_type": "stream",
          "text": [
            "Loss=0.012053057551383972 Batch_id=937 Accuracy=99.12: 100%|██████████| 938/938 [00:10<00:00, 93.10it/s]\n",
            "  0%|          | 0/938 [00:00<?, ?it/s]"
          ],
          "name": "stderr"
        },
        {
          "output_type": "stream",
          "text": [
            "\n",
            "Test set: Average loss: 0.0194, Accuracy: 9940/10000 (99.40%)\n",
            "\n",
            "EPOCH: 23\n"
          ],
          "name": "stdout"
        },
        {
          "output_type": "stream",
          "text": [
            "Loss=0.01239195466041565 Batch_id=937 Accuracy=99.14: 100%|██████████| 938/938 [00:10<00:00, 90.93it/s] \n",
            "  0%|          | 0/938 [00:00<?, ?it/s]"
          ],
          "name": "stderr"
        },
        {
          "output_type": "stream",
          "text": [
            "\n",
            "Test set: Average loss: 0.0186, Accuracy: 9944/10000 (99.44%)\n",
            "\n",
            "EPOCH: 24\n"
          ],
          "name": "stdout"
        },
        {
          "output_type": "stream",
          "text": [
            "Loss=0.001973390579223633 Batch_id=937 Accuracy=99.14: 100%|██████████| 938/938 [00:10<00:00, 92.80it/s]\n",
            "  0%|          | 0/938 [00:00<?, ?it/s]"
          ],
          "name": "stderr"
        },
        {
          "output_type": "stream",
          "text": [
            "\n",
            "Test set: Average loss: 0.0210, Accuracy: 9937/10000 (99.37%)\n",
            "\n",
            "\n",
            "\t---------- without L1/L2 with GBN ----------\n",
            "\n",
            "EPOCH: 0\n"
          ],
          "name": "stdout"
        },
        {
          "output_type": "stream",
          "text": [
            "Loss=0.04561591148376465 Batch_id=937 Accuracy=94.44: 100%|██████████| 938/938 [00:10<00:00, 85.57it/s]\n",
            "  0%|          | 0/938 [00:00<?, ?it/s]"
          ],
          "name": "stderr"
        },
        {
          "output_type": "stream",
          "text": [
            "\n",
            "Test set: Average loss: 0.0416, Accuracy: 9879/10000 (98.79%)\n",
            "\n",
            "EPOCH: 1\n"
          ],
          "name": "stdout"
        },
        {
          "output_type": "stream",
          "text": [
            "Loss=0.019527658820152283 Batch_id=937 Accuracy=97.69: 100%|██████████| 938/938 [00:10<00:00, 87.49it/s]\n",
            "  0%|          | 0/938 [00:00<?, ?it/s]"
          ],
          "name": "stderr"
        },
        {
          "output_type": "stream",
          "text": [
            "\n",
            "Test set: Average loss: 0.0306, Accuracy: 9902/10000 (99.02%)\n",
            "\n",
            "EPOCH: 2\n"
          ],
          "name": "stdout"
        },
        {
          "output_type": "stream",
          "text": [
            "Loss=0.04526784271001816 Batch_id=937 Accuracy=98.05: 100%|██████████| 938/938 [00:10<00:00, 87.09it/s]\n",
            "  0%|          | 0/938 [00:00<?, ?it/s]"
          ],
          "name": "stderr"
        },
        {
          "output_type": "stream",
          "text": [
            "\n",
            "Test set: Average loss: 0.0261, Accuracy: 9911/10000 (99.11%)\n",
            "\n",
            "EPOCH: 3\n"
          ],
          "name": "stdout"
        },
        {
          "output_type": "stream",
          "text": [
            "Loss=0.0317130982875824 Batch_id=937 Accuracy=98.31: 100%|██████████| 938/938 [00:10<00:00, 87.66it/s]\n",
            "  0%|          | 0/938 [00:00<?, ?it/s]"
          ],
          "name": "stderr"
        },
        {
          "output_type": "stream",
          "text": [
            "\n",
            "Test set: Average loss: 0.0256, Accuracy: 9915/10000 (99.15%)\n",
            "\n",
            "EPOCH: 4\n"
          ],
          "name": "stdout"
        },
        {
          "output_type": "stream",
          "text": [
            "Loss=0.09552045911550522 Batch_id=937 Accuracy=98.43: 100%|██████████| 938/938 [00:10<00:00, 86.81it/s]\n",
            "  0%|          | 0/938 [00:00<?, ?it/s]"
          ],
          "name": "stderr"
        },
        {
          "output_type": "stream",
          "text": [
            "\n",
            "Test set: Average loss: 0.0237, Accuracy: 9925/10000 (99.25%)\n",
            "\n",
            "EPOCH: 5\n"
          ],
          "name": "stdout"
        },
        {
          "output_type": "stream",
          "text": [
            "Loss=0.056135520339012146 Batch_id=937 Accuracy=98.52: 100%|██████████| 938/938 [00:10<00:00, 86.29it/s]\n",
            "  0%|          | 0/938 [00:00<?, ?it/s]"
          ],
          "name": "stderr"
        },
        {
          "output_type": "stream",
          "text": [
            "\n",
            "Test set: Average loss: 0.0228, Accuracy: 9928/10000 (99.28%)\n",
            "\n",
            "EPOCH: 6\n"
          ],
          "name": "stdout"
        },
        {
          "output_type": "stream",
          "text": [
            "Loss=0.005565911531448364 Batch_id=937 Accuracy=98.70: 100%|██████████| 938/938 [00:11<00:00, 84.98it/s]\n",
            "  0%|          | 0/938 [00:00<?, ?it/s]"
          ],
          "name": "stderr"
        },
        {
          "output_type": "stream",
          "text": [
            "\n",
            "Test set: Average loss: 0.0246, Accuracy: 9927/10000 (99.27%)\n",
            "\n",
            "EPOCH: 7\n"
          ],
          "name": "stdout"
        },
        {
          "output_type": "stream",
          "text": [
            "Loss=0.007554963231086731 Batch_id=937 Accuracy=98.71: 100%|██████████| 938/938 [00:10<00:00, 86.15it/s]\n",
            "  0%|          | 0/938 [00:00<?, ?it/s]"
          ],
          "name": "stderr"
        },
        {
          "output_type": "stream",
          "text": [
            "\n",
            "Test set: Average loss: 0.0214, Accuracy: 9929/10000 (99.29%)\n",
            "\n",
            "EPOCH: 8\n"
          ],
          "name": "stdout"
        },
        {
          "output_type": "stream",
          "text": [
            "Loss=0.007904410362243652 Batch_id=937 Accuracy=98.82: 100%|██████████| 938/938 [00:10<00:00, 85.79it/s]\n",
            "  0%|          | 0/938 [00:00<?, ?it/s]"
          ],
          "name": "stderr"
        },
        {
          "output_type": "stream",
          "text": [
            "\n",
            "Test set: Average loss: 0.0224, Accuracy: 9927/10000 (99.27%)\n",
            "\n",
            "EPOCH: 9\n"
          ],
          "name": "stdout"
        },
        {
          "output_type": "stream",
          "text": [
            "Loss=0.04165731370449066 Batch_id=937 Accuracy=98.76: 100%|██████████| 938/938 [00:11<00:00, 84.96it/s]\n",
            "  0%|          | 0/938 [00:00<?, ?it/s]"
          ],
          "name": "stderr"
        },
        {
          "output_type": "stream",
          "text": [
            "\n",
            "Test set: Average loss: 0.0199, Accuracy: 9935/10000 (99.35%)\n",
            "\n",
            "EPOCH: 10\n"
          ],
          "name": "stdout"
        },
        {
          "output_type": "stream",
          "text": [
            "Loss=0.10483041405677795 Batch_id=937 Accuracy=98.82: 100%|██████████| 938/938 [00:10<00:00, 85.87it/s]\n",
            "  0%|          | 0/938 [00:00<?, ?it/s]"
          ],
          "name": "stderr"
        },
        {
          "output_type": "stream",
          "text": [
            "\n",
            "Test set: Average loss: 0.0203, Accuracy: 9931/10000 (99.31%)\n",
            "\n",
            "EPOCH: 11\n"
          ],
          "name": "stdout"
        },
        {
          "output_type": "stream",
          "text": [
            "Loss=0.0032741129398345947 Batch_id=937 Accuracy=98.84: 100%|██████████| 938/938 [00:11<00:00, 83.71it/s]\n",
            "  0%|          | 0/938 [00:00<?, ?it/s]"
          ],
          "name": "stderr"
        },
        {
          "output_type": "stream",
          "text": [
            "\n",
            "Test set: Average loss: 0.0199, Accuracy: 9933/10000 (99.33%)\n",
            "\n",
            "EPOCH: 12\n"
          ],
          "name": "stdout"
        },
        {
          "output_type": "stream",
          "text": [
            "Loss=0.026336148381233215 Batch_id=937 Accuracy=98.86: 100%|██████████| 938/938 [00:11<00:00, 83.83it/s]\n",
            "  0%|          | 0/938 [00:00<?, ?it/s]"
          ],
          "name": "stderr"
        },
        {
          "output_type": "stream",
          "text": [
            "\n",
            "Test set: Average loss: 0.0187, Accuracy: 9937/10000 (99.37%)\n",
            "\n",
            "EPOCH: 13\n"
          ],
          "name": "stdout"
        },
        {
          "output_type": "stream",
          "text": [
            "Loss=0.06539882719516754 Batch_id=937 Accuracy=98.96: 100%|██████████| 938/938 [00:11<00:00, 84.87it/s]\n",
            "  0%|          | 0/938 [00:00<?, ?it/s]"
          ],
          "name": "stderr"
        },
        {
          "output_type": "stream",
          "text": [
            "\n",
            "Test set: Average loss: 0.0172, Accuracy: 9941/10000 (99.41%)\n",
            "\n",
            "EPOCH: 14\n"
          ],
          "name": "stdout"
        },
        {
          "output_type": "stream",
          "text": [
            "Loss=0.004172831773757935 Batch_id=937 Accuracy=98.99: 100%|██████████| 938/938 [00:10<00:00, 86.46it/s]\n",
            "  0%|          | 0/938 [00:00<?, ?it/s]"
          ],
          "name": "stderr"
        },
        {
          "output_type": "stream",
          "text": [
            "\n",
            "Test set: Average loss: 0.0180, Accuracy: 9936/10000 (99.36%)\n",
            "\n",
            "EPOCH: 15\n"
          ],
          "name": "stdout"
        },
        {
          "output_type": "stream",
          "text": [
            "Loss=0.01678118109703064 Batch_id=937 Accuracy=98.98: 100%|██████████| 938/938 [00:10<00:00, 86.45it/s]\n",
            "  0%|          | 0/938 [00:00<?, ?it/s]"
          ],
          "name": "stderr"
        },
        {
          "output_type": "stream",
          "text": [
            "\n",
            "Test set: Average loss: 0.0200, Accuracy: 9931/10000 (99.31%)\n",
            "\n",
            "EPOCH: 16\n"
          ],
          "name": "stdout"
        },
        {
          "output_type": "stream",
          "text": [
            "Loss=0.011278718709945679 Batch_id=937 Accuracy=99.02: 100%|██████████| 938/938 [00:10<00:00, 86.45it/s]\n",
            "  0%|          | 0/938 [00:00<?, ?it/s]"
          ],
          "name": "stderr"
        },
        {
          "output_type": "stream",
          "text": [
            "\n",
            "Test set: Average loss: 0.0206, Accuracy: 9933/10000 (99.33%)\n",
            "\n",
            "EPOCH: 17\n"
          ],
          "name": "stdout"
        },
        {
          "output_type": "stream",
          "text": [
            "Loss=0.008300870656967163 Batch_id=937 Accuracy=99.02: 100%|██████████| 938/938 [00:11<00:00, 84.88it/s]\n",
            "  0%|          | 0/938 [00:00<?, ?it/s]"
          ],
          "name": "stderr"
        },
        {
          "output_type": "stream",
          "text": [
            "\n",
            "Test set: Average loss: 0.0204, Accuracy: 9937/10000 (99.37%)\n",
            "\n",
            "EPOCH: 18\n"
          ],
          "name": "stdout"
        },
        {
          "output_type": "stream",
          "text": [
            "Loss=0.01940491795539856 Batch_id=937 Accuracy=99.00: 100%|██████████| 938/938 [00:10<00:00, 86.44it/s]\n",
            "  0%|          | 0/938 [00:00<?, ?it/s]"
          ],
          "name": "stderr"
        },
        {
          "output_type": "stream",
          "text": [
            "\n",
            "Test set: Average loss: 0.0194, Accuracy: 9941/10000 (99.41%)\n",
            "\n",
            "EPOCH: 19\n"
          ],
          "name": "stdout"
        },
        {
          "output_type": "stream",
          "text": [
            "Loss=0.09328380227088928 Batch_id=937 Accuracy=99.10: 100%|██████████| 938/938 [00:11<00:00, 83.98it/s]\n",
            "  0%|          | 0/938 [00:00<?, ?it/s]"
          ],
          "name": "stderr"
        },
        {
          "output_type": "stream",
          "text": [
            "\n",
            "Test set: Average loss: 0.0193, Accuracy: 9943/10000 (99.43%)\n",
            "\n",
            "EPOCH: 20\n"
          ],
          "name": "stdout"
        },
        {
          "output_type": "stream",
          "text": [
            "Loss=0.054737500846385956 Batch_id=937 Accuracy=99.05: 100%|██████████| 938/938 [00:11<00:00, 84.96it/s]\n",
            "  0%|          | 0/938 [00:00<?, ?it/s]"
          ],
          "name": "stderr"
        },
        {
          "output_type": "stream",
          "text": [
            "\n",
            "Test set: Average loss: 0.0195, Accuracy: 9936/10000 (99.36%)\n",
            "\n",
            "EPOCH: 21\n"
          ],
          "name": "stdout"
        },
        {
          "output_type": "stream",
          "text": [
            "Loss=0.008314058184623718 Batch_id=937 Accuracy=99.07: 100%|██████████| 938/938 [00:10<00:00, 86.13it/s]\n",
            "  0%|          | 0/938 [00:00<?, ?it/s]"
          ],
          "name": "stderr"
        },
        {
          "output_type": "stream",
          "text": [
            "\n",
            "Test set: Average loss: 0.0172, Accuracy: 9945/10000 (99.45%)\n",
            "\n",
            "EPOCH: 22\n"
          ],
          "name": "stdout"
        },
        {
          "output_type": "stream",
          "text": [
            "Loss=0.00712352991104126 Batch_id=937 Accuracy=99.08: 100%|██████████| 938/938 [00:10<00:00, 85.71it/s]\n",
            "  0%|          | 0/938 [00:00<?, ?it/s]"
          ],
          "name": "stderr"
        },
        {
          "output_type": "stream",
          "text": [
            "\n",
            "Test set: Average loss: 0.0183, Accuracy: 9939/10000 (99.39%)\n",
            "\n",
            "EPOCH: 23\n"
          ],
          "name": "stdout"
        },
        {
          "output_type": "stream",
          "text": [
            "Loss=0.0009373128414154053 Batch_id=937 Accuracy=99.13: 100%|██████████| 938/938 [00:11<00:00, 85.12it/s]\n",
            "  0%|          | 0/938 [00:00<?, ?it/s]"
          ],
          "name": "stderr"
        },
        {
          "output_type": "stream",
          "text": [
            "\n",
            "Test set: Average loss: 0.0190, Accuracy: 9937/10000 (99.37%)\n",
            "\n",
            "EPOCH: 24\n"
          ],
          "name": "stdout"
        },
        {
          "output_type": "stream",
          "text": [
            "Loss=0.018862292170524597 Batch_id=937 Accuracy=99.16: 100%|██████████| 938/938 [00:11<00:00, 85.02it/s]\n",
            "  0%|          | 0/938 [00:00<?, ?it/s]"
          ],
          "name": "stderr"
        },
        {
          "output_type": "stream",
          "text": [
            "\n",
            "Test set: Average loss: 0.0176, Accuracy: 9944/10000 (99.44%)\n",
            "\n",
            "\n",
            "\t---------- with L1 with BN ----------\n",
            "\n",
            "EPOCH: 0\n"
          ],
          "name": "stdout"
        },
        {
          "output_type": "stream",
          "text": [
            "Loss=0.27939504384994507 Batch_id=937 Accuracy=94.50: 100%|██████████| 938/938 [00:12<00:00, 73.87it/s]\n",
            "  0%|          | 0/938 [00:00<?, ?it/s]"
          ],
          "name": "stderr"
        },
        {
          "output_type": "stream",
          "text": [
            "\n",
            "Test set: Average loss: 0.0618, Accuracy: 9828/10000 (98.28%)\n",
            "\n",
            "EPOCH: 1\n"
          ],
          "name": "stdout"
        },
        {
          "output_type": "stream",
          "text": [
            "Loss=0.3651224672794342 Batch_id=937 Accuracy=97.31: 100%|██████████| 938/938 [00:12<00:00, 74.51it/s]\n",
            "  0%|          | 0/938 [00:00<?, ?it/s]"
          ],
          "name": "stderr"
        },
        {
          "output_type": "stream",
          "text": [
            "\n",
            "Test set: Average loss: 0.0647, Accuracy: 9782/10000 (97.82%)\n",
            "\n",
            "EPOCH: 2\n"
          ],
          "name": "stdout"
        },
        {
          "output_type": "stream",
          "text": [
            "Loss=0.21673603355884552 Batch_id=937 Accuracy=97.51: 100%|██████████| 938/938 [00:12<00:00, 75.12it/s]\n",
            "  0%|          | 0/938 [00:00<?, ?it/s]"
          ],
          "name": "stderr"
        },
        {
          "output_type": "stream",
          "text": [
            "\n",
            "Test set: Average loss: 0.0486, Accuracy: 9853/10000 (98.53%)\n",
            "\n",
            "EPOCH: 3\n"
          ],
          "name": "stdout"
        },
        {
          "output_type": "stream",
          "text": [
            "Loss=0.2986220717430115 Batch_id=937 Accuracy=97.68: 100%|██████████| 938/938 [00:12<00:00, 75.82it/s]\n",
            "  0%|          | 0/938 [00:00<?, ?it/s]"
          ],
          "name": "stderr"
        },
        {
          "output_type": "stream",
          "text": [
            "\n",
            "Test set: Average loss: 0.0532, Accuracy: 9846/10000 (98.46%)\n",
            "\n",
            "EPOCH: 4\n"
          ],
          "name": "stdout"
        },
        {
          "output_type": "stream",
          "text": [
            "Loss=0.4265388250350952 Batch_id=937 Accuracy=97.70: 100%|██████████| 938/938 [00:12<00:00, 76.04it/s]\n",
            "  0%|          | 0/938 [00:00<?, ?it/s]"
          ],
          "name": "stderr"
        },
        {
          "output_type": "stream",
          "text": [
            "\n",
            "Test set: Average loss: 0.0495, Accuracy: 9861/10000 (98.61%)\n",
            "\n",
            "EPOCH: 5\n"
          ],
          "name": "stdout"
        },
        {
          "output_type": "stream",
          "text": [
            "Loss=0.19205258786678314 Batch_id=937 Accuracy=97.86: 100%|██████████| 938/938 [00:12<00:00, 75.84it/s]\n",
            "  0%|          | 0/938 [00:00<?, ?it/s]"
          ],
          "name": "stderr"
        },
        {
          "output_type": "stream",
          "text": [
            "\n",
            "Test set: Average loss: 0.0444, Accuracy: 9864/10000 (98.64%)\n",
            "\n",
            "EPOCH: 6\n"
          ],
          "name": "stdout"
        },
        {
          "output_type": "stream",
          "text": [
            "Loss=0.350134015083313 Batch_id=937 Accuracy=97.89: 100%|██████████| 938/938 [00:12<00:00, 75.03it/s]\n",
            "  0%|          | 0/938 [00:00<?, ?it/s]"
          ],
          "name": "stderr"
        },
        {
          "output_type": "stream",
          "text": [
            "\n",
            "Test set: Average loss: 0.0498, Accuracy: 9858/10000 (98.58%)\n",
            "\n",
            "EPOCH: 7\n"
          ],
          "name": "stdout"
        },
        {
          "output_type": "stream",
          "text": [
            "Loss=0.3057987689971924 Batch_id=937 Accuracy=97.74: 100%|██████████| 938/938 [00:12<00:00, 74.50it/s]\n",
            "  0%|          | 0/938 [00:00<?, ?it/s]"
          ],
          "name": "stderr"
        },
        {
          "output_type": "stream",
          "text": [
            "\n",
            "Test set: Average loss: 0.0351, Accuracy: 9893/10000 (98.93%)\n",
            "\n",
            "EPOCH: 8\n"
          ],
          "name": "stdout"
        },
        {
          "output_type": "stream",
          "text": [
            "Loss=0.22293303906917572 Batch_id=937 Accuracy=97.84: 100%|██████████| 938/938 [00:12<00:00, 74.86it/s]\n",
            "  0%|          | 0/938 [00:00<?, ?it/s]"
          ],
          "name": "stderr"
        },
        {
          "output_type": "stream",
          "text": [
            "\n",
            "Test set: Average loss: 0.0458, Accuracy: 9858/10000 (98.58%)\n",
            "\n",
            "EPOCH: 9\n"
          ],
          "name": "stdout"
        },
        {
          "output_type": "stream",
          "text": [
            "Loss=0.21823400259017944 Batch_id=937 Accuracy=97.81: 100%|██████████| 938/938 [00:12<00:00, 75.65it/s]\n",
            "  0%|          | 0/938 [00:00<?, ?it/s]"
          ],
          "name": "stderr"
        },
        {
          "output_type": "stream",
          "text": [
            "\n",
            "Test set: Average loss: 0.0495, Accuracy: 9846/10000 (98.46%)\n",
            "\n",
            "EPOCH: 10\n"
          ],
          "name": "stdout"
        },
        {
          "output_type": "stream",
          "text": [
            "Loss=0.29813891649246216 Batch_id=937 Accuracy=97.94: 100%|██████████| 938/938 [00:12<00:00, 75.31it/s]\n",
            "  0%|          | 0/938 [00:00<?, ?it/s]"
          ],
          "name": "stderr"
        },
        {
          "output_type": "stream",
          "text": [
            "\n",
            "Test set: Average loss: 0.0509, Accuracy: 9853/10000 (98.53%)\n",
            "\n",
            "EPOCH: 11\n"
          ],
          "name": "stdout"
        },
        {
          "output_type": "stream",
          "text": [
            "Loss=0.41141319274902344 Batch_id=937 Accuracy=97.85: 100%|██████████| 938/938 [00:13<00:00, 71.62it/s]\n",
            "  0%|          | 0/938 [00:00<?, ?it/s]"
          ],
          "name": "stderr"
        },
        {
          "output_type": "stream",
          "text": [
            "\n",
            "Test set: Average loss: 0.0543, Accuracy: 9829/10000 (98.29%)\n",
            "\n",
            "EPOCH: 12\n"
          ],
          "name": "stdout"
        },
        {
          "output_type": "stream",
          "text": [
            "Loss=0.17290423810482025 Batch_id=937 Accuracy=97.91: 100%|██████████| 938/938 [00:12<00:00, 74.63it/s]\n",
            "  0%|          | 0/938 [00:00<?, ?it/s]"
          ],
          "name": "stderr"
        },
        {
          "output_type": "stream",
          "text": [
            "\n",
            "Test set: Average loss: 0.0370, Accuracy: 9881/10000 (98.81%)\n",
            "\n",
            "EPOCH: 13\n"
          ],
          "name": "stdout"
        },
        {
          "output_type": "stream",
          "text": [
            "Loss=0.2820834517478943 Batch_id=937 Accuracy=97.89: 100%|██████████| 938/938 [00:12<00:00, 74.66it/s]\n",
            "  0%|          | 0/938 [00:00<?, ?it/s]"
          ],
          "name": "stderr"
        },
        {
          "output_type": "stream",
          "text": [
            "\n",
            "Test set: Average loss: 0.0358, Accuracy: 9895/10000 (98.95%)\n",
            "\n",
            "EPOCH: 14\n"
          ],
          "name": "stdout"
        },
        {
          "output_type": "stream",
          "text": [
            "Loss=0.1562744677066803 Batch_id=937 Accuracy=97.90: 100%|██████████| 938/938 [00:12<00:00, 75.29it/s]\n",
            "  0%|          | 0/938 [00:00<?, ?it/s]"
          ],
          "name": "stderr"
        },
        {
          "output_type": "stream",
          "text": [
            "\n",
            "Test set: Average loss: 0.0421, Accuracy: 9870/10000 (98.70%)\n",
            "\n",
            "EPOCH: 15\n"
          ],
          "name": "stdout"
        },
        {
          "output_type": "stream",
          "text": [
            "Loss=0.24728363752365112 Batch_id=937 Accuracy=97.94: 100%|██████████| 938/938 [00:12<00:00, 73.01it/s]\n",
            "  0%|          | 0/938 [00:00<?, ?it/s]"
          ],
          "name": "stderr"
        },
        {
          "output_type": "stream",
          "text": [
            "\n",
            "Test set: Average loss: 0.0469, Accuracy: 9858/10000 (98.58%)\n",
            "\n",
            "EPOCH: 16\n"
          ],
          "name": "stdout"
        },
        {
          "output_type": "stream",
          "text": [
            "Loss=0.18903040885925293 Batch_id=937 Accuracy=97.83: 100%|██████████| 938/938 [00:12<00:00, 75.50it/s]\n",
            "  0%|          | 0/938 [00:00<?, ?it/s]"
          ],
          "name": "stderr"
        },
        {
          "output_type": "stream",
          "text": [
            "\n",
            "Test set: Average loss: 0.0590, Accuracy: 9812/10000 (98.12%)\n",
            "\n",
            "EPOCH: 17\n"
          ],
          "name": "stdout"
        },
        {
          "output_type": "stream",
          "text": [
            "Loss=0.17603950202465057 Batch_id=937 Accuracy=97.86: 100%|██████████| 938/938 [00:12<00:00, 75.35it/s]\n",
            "  0%|          | 0/938 [00:00<?, ?it/s]"
          ],
          "name": "stderr"
        },
        {
          "output_type": "stream",
          "text": [
            "\n",
            "Test set: Average loss: 0.0471, Accuracy: 9864/10000 (98.64%)\n",
            "\n",
            "EPOCH: 18\n"
          ],
          "name": "stdout"
        },
        {
          "output_type": "stream",
          "text": [
            "Loss=0.23443719744682312 Batch_id=937 Accuracy=97.85: 100%|██████████| 938/938 [00:12<00:00, 73.83it/s]\n",
            "  0%|          | 0/938 [00:00<?, ?it/s]"
          ],
          "name": "stderr"
        },
        {
          "output_type": "stream",
          "text": [
            "\n",
            "Test set: Average loss: 0.0500, Accuracy: 9852/10000 (98.52%)\n",
            "\n",
            "EPOCH: 19\n"
          ],
          "name": "stdout"
        },
        {
          "output_type": "stream",
          "text": [
            "Loss=0.24473804235458374 Batch_id=937 Accuracy=97.93: 100%|██████████| 938/938 [00:12<00:00, 75.53it/s]\n",
            "  0%|          | 0/938 [00:00<?, ?it/s]"
          ],
          "name": "stderr"
        },
        {
          "output_type": "stream",
          "text": [
            "\n",
            "Test set: Average loss: 0.0426, Accuracy: 9871/10000 (98.71%)\n",
            "\n",
            "EPOCH: 20\n"
          ],
          "name": "stdout"
        },
        {
          "output_type": "stream",
          "text": [
            "Loss=0.37424319982528687 Batch_id=937 Accuracy=97.81: 100%|██████████| 938/938 [00:12<00:00, 74.19it/s]\n",
            "  0%|          | 0/938 [00:00<?, ?it/s]"
          ],
          "name": "stderr"
        },
        {
          "output_type": "stream",
          "text": [
            "\n",
            "Test set: Average loss: 0.0472, Accuracy: 9860/10000 (98.60%)\n",
            "\n",
            "EPOCH: 21\n"
          ],
          "name": "stdout"
        },
        {
          "output_type": "stream",
          "text": [
            "Loss=0.2047116458415985 Batch_id=937 Accuracy=97.80: 100%|██████████| 938/938 [00:12<00:00, 74.46it/s]\n",
            "  0%|          | 0/938 [00:00<?, ?it/s]"
          ],
          "name": "stderr"
        },
        {
          "output_type": "stream",
          "text": [
            "\n",
            "Test set: Average loss: 0.0349, Accuracy: 9896/10000 (98.96%)\n",
            "\n",
            "EPOCH: 22\n"
          ],
          "name": "stdout"
        },
        {
          "output_type": "stream",
          "text": [
            "Loss=0.15397295355796814 Batch_id=937 Accuracy=97.89: 100%|██████████| 938/938 [00:12<00:00, 73.52it/s]\n",
            "  0%|          | 0/938 [00:00<?, ?it/s]"
          ],
          "name": "stderr"
        },
        {
          "output_type": "stream",
          "text": [
            "\n",
            "Test set: Average loss: 0.0567, Accuracy: 9811/10000 (98.11%)\n",
            "\n",
            "EPOCH: 23\n"
          ],
          "name": "stdout"
        },
        {
          "output_type": "stream",
          "text": [
            "Loss=0.21781229972839355 Batch_id=937 Accuracy=97.91: 100%|██████████| 938/938 [00:12<00:00, 74.60it/s]\n",
            "  0%|          | 0/938 [00:00<?, ?it/s]"
          ],
          "name": "stderr"
        },
        {
          "output_type": "stream",
          "text": [
            "\n",
            "Test set: Average loss: 0.0478, Accuracy: 9860/10000 (98.60%)\n",
            "\n",
            "EPOCH: 24\n"
          ],
          "name": "stdout"
        },
        {
          "output_type": "stream",
          "text": [
            "Loss=0.1679506003856659 Batch_id=937 Accuracy=97.89: 100%|██████████| 938/938 [00:12<00:00, 74.46it/s]\n",
            "  0%|          | 0/938 [00:00<?, ?it/s]"
          ],
          "name": "stderr"
        },
        {
          "output_type": "stream",
          "text": [
            "\n",
            "Test set: Average loss: 0.0467, Accuracy: 9867/10000 (98.67%)\n",
            "\n",
            "\n",
            "\t---------- with L1 with GBN ----------\n",
            "\n",
            "EPOCH: 0\n"
          ],
          "name": "stdout"
        },
        {
          "output_type": "stream",
          "text": [
            "Loss=0.28878462314605713 Batch_id=937 Accuracy=94.38: 100%|██████████| 938/938 [00:13<00:00, 69.04it/s]\n",
            "  0%|          | 0/938 [00:00<?, ?it/s]"
          ],
          "name": "stderr"
        },
        {
          "output_type": "stream",
          "text": [
            "\n",
            "Test set: Average loss: 0.0588, Accuracy: 9809/10000 (98.09%)\n",
            "\n",
            "EPOCH: 1\n"
          ],
          "name": "stdout"
        },
        {
          "output_type": "stream",
          "text": [
            "Loss=0.2980932295322418 Batch_id=937 Accuracy=97.28: 100%|██████████| 938/938 [00:13<00:00, 70.16it/s]\n",
            "  0%|          | 0/938 [00:00<?, ?it/s]"
          ],
          "name": "stderr"
        },
        {
          "output_type": "stream",
          "text": [
            "\n",
            "Test set: Average loss: 0.0550, Accuracy: 9824/10000 (98.24%)\n",
            "\n",
            "EPOCH: 2\n"
          ],
          "name": "stdout"
        },
        {
          "output_type": "stream",
          "text": [
            "Loss=0.2123258113861084 Batch_id=937 Accuracy=97.50: 100%|██████████| 938/938 [00:13<00:00, 69.88it/s]\n",
            "  0%|          | 0/938 [00:00<?, ?it/s]"
          ],
          "name": "stderr"
        },
        {
          "output_type": "stream",
          "text": [
            "\n",
            "Test set: Average loss: 0.0471, Accuracy: 9861/10000 (98.61%)\n",
            "\n",
            "EPOCH: 3\n"
          ],
          "name": "stdout"
        },
        {
          "output_type": "stream",
          "text": [
            "Loss=0.26765120029449463 Batch_id=937 Accuracy=97.58: 100%|██████████| 938/938 [00:13<00:00, 70.23it/s]\n",
            "  0%|          | 0/938 [00:00<?, ?it/s]"
          ],
          "name": "stderr"
        },
        {
          "output_type": "stream",
          "text": [
            "\n",
            "Test set: Average loss: 0.0537, Accuracy: 9839/10000 (98.39%)\n",
            "\n",
            "EPOCH: 4\n"
          ],
          "name": "stdout"
        },
        {
          "output_type": "stream",
          "text": [
            "Loss=0.2511048913002014 Batch_id=937 Accuracy=97.72: 100%|██████████| 938/938 [00:13<00:00, 69.96it/s]\n",
            "  0%|          | 0/938 [00:00<?, ?it/s]"
          ],
          "name": "stderr"
        },
        {
          "output_type": "stream",
          "text": [
            "\n",
            "Test set: Average loss: 0.0387, Accuracy: 9877/10000 (98.77%)\n",
            "\n",
            "EPOCH: 5\n"
          ],
          "name": "stdout"
        },
        {
          "output_type": "stream",
          "text": [
            "Loss=0.21527065336704254 Batch_id=937 Accuracy=97.79: 100%|██████████| 938/938 [00:13<00:00, 70.90it/s]\n",
            "  0%|          | 0/938 [00:00<?, ?it/s]"
          ],
          "name": "stderr"
        },
        {
          "output_type": "stream",
          "text": [
            "\n",
            "Test set: Average loss: 0.0404, Accuracy: 9867/10000 (98.67%)\n",
            "\n",
            "EPOCH: 6\n"
          ],
          "name": "stdout"
        },
        {
          "output_type": "stream",
          "text": [
            "Loss=0.33229777216911316 Batch_id=937 Accuracy=97.76: 100%|██████████| 938/938 [00:13<00:00, 69.32it/s]\n",
            "  0%|          | 0/938 [00:00<?, ?it/s]"
          ],
          "name": "stderr"
        },
        {
          "output_type": "stream",
          "text": [
            "\n",
            "Test set: Average loss: 0.0420, Accuracy: 9864/10000 (98.64%)\n",
            "\n",
            "EPOCH: 7\n"
          ],
          "name": "stdout"
        },
        {
          "output_type": "stream",
          "text": [
            "Loss=0.17054462432861328 Batch_id=937 Accuracy=97.87: 100%|██████████| 938/938 [00:13<00:00, 71.51it/s]\n",
            "  0%|          | 0/938 [00:00<?, ?it/s]"
          ],
          "name": "stderr"
        },
        {
          "output_type": "stream",
          "text": [
            "\n",
            "Test set: Average loss: 0.0395, Accuracy: 9889/10000 (98.89%)\n",
            "\n",
            "EPOCH: 8\n"
          ],
          "name": "stdout"
        },
        {
          "output_type": "stream",
          "text": [
            "Loss=0.19623878598213196 Batch_id=937 Accuracy=97.75: 100%|██████████| 938/938 [00:13<00:00, 67.19it/s]\n",
            "  0%|          | 0/938 [00:00<?, ?it/s]"
          ],
          "name": "stderr"
        },
        {
          "output_type": "stream",
          "text": [
            "\n",
            "Test set: Average loss: 0.0455, Accuracy: 9863/10000 (98.63%)\n",
            "\n",
            "EPOCH: 9\n"
          ],
          "name": "stdout"
        },
        {
          "output_type": "stream",
          "text": [
            "Loss=0.1623249650001526 Batch_id=937 Accuracy=97.73: 100%|██████████| 938/938 [00:13<00:00, 69.40it/s]\n",
            "  0%|          | 0/938 [00:00<?, ?it/s]"
          ],
          "name": "stderr"
        },
        {
          "output_type": "stream",
          "text": [
            "\n",
            "Test set: Average loss: 0.0360, Accuracy: 9887/10000 (98.87%)\n",
            "\n",
            "EPOCH: 10\n"
          ],
          "name": "stdout"
        },
        {
          "output_type": "stream",
          "text": [
            "Loss=0.18912667036056519 Batch_id=937 Accuracy=97.79: 100%|██████████| 938/938 [00:13<00:00, 68.64it/s]\n",
            "  0%|          | 0/938 [00:00<?, ?it/s]"
          ],
          "name": "stderr"
        },
        {
          "output_type": "stream",
          "text": [
            "\n",
            "Test set: Average loss: 0.0375, Accuracy: 9890/10000 (98.90%)\n",
            "\n",
            "EPOCH: 11\n"
          ],
          "name": "stdout"
        },
        {
          "output_type": "stream",
          "text": [
            "Loss=0.1718994528055191 Batch_id=937 Accuracy=97.86: 100%|██████████| 938/938 [00:13<00:00, 68.95it/s]\n",
            "  0%|          | 0/938 [00:00<?, ?it/s]"
          ],
          "name": "stderr"
        },
        {
          "output_type": "stream",
          "text": [
            "\n",
            "Test set: Average loss: 0.0381, Accuracy: 9889/10000 (98.89%)\n",
            "\n",
            "EPOCH: 12\n"
          ],
          "name": "stdout"
        },
        {
          "output_type": "stream",
          "text": [
            "Loss=0.18820714950561523 Batch_id=937 Accuracy=97.86: 100%|██████████| 938/938 [00:13<00:00, 68.02it/s]\n",
            "  0%|          | 0/938 [00:00<?, ?it/s]"
          ],
          "name": "stderr"
        },
        {
          "output_type": "stream",
          "text": [
            "\n",
            "Test set: Average loss: 0.0363, Accuracy: 9895/10000 (98.95%)\n",
            "\n",
            "EPOCH: 13\n"
          ],
          "name": "stdout"
        },
        {
          "output_type": "stream",
          "text": [
            "Loss=0.23144645988941193 Batch_id=937 Accuracy=97.78: 100%|██████████| 938/938 [00:13<00:00, 69.83it/s]\n",
            "  0%|          | 0/938 [00:00<?, ?it/s]"
          ],
          "name": "stderr"
        },
        {
          "output_type": "stream",
          "text": [
            "\n",
            "Test set: Average loss: 0.0511, Accuracy: 9844/10000 (98.44%)\n",
            "\n",
            "EPOCH: 14\n"
          ],
          "name": "stdout"
        },
        {
          "output_type": "stream",
          "text": [
            "Loss=0.2019931823015213 Batch_id=937 Accuracy=97.87: 100%|██████████| 938/938 [00:13<00:00, 69.85it/s]\n",
            "  0%|          | 0/938 [00:00<?, ?it/s]"
          ],
          "name": "stderr"
        },
        {
          "output_type": "stream",
          "text": [
            "\n",
            "Test set: Average loss: 0.0501, Accuracy: 9840/10000 (98.40%)\n",
            "\n",
            "EPOCH: 15\n"
          ],
          "name": "stdout"
        },
        {
          "output_type": "stream",
          "text": [
            "Loss=0.19680869579315186 Batch_id=937 Accuracy=97.81: 100%|██████████| 938/938 [00:13<00:00, 69.50it/s]\n",
            "  0%|          | 0/938 [00:00<?, ?it/s]"
          ],
          "name": "stderr"
        },
        {
          "output_type": "stream",
          "text": [
            "\n",
            "Test set: Average loss: 0.0375, Accuracy: 9896/10000 (98.96%)\n",
            "\n",
            "EPOCH: 16\n"
          ],
          "name": "stdout"
        },
        {
          "output_type": "stream",
          "text": [
            "Loss=0.14832183718681335 Batch_id=937 Accuracy=97.88: 100%|██████████| 938/938 [00:13<00:00, 68.57it/s]\n",
            "  0%|          | 0/938 [00:00<?, ?it/s]"
          ],
          "name": "stderr"
        },
        {
          "output_type": "stream",
          "text": [
            "\n",
            "Test set: Average loss: 0.0416, Accuracy: 9876/10000 (98.76%)\n",
            "\n",
            "EPOCH: 17\n"
          ],
          "name": "stdout"
        },
        {
          "output_type": "stream",
          "text": [
            "Loss=0.26086586713790894 Batch_id=937 Accuracy=97.83: 100%|██████████| 938/938 [00:13<00:00, 69.96it/s]\n",
            "  0%|          | 0/938 [00:00<?, ?it/s]"
          ],
          "name": "stderr"
        },
        {
          "output_type": "stream",
          "text": [
            "\n",
            "Test set: Average loss: 0.0603, Accuracy: 9811/10000 (98.11%)\n",
            "\n",
            "EPOCH: 18\n"
          ],
          "name": "stdout"
        },
        {
          "output_type": "stream",
          "text": [
            "Loss=0.25822335481643677 Batch_id=937 Accuracy=97.75: 100%|██████████| 938/938 [00:13<00:00, 68.20it/s]\n",
            "  0%|          | 0/938 [00:00<?, ?it/s]"
          ],
          "name": "stderr"
        },
        {
          "output_type": "stream",
          "text": [
            "\n",
            "Test set: Average loss: 0.0398, Accuracy: 9882/10000 (98.82%)\n",
            "\n",
            "EPOCH: 19\n"
          ],
          "name": "stdout"
        },
        {
          "output_type": "stream",
          "text": [
            "Loss=0.1752977967262268 Batch_id=937 Accuracy=97.71: 100%|██████████| 938/938 [00:13<00:00, 70.65it/s]\n",
            "  0%|          | 0/938 [00:00<?, ?it/s]"
          ],
          "name": "stderr"
        },
        {
          "output_type": "stream",
          "text": [
            "\n",
            "Test set: Average loss: 0.0545, Accuracy: 9835/10000 (98.35%)\n",
            "\n",
            "EPOCH: 20\n"
          ],
          "name": "stdout"
        },
        {
          "output_type": "stream",
          "text": [
            "Loss=0.2834591865539551 Batch_id=937 Accuracy=97.81: 100%|██████████| 938/938 [00:13<00:00, 69.91it/s]\n",
            "  0%|          | 0/938 [00:00<?, ?it/s]"
          ],
          "name": "stderr"
        },
        {
          "output_type": "stream",
          "text": [
            "\n",
            "Test set: Average loss: 0.0435, Accuracy: 9864/10000 (98.64%)\n",
            "\n",
            "EPOCH: 21\n"
          ],
          "name": "stdout"
        },
        {
          "output_type": "stream",
          "text": [
            "Loss=0.23314261436462402 Batch_id=937 Accuracy=97.84: 100%|██████████| 938/938 [00:13<00:00, 68.97it/s]\n",
            "  0%|          | 0/938 [00:00<?, ?it/s]"
          ],
          "name": "stderr"
        },
        {
          "output_type": "stream",
          "text": [
            "\n",
            "Test set: Average loss: 0.0493, Accuracy: 9847/10000 (98.47%)\n",
            "\n",
            "EPOCH: 22\n"
          ],
          "name": "stdout"
        },
        {
          "output_type": "stream",
          "text": [
            "Loss=0.15112540125846863 Batch_id=937 Accuracy=97.81: 100%|██████████| 938/938 [00:13<00:00, 69.15it/s]\n",
            "  0%|          | 0/938 [00:00<?, ?it/s]"
          ],
          "name": "stderr"
        },
        {
          "output_type": "stream",
          "text": [
            "\n",
            "Test set: Average loss: 0.0524, Accuracy: 9839/10000 (98.39%)\n",
            "\n",
            "EPOCH: 23\n"
          ],
          "name": "stdout"
        },
        {
          "output_type": "stream",
          "text": [
            "Loss=0.24432702362537384 Batch_id=937 Accuracy=97.90: 100%|██████████| 938/938 [00:13<00:00, 68.74it/s]\n",
            "  0%|          | 0/938 [00:00<?, ?it/s]"
          ],
          "name": "stderr"
        },
        {
          "output_type": "stream",
          "text": [
            "\n",
            "Test set: Average loss: 0.0420, Accuracy: 9871/10000 (98.71%)\n",
            "\n",
            "EPOCH: 24\n"
          ],
          "name": "stdout"
        },
        {
          "output_type": "stream",
          "text": [
            "Loss=0.23021526634693146 Batch_id=937 Accuracy=97.72: 100%|██████████| 938/938 [00:13<00:00, 69.15it/s]\n",
            "  0%|          | 0/938 [00:00<?, ?it/s]"
          ],
          "name": "stderr"
        },
        {
          "output_type": "stream",
          "text": [
            "\n",
            "Test set: Average loss: 0.0391, Accuracy: 9884/10000 (98.84%)\n",
            "\n",
            "\n",
            "\t---------- with L2 with BN ----------\n",
            "\n",
            "EPOCH: 0\n"
          ],
          "name": "stdout"
        },
        {
          "output_type": "stream",
          "text": [
            "Loss=0.1377800554037094 Batch_id=937 Accuracy=94.25: 100%|██████████| 938/938 [00:10<00:00, 89.39it/s]\n",
            "  0%|          | 0/938 [00:00<?, ?it/s]"
          ],
          "name": "stderr"
        },
        {
          "output_type": "stream",
          "text": [
            "\n",
            "Test set: Average loss: 0.0558, Accuracy: 9831/10000 (98.31%)\n",
            "\n",
            "EPOCH: 1\n"
          ],
          "name": "stdout"
        },
        {
          "output_type": "stream",
          "text": [
            "Loss=0.023252755403518677 Batch_id=937 Accuracy=97.66: 100%|██████████| 938/938 [00:10<00:00, 89.00it/s]\n",
            "  0%|          | 0/938 [00:00<?, ?it/s]"
          ],
          "name": "stderr"
        },
        {
          "output_type": "stream",
          "text": [
            "\n",
            "Test set: Average loss: 0.0390, Accuracy: 9880/10000 (98.80%)\n",
            "\n",
            "EPOCH: 2\n"
          ],
          "name": "stdout"
        },
        {
          "output_type": "stream",
          "text": [
            "Loss=0.007426843047142029 Batch_id=937 Accuracy=98.03: 100%|██████████| 938/938 [00:10<00:00, 89.91it/s]\n",
            "  0%|          | 0/938 [00:00<?, ?it/s]"
          ],
          "name": "stderr"
        },
        {
          "output_type": "stream",
          "text": [
            "\n",
            "Test set: Average loss: 0.0391, Accuracy: 9870/10000 (98.70%)\n",
            "\n",
            "EPOCH: 3\n"
          ],
          "name": "stdout"
        },
        {
          "output_type": "stream",
          "text": [
            "Loss=0.16481854021549225 Batch_id=937 Accuracy=98.27: 100%|██████████| 938/938 [00:10<00:00, 89.79it/s]\n",
            "  0%|          | 0/938 [00:00<?, ?it/s]"
          ],
          "name": "stderr"
        },
        {
          "output_type": "stream",
          "text": [
            "\n",
            "Test set: Average loss: 0.0328, Accuracy: 9900/10000 (99.00%)\n",
            "\n",
            "EPOCH: 4\n"
          ],
          "name": "stdout"
        },
        {
          "output_type": "stream",
          "text": [
            "Loss=0.04737032949924469 Batch_id=937 Accuracy=98.44: 100%|██████████| 938/938 [00:10<00:00, 90.26it/s]\n",
            "  0%|          | 0/938 [00:00<?, ?it/s]"
          ],
          "name": "stderr"
        },
        {
          "output_type": "stream",
          "text": [
            "\n",
            "Test set: Average loss: 0.0303, Accuracy: 9904/10000 (99.04%)\n",
            "\n",
            "EPOCH: 5\n"
          ],
          "name": "stdout"
        },
        {
          "output_type": "stream",
          "text": [
            "Loss=0.021344825625419617 Batch_id=937 Accuracy=98.53: 100%|██████████| 938/938 [00:10<00:00, 89.00it/s]\n",
            "  0%|          | 0/938 [00:00<?, ?it/s]"
          ],
          "name": "stderr"
        },
        {
          "output_type": "stream",
          "text": [
            "\n",
            "Test set: Average loss: 0.0294, Accuracy: 9900/10000 (99.00%)\n",
            "\n",
            "EPOCH: 6\n"
          ],
          "name": "stdout"
        },
        {
          "output_type": "stream",
          "text": [
            "Loss=0.013246893882751465 Batch_id=937 Accuracy=98.61: 100%|██████████| 938/938 [00:10<00:00, 88.95it/s]\n",
            "  0%|          | 0/938 [00:00<?, ?it/s]"
          ],
          "name": "stderr"
        },
        {
          "output_type": "stream",
          "text": [
            "\n",
            "Test set: Average loss: 0.0242, Accuracy: 9923/10000 (99.23%)\n",
            "\n",
            "EPOCH: 7\n"
          ],
          "name": "stdout"
        },
        {
          "output_type": "stream",
          "text": [
            "Loss=0.08922922611236572 Batch_id=937 Accuracy=98.67: 100%|██████████| 938/938 [00:10<00:00, 90.32it/s]\n",
            "  0%|          | 0/938 [00:00<?, ?it/s]"
          ],
          "name": "stderr"
        },
        {
          "output_type": "stream",
          "text": [
            "\n",
            "Test set: Average loss: 0.0263, Accuracy: 9914/10000 (99.14%)\n",
            "\n",
            "EPOCH: 8\n"
          ],
          "name": "stdout"
        },
        {
          "output_type": "stream",
          "text": [
            "Loss=0.07412488758563995 Batch_id=937 Accuracy=98.75: 100%|██████████| 938/938 [00:10<00:00, 92.44it/s]\n",
            "  0%|          | 0/938 [00:00<?, ?it/s]"
          ],
          "name": "stderr"
        },
        {
          "output_type": "stream",
          "text": [
            "\n",
            "Test set: Average loss: 0.0284, Accuracy: 9908/10000 (99.08%)\n",
            "\n",
            "EPOCH: 9\n"
          ],
          "name": "stdout"
        },
        {
          "output_type": "stream",
          "text": [
            "Loss=0.18689078092575073 Batch_id=937 Accuracy=98.82: 100%|██████████| 938/938 [00:10<00:00, 87.84it/s]\n",
            "  0%|          | 0/938 [00:00<?, ?it/s]"
          ],
          "name": "stderr"
        },
        {
          "output_type": "stream",
          "text": [
            "\n",
            "Test set: Average loss: 0.0209, Accuracy: 9927/10000 (99.27%)\n",
            "\n",
            "EPOCH: 10\n"
          ],
          "name": "stdout"
        },
        {
          "output_type": "stream",
          "text": [
            "Loss=0.06260640919208527 Batch_id=937 Accuracy=98.84: 100%|██████████| 938/938 [00:10<00:00, 88.88it/s]\n",
            "  0%|          | 0/938 [00:00<?, ?it/s]"
          ],
          "name": "stderr"
        },
        {
          "output_type": "stream",
          "text": [
            "\n",
            "Test set: Average loss: 0.0243, Accuracy: 9912/10000 (99.12%)\n",
            "\n",
            "EPOCH: 11\n"
          ],
          "name": "stdout"
        },
        {
          "output_type": "stream",
          "text": [
            "Loss=0.046328380703926086 Batch_id=937 Accuracy=98.84: 100%|██████████| 938/938 [00:10<00:00, 88.72it/s]\n",
            "  0%|          | 0/938 [00:00<?, ?it/s]"
          ],
          "name": "stderr"
        },
        {
          "output_type": "stream",
          "text": [
            "\n",
            "Test set: Average loss: 0.0250, Accuracy: 9910/10000 (99.10%)\n",
            "\n",
            "EPOCH: 12\n"
          ],
          "name": "stdout"
        },
        {
          "output_type": "stream",
          "text": [
            "Loss=0.0010744333267211914 Batch_id=937 Accuracy=98.90: 100%|██████████| 938/938 [00:10<00:00, 89.53it/s]\n",
            "  0%|          | 0/938 [00:00<?, ?it/s]"
          ],
          "name": "stderr"
        },
        {
          "output_type": "stream",
          "text": [
            "\n",
            "Test set: Average loss: 0.0205, Accuracy: 9936/10000 (99.36%)\n",
            "\n",
            "EPOCH: 13\n"
          ],
          "name": "stdout"
        },
        {
          "output_type": "stream",
          "text": [
            "Loss=0.00432857871055603 Batch_id=937 Accuracy=98.95: 100%|██████████| 938/938 [00:10<00:00, 89.76it/s]\n",
            "  0%|          | 0/938 [00:00<?, ?it/s]"
          ],
          "name": "stderr"
        },
        {
          "output_type": "stream",
          "text": [
            "\n",
            "Test set: Average loss: 0.0224, Accuracy: 9930/10000 (99.30%)\n",
            "\n",
            "EPOCH: 14\n"
          ],
          "name": "stdout"
        },
        {
          "output_type": "stream",
          "text": [
            "Loss=0.1625041663646698 Batch_id=937 Accuracy=98.91: 100%|██████████| 938/938 [00:10<00:00, 85.89it/s]\n",
            "  0%|          | 0/938 [00:00<?, ?it/s]"
          ],
          "name": "stderr"
        },
        {
          "output_type": "stream",
          "text": [
            "\n",
            "Test set: Average loss: 0.0275, Accuracy: 9910/10000 (99.10%)\n",
            "\n",
            "EPOCH: 15\n"
          ],
          "name": "stdout"
        },
        {
          "output_type": "stream",
          "text": [
            "Loss=0.0015923380851745605 Batch_id=937 Accuracy=99.00: 100%|██████████| 938/938 [00:10<00:00, 89.21it/s]\n",
            "  0%|          | 0/938 [00:00<?, ?it/s]"
          ],
          "name": "stderr"
        },
        {
          "output_type": "stream",
          "text": [
            "\n",
            "Test set: Average loss: 0.0241, Accuracy: 9922/10000 (99.22%)\n",
            "\n",
            "EPOCH: 16\n"
          ],
          "name": "stdout"
        },
        {
          "output_type": "stream",
          "text": [
            "Loss=0.0005193650722503662 Batch_id=937 Accuracy=99.06: 100%|██████████| 938/938 [00:10<00:00, 88.44it/s]\n",
            "  0%|          | 0/938 [00:00<?, ?it/s]"
          ],
          "name": "stderr"
        },
        {
          "output_type": "stream",
          "text": [
            "\n",
            "Test set: Average loss: 0.0240, Accuracy: 9924/10000 (99.24%)\n",
            "\n",
            "EPOCH: 17\n"
          ],
          "name": "stdout"
        },
        {
          "output_type": "stream",
          "text": [
            "Loss=0.014992386102676392 Batch_id=937 Accuracy=99.03: 100%|██████████| 938/938 [00:10<00:00, 86.33it/s]\n",
            "  0%|          | 0/938 [00:00<?, ?it/s]"
          ],
          "name": "stderr"
        },
        {
          "output_type": "stream",
          "text": [
            "\n",
            "Test set: Average loss: 0.0228, Accuracy: 9928/10000 (99.28%)\n",
            "\n",
            "EPOCH: 18\n"
          ],
          "name": "stdout"
        },
        {
          "output_type": "stream",
          "text": [
            "Loss=0.019708573818206787 Batch_id=937 Accuracy=99.12: 100%|██████████| 938/938 [00:10<00:00, 88.08it/s]\n",
            "  0%|          | 0/938 [00:00<?, ?it/s]"
          ],
          "name": "stderr"
        },
        {
          "output_type": "stream",
          "text": [
            "\n",
            "Test set: Average loss: 0.0200, Accuracy: 9941/10000 (99.41%)\n",
            "\n",
            "EPOCH: 19\n"
          ],
          "name": "stdout"
        },
        {
          "output_type": "stream",
          "text": [
            "Loss=0.004646867513656616 Batch_id=937 Accuracy=98.99: 100%|██████████| 938/938 [00:10<00:00, 87.94it/s]\n",
            "  0%|          | 0/938 [00:00<?, ?it/s]"
          ],
          "name": "stderr"
        },
        {
          "output_type": "stream",
          "text": [
            "\n",
            "Test set: Average loss: 0.0220, Accuracy: 9933/10000 (99.33%)\n",
            "\n",
            "EPOCH: 20\n"
          ],
          "name": "stdout"
        },
        {
          "output_type": "stream",
          "text": [
            "Loss=0.042263180017471313 Batch_id=937 Accuracy=99.13: 100%|██████████| 938/938 [00:10<00:00, 88.75it/s]\n",
            "  0%|          | 0/938 [00:00<?, ?it/s]"
          ],
          "name": "stderr"
        },
        {
          "output_type": "stream",
          "text": [
            "\n",
            "Test set: Average loss: 0.0225, Accuracy: 9932/10000 (99.32%)\n",
            "\n",
            "EPOCH: 21\n"
          ],
          "name": "stdout"
        },
        {
          "output_type": "stream",
          "text": [
            "Loss=0.0018763244152069092 Batch_id=937 Accuracy=99.12: 100%|██████████| 938/938 [00:10<00:00, 88.77it/s] \n",
            "  0%|          | 0/938 [00:00<?, ?it/s]"
          ],
          "name": "stderr"
        },
        {
          "output_type": "stream",
          "text": [
            "\n",
            "Test set: Average loss: 0.0245, Accuracy: 9918/10000 (99.18%)\n",
            "\n",
            "EPOCH: 22\n"
          ],
          "name": "stdout"
        },
        {
          "output_type": "stream",
          "text": [
            "Loss=0.017007604241371155 Batch_id=937 Accuracy=99.19: 100%|██████████| 938/938 [00:10<00:00, 86.97it/s]\n",
            "  0%|          | 0/938 [00:00<?, ?it/s]"
          ],
          "name": "stderr"
        },
        {
          "output_type": "stream",
          "text": [
            "\n",
            "Test set: Average loss: 0.0240, Accuracy: 9924/10000 (99.24%)\n",
            "\n",
            "EPOCH: 23\n"
          ],
          "name": "stdout"
        },
        {
          "output_type": "stream",
          "text": [
            "Loss=0.0014775395393371582 Batch_id=937 Accuracy=99.09: 100%|██████████| 938/938 [00:10<00:00, 88.66it/s]\n",
            "  0%|          | 0/938 [00:00<?, ?it/s]"
          ],
          "name": "stderr"
        },
        {
          "output_type": "stream",
          "text": [
            "\n",
            "Test set: Average loss: 0.0206, Accuracy: 9938/10000 (99.38%)\n",
            "\n",
            "EPOCH: 24\n"
          ],
          "name": "stdout"
        },
        {
          "output_type": "stream",
          "text": [
            "Loss=0.0038815736770629883 Batch_id=937 Accuracy=99.16: 100%|██████████| 938/938 [00:10<00:00, 87.48it/s]\n",
            "  0%|          | 0/938 [00:00<?, ?it/s]"
          ],
          "name": "stderr"
        },
        {
          "output_type": "stream",
          "text": [
            "\n",
            "Test set: Average loss: 0.0226, Accuracy: 9923/10000 (99.23%)\n",
            "\n",
            "\n",
            "\t---------- with L2 with GBN ----------\n",
            "\n",
            "EPOCH: 0\n"
          ],
          "name": "stdout"
        },
        {
          "output_type": "stream",
          "text": [
            "Loss=0.011200293898582458 Batch_id=937 Accuracy=94.59: 100%|██████████| 938/938 [00:11<00:00, 81.05it/s]\n",
            "  0%|          | 0/938 [00:00<?, ?it/s]"
          ],
          "name": "stderr"
        },
        {
          "output_type": "stream",
          "text": [
            "\n",
            "Test set: Average loss: 0.0469, Accuracy: 9859/10000 (98.59%)\n",
            "\n",
            "EPOCH: 1\n"
          ],
          "name": "stdout"
        },
        {
          "output_type": "stream",
          "text": [
            "Loss=0.00623534619808197 Batch_id=937 Accuracy=97.72: 100%|██████████| 938/938 [00:11<00:00, 81.81it/s]\n",
            "  0%|          | 0/938 [00:00<?, ?it/s]"
          ],
          "name": "stderr"
        },
        {
          "output_type": "stream",
          "text": [
            "\n",
            "Test set: Average loss: 0.0338, Accuracy: 9899/10000 (98.99%)\n",
            "\n",
            "EPOCH: 2\n"
          ],
          "name": "stdout"
        },
        {
          "output_type": "stream",
          "text": [
            "Loss=0.013856679201126099 Batch_id=937 Accuracy=98.08: 100%|██████████| 938/938 [00:11<00:00, 81.15it/s]\n",
            "  0%|          | 0/938 [00:00<?, ?it/s]"
          ],
          "name": "stderr"
        },
        {
          "output_type": "stream",
          "text": [
            "\n",
            "Test set: Average loss: 0.0331, Accuracy: 9889/10000 (98.89%)\n",
            "\n",
            "EPOCH: 3\n"
          ],
          "name": "stdout"
        },
        {
          "output_type": "stream",
          "text": [
            "Loss=0.11251667141914368 Batch_id=937 Accuracy=98.34: 100%|██████████| 938/938 [00:11<00:00, 81.37it/s]\n",
            "  0%|          | 0/938 [00:00<?, ?it/s]"
          ],
          "name": "stderr"
        },
        {
          "output_type": "stream",
          "text": [
            "\n",
            "Test set: Average loss: 0.0312, Accuracy: 9895/10000 (98.95%)\n",
            "\n",
            "EPOCH: 4\n"
          ],
          "name": "stdout"
        },
        {
          "output_type": "stream",
          "text": [
            "Loss=0.04397791624069214 Batch_id=937 Accuracy=98.53: 100%|██████████| 938/938 [00:11<00:00, 80.99it/s]\n",
            "  0%|          | 0/938 [00:00<?, ?it/s]"
          ],
          "name": "stderr"
        },
        {
          "output_type": "stream",
          "text": [
            "\n",
            "Test set: Average loss: 0.0258, Accuracy: 9918/10000 (99.18%)\n",
            "\n",
            "EPOCH: 5\n"
          ],
          "name": "stdout"
        },
        {
          "output_type": "stream",
          "text": [
            "Loss=0.29496097564697266 Batch_id=937 Accuracy=98.59: 100%|██████████| 938/938 [00:11<00:00, 81.89it/s]\n",
            "  0%|          | 0/938 [00:00<?, ?it/s]"
          ],
          "name": "stderr"
        },
        {
          "output_type": "stream",
          "text": [
            "\n",
            "Test set: Average loss: 0.0267, Accuracy: 9914/10000 (99.14%)\n",
            "\n",
            "EPOCH: 6\n"
          ],
          "name": "stdout"
        },
        {
          "output_type": "stream",
          "text": [
            "Loss=0.021004095673561096 Batch_id=937 Accuracy=98.71: 100%|██████████| 938/938 [00:11<00:00, 79.97it/s]\n",
            "  0%|          | 0/938 [00:00<?, ?it/s]"
          ],
          "name": "stderr"
        },
        {
          "output_type": "stream",
          "text": [
            "\n",
            "Test set: Average loss: 0.0235, Accuracy: 9923/10000 (99.23%)\n",
            "\n",
            "EPOCH: 7\n"
          ],
          "name": "stdout"
        },
        {
          "output_type": "stream",
          "text": [
            "Loss=0.006914705038070679 Batch_id=937 Accuracy=98.81: 100%|██████████| 938/938 [00:11<00:00, 82.65it/s]\n",
            "  0%|          | 0/938 [00:00<?, ?it/s]"
          ],
          "name": "stderr"
        },
        {
          "output_type": "stream",
          "text": [
            "\n",
            "Test set: Average loss: 0.0229, Accuracy: 9926/10000 (99.26%)\n",
            "\n",
            "EPOCH: 8\n"
          ],
          "name": "stdout"
        },
        {
          "output_type": "stream",
          "text": [
            "Loss=0.0074026137590408325 Batch_id=937 Accuracy=98.78: 100%|██████████| 938/938 [00:11<00:00, 82.43it/s]\n",
            "  0%|          | 0/938 [00:00<?, ?it/s]"
          ],
          "name": "stderr"
        },
        {
          "output_type": "stream",
          "text": [
            "\n",
            "Test set: Average loss: 0.0225, Accuracy: 9932/10000 (99.32%)\n",
            "\n",
            "EPOCH: 9\n"
          ],
          "name": "stdout"
        },
        {
          "output_type": "stream",
          "text": [
            "Loss=0.07509960234165192 Batch_id=937 Accuracy=98.88: 100%|██████████| 938/938 [00:11<00:00, 80.12it/s]\n",
            "  0%|          | 0/938 [00:00<?, ?it/s]"
          ],
          "name": "stderr"
        },
        {
          "output_type": "stream",
          "text": [
            "\n",
            "Test set: Average loss: 0.0236, Accuracy: 9932/10000 (99.32%)\n",
            "\n",
            "EPOCH: 10\n"
          ],
          "name": "stdout"
        },
        {
          "output_type": "stream",
          "text": [
            "Loss=0.025454506278038025 Batch_id=937 Accuracy=98.94: 100%|██████████| 938/938 [00:11<00:00, 82.79it/s]\n",
            "  0%|          | 0/938 [00:00<?, ?it/s]"
          ],
          "name": "stderr"
        },
        {
          "output_type": "stream",
          "text": [
            "\n",
            "Test set: Average loss: 0.0207, Accuracy: 9931/10000 (99.31%)\n",
            "\n",
            "EPOCH: 11\n"
          ],
          "name": "stdout"
        },
        {
          "output_type": "stream",
          "text": [
            "Loss=0.015641868114471436 Batch_id=937 Accuracy=98.92: 100%|██████████| 938/938 [00:11<00:00, 82.10it/s]\n",
            "  0%|          | 0/938 [00:00<?, ?it/s]"
          ],
          "name": "stderr"
        },
        {
          "output_type": "stream",
          "text": [
            "\n",
            "Test set: Average loss: 0.0219, Accuracy: 9931/10000 (99.31%)\n",
            "\n",
            "EPOCH: 12\n"
          ],
          "name": "stdout"
        },
        {
          "output_type": "stream",
          "text": [
            "Loss=0.0003743469715118408 Batch_id=937 Accuracy=98.95: 100%|██████████| 938/938 [00:11<00:00, 83.89it/s]\n",
            "  0%|          | 0/938 [00:00<?, ?it/s]"
          ],
          "name": "stderr"
        },
        {
          "output_type": "stream",
          "text": [
            "\n",
            "Test set: Average loss: 0.0223, Accuracy: 9926/10000 (99.26%)\n",
            "\n",
            "EPOCH: 13\n"
          ],
          "name": "stdout"
        },
        {
          "output_type": "stream",
          "text": [
            "Loss=0.0009350478649139404 Batch_id=937 Accuracy=98.98: 100%|██████████| 938/938 [00:11<00:00, 82.04it/s]\n",
            "  0%|          | 0/938 [00:00<?, ?it/s]"
          ],
          "name": "stderr"
        },
        {
          "output_type": "stream",
          "text": [
            "\n",
            "Test set: Average loss: 0.0215, Accuracy: 9938/10000 (99.38%)\n",
            "\n",
            "EPOCH: 14\n"
          ],
          "name": "stdout"
        },
        {
          "output_type": "stream",
          "text": [
            "Loss=0.0010563135147094727 Batch_id=937 Accuracy=99.00: 100%|██████████| 938/938 [00:11<00:00, 82.95it/s]\n",
            "  0%|          | 0/938 [00:00<?, ?it/s]"
          ],
          "name": "stderr"
        },
        {
          "output_type": "stream",
          "text": [
            "\n",
            "Test set: Average loss: 0.0226, Accuracy: 9933/10000 (99.33%)\n",
            "\n",
            "EPOCH: 15\n"
          ],
          "name": "stdout"
        },
        {
          "output_type": "stream",
          "text": [
            "Loss=0.0021740198135375977 Batch_id=937 Accuracy=98.97: 100%|██████████| 938/938 [00:11<00:00, 83.28it/s]\n",
            "  0%|          | 0/938 [00:00<?, ?it/s]"
          ],
          "name": "stderr"
        },
        {
          "output_type": "stream",
          "text": [
            "\n",
            "Test set: Average loss: 0.0242, Accuracy: 9923/10000 (99.23%)\n",
            "\n",
            "EPOCH: 16\n"
          ],
          "name": "stdout"
        },
        {
          "output_type": "stream",
          "text": [
            "Loss=0.0014669150114059448 Batch_id=937 Accuracy=99.07: 100%|██████████| 938/938 [00:11<00:00, 81.13it/s]\n",
            "  0%|          | 0/938 [00:00<?, ?it/s]"
          ],
          "name": "stderr"
        },
        {
          "output_type": "stream",
          "text": [
            "\n",
            "Test set: Average loss: 0.0218, Accuracy: 9936/10000 (99.36%)\n",
            "\n",
            "EPOCH: 17\n"
          ],
          "name": "stdout"
        },
        {
          "output_type": "stream",
          "text": [
            "Loss=0.0006153583526611328 Batch_id=937 Accuracy=99.04: 100%|██████████| 938/938 [00:11<00:00, 82.32it/s]\n",
            "  0%|          | 0/938 [00:00<?, ?it/s]"
          ],
          "name": "stderr"
        },
        {
          "output_type": "stream",
          "text": [
            "\n",
            "Test set: Average loss: 0.0221, Accuracy: 9933/10000 (99.33%)\n",
            "\n",
            "EPOCH: 18\n"
          ],
          "name": "stdout"
        },
        {
          "output_type": "stream",
          "text": [
            "Loss=0.0009899735450744629 Batch_id=937 Accuracy=99.11: 100%|██████████| 938/938 [00:11<00:00, 82.43it/s]\n",
            "  0%|          | 0/938 [00:00<?, ?it/s]"
          ],
          "name": "stderr"
        },
        {
          "output_type": "stream",
          "text": [
            "\n",
            "Test set: Average loss: 0.0196, Accuracy: 9944/10000 (99.44%)\n",
            "\n",
            "EPOCH: 19\n"
          ],
          "name": "stdout"
        },
        {
          "output_type": "stream",
          "text": [
            "Loss=0.0003610849380493164 Batch_id=937 Accuracy=99.12: 100%|██████████| 938/938 [00:11<00:00, 83.28it/s]\n",
            "  0%|          | 0/938 [00:00<?, ?it/s]"
          ],
          "name": "stderr"
        },
        {
          "output_type": "stream",
          "text": [
            "\n",
            "Test set: Average loss: 0.0212, Accuracy: 9931/10000 (99.31%)\n",
            "\n",
            "EPOCH: 20\n"
          ],
          "name": "stdout"
        },
        {
          "output_type": "stream",
          "text": [
            "Loss=0.009975701570510864 Batch_id=937 Accuracy=99.11: 100%|██████████| 938/938 [00:11<00:00, 82.81it/s]\n",
            "  0%|          | 0/938 [00:00<?, ?it/s]"
          ],
          "name": "stderr"
        },
        {
          "output_type": "stream",
          "text": [
            "\n",
            "Test set: Average loss: 0.0218, Accuracy: 9936/10000 (99.36%)\n",
            "\n",
            "EPOCH: 21\n"
          ],
          "name": "stdout"
        },
        {
          "output_type": "stream",
          "text": [
            "Loss=0.017433926463127136 Batch_id=937 Accuracy=99.06: 100%|██████████| 938/938 [00:11<00:00, 82.09it/s]\n",
            "  0%|          | 0/938 [00:00<?, ?it/s]"
          ],
          "name": "stderr"
        },
        {
          "output_type": "stream",
          "text": [
            "\n",
            "Test set: Average loss: 0.0230, Accuracy: 9920/10000 (99.20%)\n",
            "\n",
            "EPOCH: 22\n"
          ],
          "name": "stdout"
        },
        {
          "output_type": "stream",
          "text": [
            "Loss=0.0004175901412963867 Batch_id=937 Accuracy=99.09: 100%|██████████| 938/938 [00:11<00:00, 82.18it/s]\n",
            "  0%|          | 0/938 [00:00<?, ?it/s]"
          ],
          "name": "stderr"
        },
        {
          "output_type": "stream",
          "text": [
            "\n",
            "Test set: Average loss: 0.0209, Accuracy: 9936/10000 (99.36%)\n",
            "\n",
            "EPOCH: 23\n"
          ],
          "name": "stdout"
        },
        {
          "output_type": "stream",
          "text": [
            "Loss=0.003204852342605591 Batch_id=937 Accuracy=99.13: 100%|██████████| 938/938 [00:11<00:00, 82.09it/s]\n",
            "  0%|          | 0/938 [00:00<?, ?it/s]"
          ],
          "name": "stderr"
        },
        {
          "output_type": "stream",
          "text": [
            "\n",
            "Test set: Average loss: 0.0216, Accuracy: 9938/10000 (99.38%)\n",
            "\n",
            "EPOCH: 24\n"
          ],
          "name": "stdout"
        },
        {
          "output_type": "stream",
          "text": [
            "Loss=0.010035574436187744 Batch_id=937 Accuracy=99.15: 100%|██████████| 938/938 [00:11<00:00, 82.95it/s]\n",
            "  0%|          | 0/938 [00:00<?, ?it/s]"
          ],
          "name": "stderr"
        },
        {
          "output_type": "stream",
          "text": [
            "\n",
            "Test set: Average loss: 0.0193, Accuracy: 9939/10000 (99.39%)\n",
            "\n",
            "\n",
            "\t---------- with L1 and L2 with BN ----------\n",
            "\n",
            "EPOCH: 0\n"
          ],
          "name": "stdout"
        },
        {
          "output_type": "stream",
          "text": [
            "Loss=0.2571388781070709 Batch_id=937 Accuracy=94.37: 100%|██████████| 938/938 [00:12<00:00, 73.05it/s]\n",
            "  0%|          | 0/938 [00:00<?, ?it/s]"
          ],
          "name": "stderr"
        },
        {
          "output_type": "stream",
          "text": [
            "\n",
            "Test set: Average loss: 0.0542, Accuracy: 9845/10000 (98.45%)\n",
            "\n",
            "EPOCH: 1\n"
          ],
          "name": "stdout"
        },
        {
          "output_type": "stream",
          "text": [
            "Loss=0.23772817850112915 Batch_id=937 Accuracy=97.38: 100%|██████████| 938/938 [00:13<00:00, 71.95it/s]\n",
            "  0%|          | 0/938 [00:00<?, ?it/s]"
          ],
          "name": "stderr"
        },
        {
          "output_type": "stream",
          "text": [
            "\n",
            "Test set: Average loss: 0.0437, Accuracy: 9855/10000 (98.55%)\n",
            "\n",
            "EPOCH: 2\n"
          ],
          "name": "stdout"
        },
        {
          "output_type": "stream",
          "text": [
            "Loss=0.22550269961357117 Batch_id=937 Accuracy=97.62: 100%|██████████| 938/938 [00:12<00:00, 74.59it/s]\n",
            "  0%|          | 0/938 [00:00<?, ?it/s]"
          ],
          "name": "stderr"
        },
        {
          "output_type": "stream",
          "text": [
            "\n",
            "Test set: Average loss: 0.0456, Accuracy: 9876/10000 (98.76%)\n",
            "\n",
            "EPOCH: 3\n"
          ],
          "name": "stdout"
        },
        {
          "output_type": "stream",
          "text": [
            "Loss=0.22550897300243378 Batch_id=937 Accuracy=97.68: 100%|██████████| 938/938 [00:12<00:00, 72.51it/s]\n",
            "  0%|          | 0/938 [00:00<?, ?it/s]"
          ],
          "name": "stderr"
        },
        {
          "output_type": "stream",
          "text": [
            "\n",
            "Test set: Average loss: 0.0433, Accuracy: 9875/10000 (98.75%)\n",
            "\n",
            "EPOCH: 4\n"
          ],
          "name": "stdout"
        },
        {
          "output_type": "stream",
          "text": [
            "Loss=0.3937886357307434 Batch_id=937 Accuracy=97.72: 100%|██████████| 938/938 [00:13<00:00, 71.60it/s]\n",
            "  0%|          | 0/938 [00:00<?, ?it/s]"
          ],
          "name": "stderr"
        },
        {
          "output_type": "stream",
          "text": [
            "\n",
            "Test set: Average loss: 0.0433, Accuracy: 9888/10000 (98.88%)\n",
            "\n",
            "EPOCH: 5\n"
          ],
          "name": "stdout"
        },
        {
          "output_type": "stream",
          "text": [
            "Loss=0.2652912735939026 Batch_id=937 Accuracy=97.81: 100%|██████████| 938/938 [00:13<00:00, 71.62it/s]\n",
            "  0%|          | 0/938 [00:00<?, ?it/s]"
          ],
          "name": "stderr"
        },
        {
          "output_type": "stream",
          "text": [
            "\n",
            "Test set: Average loss: 0.0511, Accuracy: 9845/10000 (98.45%)\n",
            "\n",
            "EPOCH: 6\n"
          ],
          "name": "stdout"
        },
        {
          "output_type": "stream",
          "text": [
            "Loss=0.18077221512794495 Batch_id=937 Accuracy=97.82: 100%|██████████| 938/938 [00:12<00:00, 72.42it/s]\n",
            "  0%|          | 0/938 [00:00<?, ?it/s]"
          ],
          "name": "stderr"
        },
        {
          "output_type": "stream",
          "text": [
            "\n",
            "Test set: Average loss: 0.0563, Accuracy: 9833/10000 (98.33%)\n",
            "\n",
            "EPOCH: 7\n"
          ],
          "name": "stdout"
        },
        {
          "output_type": "stream",
          "text": [
            "Loss=0.17738951742649078 Batch_id=937 Accuracy=97.81: 100%|██████████| 938/938 [00:13<00:00, 71.15it/s]\n",
            "  0%|          | 0/938 [00:00<?, ?it/s]"
          ],
          "name": "stderr"
        },
        {
          "output_type": "stream",
          "text": [
            "\n",
            "Test set: Average loss: 0.0472, Accuracy: 9839/10000 (98.39%)\n",
            "\n",
            "EPOCH: 8\n"
          ],
          "name": "stdout"
        },
        {
          "output_type": "stream",
          "text": [
            "Loss=0.20026177167892456 Batch_id=937 Accuracy=97.75: 100%|██████████| 938/938 [00:12<00:00, 72.64it/s]\n",
            "  0%|          | 0/938 [00:00<?, ?it/s]"
          ],
          "name": "stderr"
        },
        {
          "output_type": "stream",
          "text": [
            "\n",
            "Test set: Average loss: 0.0558, Accuracy: 9826/10000 (98.26%)\n",
            "\n",
            "EPOCH: 9\n"
          ],
          "name": "stdout"
        },
        {
          "output_type": "stream",
          "text": [
            "Loss=0.17607033252716064 Batch_id=937 Accuracy=97.95: 100%|██████████| 938/938 [00:12<00:00, 72.76it/s]\n",
            "  0%|          | 0/938 [00:00<?, ?it/s]"
          ],
          "name": "stderr"
        },
        {
          "output_type": "stream",
          "text": [
            "\n",
            "Test set: Average loss: 0.0411, Accuracy: 9859/10000 (98.59%)\n",
            "\n",
            "EPOCH: 10\n"
          ],
          "name": "stdout"
        },
        {
          "output_type": "stream",
          "text": [
            "Loss=0.20874488353729248 Batch_id=937 Accuracy=97.86: 100%|██████████| 938/938 [00:12<00:00, 72.66it/s]\n",
            "  0%|          | 0/938 [00:00<?, ?it/s]"
          ],
          "name": "stderr"
        },
        {
          "output_type": "stream",
          "text": [
            "\n",
            "Test set: Average loss: 0.0427, Accuracy: 9864/10000 (98.64%)\n",
            "\n",
            "EPOCH: 11\n"
          ],
          "name": "stdout"
        },
        {
          "output_type": "stream",
          "text": [
            "Loss=0.20311018824577332 Batch_id=937 Accuracy=97.87: 100%|██████████| 938/938 [00:12<00:00, 72.87it/s]\n",
            "  0%|          | 0/938 [00:00<?, ?it/s]"
          ],
          "name": "stderr"
        },
        {
          "output_type": "stream",
          "text": [
            "\n",
            "Test set: Average loss: 0.0427, Accuracy: 9862/10000 (98.62%)\n",
            "\n",
            "EPOCH: 12\n"
          ],
          "name": "stdout"
        },
        {
          "output_type": "stream",
          "text": [
            "Loss=0.18875721096992493 Batch_id=937 Accuracy=97.89: 100%|██████████| 938/938 [00:12<00:00, 73.54it/s]\n",
            "  0%|          | 0/938 [00:00<?, ?it/s]"
          ],
          "name": "stderr"
        },
        {
          "output_type": "stream",
          "text": [
            "\n",
            "Test set: Average loss: 0.0419, Accuracy: 9873/10000 (98.73%)\n",
            "\n",
            "EPOCH: 13\n"
          ],
          "name": "stdout"
        },
        {
          "output_type": "stream",
          "text": [
            "Loss=0.1687002032995224 Batch_id=937 Accuracy=97.84: 100%|██████████| 938/938 [00:12<00:00, 73.12it/s]\n",
            "  0%|          | 0/938 [00:00<?, ?it/s]"
          ],
          "name": "stderr"
        },
        {
          "output_type": "stream",
          "text": [
            "\n",
            "Test set: Average loss: 0.0475, Accuracy: 9847/10000 (98.47%)\n",
            "\n",
            "EPOCH: 14\n"
          ],
          "name": "stdout"
        },
        {
          "output_type": "stream",
          "text": [
            "Loss=0.15828809142112732 Batch_id=937 Accuracy=97.85: 100%|██████████| 938/938 [00:12<00:00, 72.22it/s]\n",
            "  0%|          | 0/938 [00:00<?, ?it/s]"
          ],
          "name": "stderr"
        },
        {
          "output_type": "stream",
          "text": [
            "\n",
            "Test set: Average loss: 0.0460, Accuracy: 9850/10000 (98.50%)\n",
            "\n",
            "EPOCH: 15\n"
          ],
          "name": "stdout"
        },
        {
          "output_type": "stream",
          "text": [
            "Loss=0.1579805463552475 Batch_id=937 Accuracy=97.91: 100%|██████████| 938/938 [00:12<00:00, 73.11it/s]\n",
            "  0%|          | 0/938 [00:00<?, ?it/s]"
          ],
          "name": "stderr"
        },
        {
          "output_type": "stream",
          "text": [
            "\n",
            "Test set: Average loss: 0.0662, Accuracy: 9807/10000 (98.07%)\n",
            "\n",
            "EPOCH: 16\n"
          ],
          "name": "stdout"
        },
        {
          "output_type": "stream",
          "text": [
            "Loss=0.19283857941627502 Batch_id=937 Accuracy=97.94: 100%|██████████| 938/938 [00:12<00:00, 72.38it/s]\n",
            "  0%|          | 0/938 [00:00<?, ?it/s]"
          ],
          "name": "stderr"
        },
        {
          "output_type": "stream",
          "text": [
            "\n",
            "Test set: Average loss: 0.0372, Accuracy: 9877/10000 (98.77%)\n",
            "\n",
            "EPOCH: 17\n"
          ],
          "name": "stdout"
        },
        {
          "output_type": "stream",
          "text": [
            "Loss=0.23614777624607086 Batch_id=937 Accuracy=97.83: 100%|██████████| 938/938 [00:12<00:00, 72.39it/s]\n",
            "  0%|          | 0/938 [00:00<?, ?it/s]"
          ],
          "name": "stderr"
        },
        {
          "output_type": "stream",
          "text": [
            "\n",
            "Test set: Average loss: 0.0554, Accuracy: 9832/10000 (98.32%)\n",
            "\n",
            "EPOCH: 18\n"
          ],
          "name": "stdout"
        },
        {
          "output_type": "stream",
          "text": [
            "Loss=0.24886949360370636 Batch_id=937 Accuracy=97.83: 100%|██████████| 938/938 [00:12<00:00, 73.01it/s]\n",
            "  0%|          | 0/938 [00:00<?, ?it/s]"
          ],
          "name": "stderr"
        },
        {
          "output_type": "stream",
          "text": [
            "\n",
            "Test set: Average loss: 0.0546, Accuracy: 9815/10000 (98.15%)\n",
            "\n",
            "EPOCH: 19\n"
          ],
          "name": "stdout"
        },
        {
          "output_type": "stream",
          "text": [
            "Loss=0.23990970849990845 Batch_id=937 Accuracy=97.79: 100%|██████████| 938/938 [00:13<00:00, 71.82it/s]\n",
            "  0%|          | 0/938 [00:00<?, ?it/s]"
          ],
          "name": "stderr"
        },
        {
          "output_type": "stream",
          "text": [
            "\n",
            "Test set: Average loss: 0.0590, Accuracy: 9806/10000 (98.06%)\n",
            "\n",
            "EPOCH: 20\n"
          ],
          "name": "stdout"
        },
        {
          "output_type": "stream",
          "text": [
            "Loss=0.1707238405942917 Batch_id=937 Accuracy=97.89: 100%|██████████| 938/938 [00:12<00:00, 72.31it/s]\n",
            "  0%|          | 0/938 [00:00<?, ?it/s]"
          ],
          "name": "stderr"
        },
        {
          "output_type": "stream",
          "text": [
            "\n",
            "Test set: Average loss: 0.0540, Accuracy: 9818/10000 (98.18%)\n",
            "\n",
            "EPOCH: 21\n"
          ],
          "name": "stdout"
        },
        {
          "output_type": "stream",
          "text": [
            "Loss=0.1727924644947052 Batch_id=937 Accuracy=97.83: 100%|██████████| 938/938 [00:13<00:00, 70.50it/s]\n",
            "  0%|          | 0/938 [00:00<?, ?it/s]"
          ],
          "name": "stderr"
        },
        {
          "output_type": "stream",
          "text": [
            "\n",
            "Test set: Average loss: 0.0557, Accuracy: 9827/10000 (98.27%)\n",
            "\n",
            "EPOCH: 22\n"
          ],
          "name": "stdout"
        },
        {
          "output_type": "stream",
          "text": [
            "Loss=0.28908148407936096 Batch_id=937 Accuracy=97.85: 100%|██████████| 938/938 [00:12<00:00, 72.82it/s]\n",
            "  0%|          | 0/938 [00:00<?, ?it/s]"
          ],
          "name": "stderr"
        },
        {
          "output_type": "stream",
          "text": [
            "\n",
            "Test set: Average loss: 0.0463, Accuracy: 9867/10000 (98.67%)\n",
            "\n",
            "EPOCH: 23\n"
          ],
          "name": "stdout"
        },
        {
          "output_type": "stream",
          "text": [
            "Loss=0.17692747712135315 Batch_id=937 Accuracy=97.81: 100%|██████████| 938/938 [00:13<00:00, 71.95it/s]\n",
            "  0%|          | 0/938 [00:00<?, ?it/s]"
          ],
          "name": "stderr"
        },
        {
          "output_type": "stream",
          "text": [
            "\n",
            "Test set: Average loss: 0.0599, Accuracy: 9816/10000 (98.16%)\n",
            "\n",
            "EPOCH: 24\n"
          ],
          "name": "stdout"
        },
        {
          "output_type": "stream",
          "text": [
            "Loss=0.19888192415237427 Batch_id=937 Accuracy=97.79: 100%|██████████| 938/938 [00:12<00:00, 72.72it/s]\n",
            "  0%|          | 0/938 [00:00<?, ?it/s]"
          ],
          "name": "stderr"
        },
        {
          "output_type": "stream",
          "text": [
            "\n",
            "Test set: Average loss: 0.0474, Accuracy: 9846/10000 (98.46%)\n",
            "\n",
            "\n",
            "\t---------- with L1 and L2 with GBN ----------\n",
            "\n",
            "EPOCH: 0\n"
          ],
          "name": "stdout"
        },
        {
          "output_type": "stream",
          "text": [
            "Loss=0.3282266855239868 Batch_id=937 Accuracy=94.27: 100%|██████████| 938/938 [00:13<00:00, 67.86it/s]\n",
            "  0%|          | 0/938 [00:00<?, ?it/s]"
          ],
          "name": "stderr"
        },
        {
          "output_type": "stream",
          "text": [
            "\n",
            "Test set: Average loss: 0.0596, Accuracy: 9809/10000 (98.09%)\n",
            "\n",
            "EPOCH: 1\n"
          ],
          "name": "stdout"
        },
        {
          "output_type": "stream",
          "text": [
            "Loss=0.25357818603515625 Batch_id=937 Accuracy=97.28: 100%|██████████| 938/938 [00:14<00:00, 66.28it/s]\n",
            "  0%|          | 0/938 [00:00<?, ?it/s]"
          ],
          "name": "stderr"
        },
        {
          "output_type": "stream",
          "text": [
            "\n",
            "Test set: Average loss: 0.0495, Accuracy: 9850/10000 (98.50%)\n",
            "\n",
            "EPOCH: 2\n"
          ],
          "name": "stdout"
        },
        {
          "output_type": "stream",
          "text": [
            "Loss=0.25498995184898376 Batch_id=937 Accuracy=97.43: 100%|██████████| 938/938 [00:13<00:00, 69.11it/s]\n",
            "  0%|          | 0/938 [00:00<?, ?it/s]"
          ],
          "name": "stderr"
        },
        {
          "output_type": "stream",
          "text": [
            "\n",
            "Test set: Average loss: 0.0580, Accuracy: 9823/10000 (98.23%)\n",
            "\n",
            "EPOCH: 3\n"
          ],
          "name": "stdout"
        },
        {
          "output_type": "stream",
          "text": [
            "Loss=0.23179778456687927 Batch_id=937 Accuracy=97.60: 100%|██████████| 938/938 [00:13<00:00, 67.28it/s]\n",
            "  0%|          | 0/938 [00:00<?, ?it/s]"
          ],
          "name": "stderr"
        },
        {
          "output_type": "stream",
          "text": [
            "\n",
            "Test set: Average loss: 0.0609, Accuracy: 9811/10000 (98.11%)\n",
            "\n",
            "EPOCH: 4\n"
          ],
          "name": "stdout"
        },
        {
          "output_type": "stream",
          "text": [
            "Loss=0.19667057693004608 Batch_id=937 Accuracy=97.69: 100%|██████████| 938/938 [00:13<00:00, 68.07it/s]\n",
            "  0%|          | 0/938 [00:00<?, ?it/s]"
          ],
          "name": "stderr"
        },
        {
          "output_type": "stream",
          "text": [
            "\n",
            "Test set: Average loss: 0.0359, Accuracy: 9909/10000 (99.09%)\n",
            "\n",
            "EPOCH: 5\n"
          ],
          "name": "stdout"
        },
        {
          "output_type": "stream",
          "text": [
            "Loss=0.19537471234798431 Batch_id=937 Accuracy=97.58: 100%|██████████| 938/938 [00:13<00:00, 68.66it/s]\n",
            "  0%|          | 0/938 [00:00<?, ?it/s]"
          ],
          "name": "stderr"
        },
        {
          "output_type": "stream",
          "text": [
            "\n",
            "Test set: Average loss: 0.0447, Accuracy: 9861/10000 (98.61%)\n",
            "\n",
            "EPOCH: 6\n"
          ],
          "name": "stdout"
        },
        {
          "output_type": "stream",
          "text": [
            "Loss=0.1883668303489685 Batch_id=937 Accuracy=97.78: 100%|██████████| 938/938 [00:13<00:00, 67.42it/s]\n",
            "  0%|          | 0/938 [00:00<?, ?it/s]"
          ],
          "name": "stderr"
        },
        {
          "output_type": "stream",
          "text": [
            "\n",
            "Test set: Average loss: 0.0366, Accuracy: 9895/10000 (98.95%)\n",
            "\n",
            "EPOCH: 7\n"
          ],
          "name": "stdout"
        },
        {
          "output_type": "stream",
          "text": [
            "Loss=0.2908009886741638 Batch_id=937 Accuracy=97.82: 100%|██████████| 938/938 [00:13<00:00, 67.31it/s]\n",
            "  0%|          | 0/938 [00:00<?, ?it/s]"
          ],
          "name": "stderr"
        },
        {
          "output_type": "stream",
          "text": [
            "\n",
            "Test set: Average loss: 0.0503, Accuracy: 9853/10000 (98.53%)\n",
            "\n",
            "EPOCH: 8\n"
          ],
          "name": "stdout"
        },
        {
          "output_type": "stream",
          "text": [
            "Loss=0.24112072587013245 Batch_id=937 Accuracy=97.82: 100%|██████████| 938/938 [00:13<00:00, 67.44it/s]\n",
            "  0%|          | 0/938 [00:00<?, ?it/s]"
          ],
          "name": "stderr"
        },
        {
          "output_type": "stream",
          "text": [
            "\n",
            "Test set: Average loss: 0.0518, Accuracy: 9845/10000 (98.45%)\n",
            "\n",
            "EPOCH: 9\n"
          ],
          "name": "stdout"
        },
        {
          "output_type": "stream",
          "text": [
            "Loss=0.315563827753067 Batch_id=937 Accuracy=97.78: 100%|██████████| 938/938 [00:13<00:00, 68.63it/s]\n",
            "  0%|          | 0/938 [00:00<?, ?it/s]"
          ],
          "name": "stderr"
        },
        {
          "output_type": "stream",
          "text": [
            "\n",
            "Test set: Average loss: 0.0390, Accuracy: 9881/10000 (98.81%)\n",
            "\n",
            "EPOCH: 10\n"
          ],
          "name": "stdout"
        },
        {
          "output_type": "stream",
          "text": [
            "Loss=0.23337416350841522 Batch_id=937 Accuracy=97.91: 100%|██████████| 938/938 [00:13<00:00, 67.90it/s]\n",
            "  0%|          | 0/938 [00:00<?, ?it/s]"
          ],
          "name": "stderr"
        },
        {
          "output_type": "stream",
          "text": [
            "\n",
            "Test set: Average loss: 0.0374, Accuracy: 9885/10000 (98.85%)\n",
            "\n",
            "EPOCH: 11\n"
          ],
          "name": "stdout"
        },
        {
          "output_type": "stream",
          "text": [
            "Loss=0.2159157395362854 Batch_id=937 Accuracy=97.94: 100%|██████████| 938/938 [00:13<00:00, 68.41it/s]\n",
            "  0%|          | 0/938 [00:00<?, ?it/s]"
          ],
          "name": "stderr"
        },
        {
          "output_type": "stream",
          "text": [
            "\n",
            "Test set: Average loss: 0.0431, Accuracy: 9864/10000 (98.64%)\n",
            "\n",
            "EPOCH: 12\n"
          ],
          "name": "stdout"
        },
        {
          "output_type": "stream",
          "text": [
            "Loss=0.18545173108577728 Batch_id=937 Accuracy=97.89: 100%|██████████| 938/938 [00:13<00:00, 68.54it/s]\n",
            "  0%|          | 0/938 [00:00<?, ?it/s]"
          ],
          "name": "stderr"
        },
        {
          "output_type": "stream",
          "text": [
            "\n",
            "Test set: Average loss: 0.0395, Accuracy: 9878/10000 (98.78%)\n",
            "\n",
            "EPOCH: 13\n"
          ],
          "name": "stdout"
        },
        {
          "output_type": "stream",
          "text": [
            "Loss=0.29619985818862915 Batch_id=937 Accuracy=97.84: 100%|██████████| 938/938 [00:13<00:00, 67.71it/s]\n",
            "  0%|          | 0/938 [00:00<?, ?it/s]"
          ],
          "name": "stderr"
        },
        {
          "output_type": "stream",
          "text": [
            "\n",
            "Test set: Average loss: 0.0389, Accuracy: 9884/10000 (98.84%)\n",
            "\n",
            "EPOCH: 14\n"
          ],
          "name": "stdout"
        },
        {
          "output_type": "stream",
          "text": [
            "Loss=0.35941511392593384 Batch_id=937 Accuracy=97.71: 100%|██████████| 938/938 [00:13<00:00, 67.84it/s]\n",
            "  0%|          | 0/938 [00:00<?, ?it/s]"
          ],
          "name": "stderr"
        },
        {
          "output_type": "stream",
          "text": [
            "\n",
            "Test set: Average loss: 0.0547, Accuracy: 9831/10000 (98.31%)\n",
            "\n",
            "EPOCH: 15\n"
          ],
          "name": "stdout"
        },
        {
          "output_type": "stream",
          "text": [
            "Loss=0.17537492513656616 Batch_id=937 Accuracy=97.75: 100%|██████████| 938/938 [00:13<00:00, 68.18it/s]\n",
            "  0%|          | 0/938 [00:00<?, ?it/s]"
          ],
          "name": "stderr"
        },
        {
          "output_type": "stream",
          "text": [
            "\n",
            "Test set: Average loss: 0.0507, Accuracy: 9853/10000 (98.53%)\n",
            "\n",
            "EPOCH: 16\n"
          ],
          "name": "stdout"
        },
        {
          "output_type": "stream",
          "text": [
            "Loss=0.20119577646255493 Batch_id=937 Accuracy=97.81: 100%|██████████| 938/938 [00:13<00:00, 67.73it/s]\n",
            "  0%|          | 0/938 [00:00<?, ?it/s]"
          ],
          "name": "stderr"
        },
        {
          "output_type": "stream",
          "text": [
            "\n",
            "Test set: Average loss: 0.0442, Accuracy: 9865/10000 (98.65%)\n",
            "\n",
            "EPOCH: 17\n"
          ],
          "name": "stdout"
        },
        {
          "output_type": "stream",
          "text": [
            "Loss=0.18775373697280884 Batch_id=937 Accuracy=97.81: 100%|██████████| 938/938 [00:14<00:00, 66.73it/s]\n",
            "  0%|          | 0/938 [00:00<?, ?it/s]"
          ],
          "name": "stderr"
        },
        {
          "output_type": "stream",
          "text": [
            "\n",
            "Test set: Average loss: 0.0585, Accuracy: 9819/10000 (98.19%)\n",
            "\n",
            "EPOCH: 18\n"
          ],
          "name": "stdout"
        },
        {
          "output_type": "stream",
          "text": [
            "Loss=0.16604633629322052 Batch_id=937 Accuracy=97.75: 100%|██████████| 938/938 [00:13<00:00, 67.93it/s]\n",
            "  0%|          | 0/938 [00:00<?, ?it/s]"
          ],
          "name": "stderr"
        },
        {
          "output_type": "stream",
          "text": [
            "\n",
            "Test set: Average loss: 0.0417, Accuracy: 9875/10000 (98.75%)\n",
            "\n",
            "EPOCH: 19\n"
          ],
          "name": "stdout"
        },
        {
          "output_type": "stream",
          "text": [
            "Loss=0.23592215776443481 Batch_id=937 Accuracy=97.76: 100%|██████████| 938/938 [00:13<00:00, 67.58it/s]\n",
            "  0%|          | 0/938 [00:00<?, ?it/s]"
          ],
          "name": "stderr"
        },
        {
          "output_type": "stream",
          "text": [
            "\n",
            "Test set: Average loss: 0.0380, Accuracy: 9886/10000 (98.86%)\n",
            "\n",
            "EPOCH: 20\n"
          ],
          "name": "stdout"
        },
        {
          "output_type": "stream",
          "text": [
            "Loss=0.16403469443321228 Batch_id=937 Accuracy=97.84: 100%|██████████| 938/938 [00:13<00:00, 67.30it/s]\n",
            "  0%|          | 0/938 [00:00<?, ?it/s]"
          ],
          "name": "stderr"
        },
        {
          "output_type": "stream",
          "text": [
            "\n",
            "Test set: Average loss: 0.0567, Accuracy: 9831/10000 (98.31%)\n",
            "\n",
            "EPOCH: 21\n"
          ],
          "name": "stdout"
        },
        {
          "output_type": "stream",
          "text": [
            "Loss=0.16258636116981506 Batch_id=937 Accuracy=97.87: 100%|██████████| 938/938 [00:14<00:00, 64.47it/s]\n",
            "  0%|          | 0/938 [00:00<?, ?it/s]"
          ],
          "name": "stderr"
        },
        {
          "output_type": "stream",
          "text": [
            "\n",
            "Test set: Average loss: 0.0413, Accuracy: 9866/10000 (98.66%)\n",
            "\n",
            "EPOCH: 22\n"
          ],
          "name": "stdout"
        },
        {
          "output_type": "stream",
          "text": [
            "Loss=0.32838112115859985 Batch_id=937 Accuracy=97.80: 100%|██████████| 938/938 [00:14<00:00, 66.71it/s]\n",
            "  0%|          | 0/938 [00:00<?, ?it/s]"
          ],
          "name": "stderr"
        },
        {
          "output_type": "stream",
          "text": [
            "\n",
            "Test set: Average loss: 0.0459, Accuracy: 9865/10000 (98.65%)\n",
            "\n",
            "EPOCH: 23\n"
          ],
          "name": "stdout"
        },
        {
          "output_type": "stream",
          "text": [
            "Loss=0.1801227629184723 Batch_id=937 Accuracy=97.76: 100%|██████████| 938/938 [00:14<00:00, 66.68it/s]\n",
            "  0%|          | 0/938 [00:00<?, ?it/s]"
          ],
          "name": "stderr"
        },
        {
          "output_type": "stream",
          "text": [
            "\n",
            "Test set: Average loss: 0.0575, Accuracy: 9819/10000 (98.19%)\n",
            "\n",
            "EPOCH: 24\n"
          ],
          "name": "stdout"
        },
        {
          "output_type": "stream",
          "text": [
            "Loss=0.21319139003753662 Batch_id=937 Accuracy=97.84: 100%|██████████| 938/938 [00:13<00:00, 67.73it/s]\n"
          ],
          "name": "stderr"
        },
        {
          "output_type": "stream",
          "text": [
            "\n",
            "Test set: Average loss: 0.0572, Accuracy: 9829/10000 (98.29%)\n",
            "\n"
          ],
          "name": "stdout"
        },
        {
          "output_type": "display_data",
          "data": {
            "image/png": "[encoded data removed]",
            "text/plain": [
              "<Figure size 1080x720 with 2 Axes>"
            ]
          },
          "metadata": {
            "tags": [],
            "needs_background": "light"
          }
        },
        {
          "output_type": "stream",
          "text": [
            "\n",
            "\n",
            "\n",
            "\n",
            "\n"
          ],
          "name": "stdout"
        },
        {
          "output_type": "display_data",
          "data": {
            "image/png": "[encoded data removed]",
            "text/plain": [
              "<Figure size 1080x1080 with 25 Axes>"
            ]
          },
          "metadata": {
            "tags": []
          }
        },
        {
          "output_type": "stream",
          "text": [
            "\n",
            "\n",
            "\n",
            "\n",
            "\n"
          ],
          "name": "stdout"
        },
        {
          "output_type": "display_data",
          "data": {
            "image/png": "[encoded data removed]",
            "text/plain": [
              "<Figure size 1080x1080 with 25 Axes>"
            ]
          },
          "metadata": {
            "tags": []
          }
        }
      ]
    },
    {
      "cell_type": "code",
      "metadata": {
        "id": "h9UaOwRBk9-s",
        "colab_type": "code",
        "colab": {}
      },
      "source": [
        ""
      ],
      "execution_count": 0,
      "outputs": []
    }
  ]
}