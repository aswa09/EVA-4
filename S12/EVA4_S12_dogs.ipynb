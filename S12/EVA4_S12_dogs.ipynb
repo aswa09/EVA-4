{
  "nbformat": 4,
  "nbformat_minor": 0,
  "metadata": {
    "colab": {
      "name": "EVA4_S12_dogs.ipynb",
      "provenance": [],
      "collapsed_sections": [],
      "authorship_tag": "ABX9TyM/nocvTBzjUnhknJixqREn",
      "include_colab_link": true
    },
    "kernelspec": {
      "name": "python3",
      "display_name": "Python 3"
    },
    "accelerator": "GPU"
  },
  "cells": [
    {
      "cell_type": "markdown",
      "metadata": {
        "id": "view-in-github",
        "colab_type": "text"
      },
      "source": [
        "<a href=\"https://colab.research.google.com/github/aswa09/EVA-4/blob/master/S12/EVA4_S12_dogs.ipynb\" target=\"_parent\"><img src=\"https://colab.research.google.com/assets/colab-badge.svg\" alt=\"Open In Colab\"/></a>"
      ]
    },
    {
      "cell_type": "markdown",
      "metadata": {
        "id": "2zAvVssozNHQ",
        "colab_type": "text"
      },
      "source": [
        "##Imports\n",
        "Importing necessary packages and modules"
      ]
    },
    {
      "cell_type": "code",
      "metadata": {
        "id": "uDFwnzDKycrt",
        "colab_type": "code",
        "colab": {}
      },
      "source": [
        "%matplotlib inline\n",
        "\n",
        "import numpy as np\n",
        "import matplotlib.pyplot as plt\n",
        "from matplotlib.collections import PatchCollection\n",
        "from matplotlib.patches import Rectangle"
      ],
      "execution_count": 1,
      "outputs": []
    },
    {
      "cell_type": "code",
      "metadata": {
        "id": "jbOVX_eN5M9R",
        "colab_type": "code",
        "colab": {
          "base_uri": "https://localhost:8080/",
          "height": 35
        },
        "outputId": "2182a59c-66e2-4bc1-b21d-3bc037a5c953"
      },
      "source": [
        "from google.colab import drive\n",
        "\n",
        "drive.mount('/content/drive/',force_remount=True)"
      ],
      "execution_count": 2,
      "outputs": [
        {
          "output_type": "stream",
          "text": [
            "Mounted at /content/drive/\n"
          ],
          "name": "stdout"
        }
      ]
    },
    {
      "cell_type": "code",
      "metadata": {
        "id": "NogiXEaa5b9A",
        "colab_type": "code",
        "colab": {
          "base_uri": "https://localhost:8080/",
          "height": 35
        },
        "outputId": "f4b3db60-27ac-4e06-d65f-6a2fde2c95be"
      },
      "source": [
        "import os\n",
        "os.chdir('./drive/My Drive/Colab Notebooks/S12/datasets/dogs/')\n",
        "\n",
        "!ls"
      ],
      "execution_count": 3,
      "outputs": [
        {
          "output_type": "stream",
          "text": [
            "dogs_coco.json\tdogs_csv.csv  dogs.json  dogs_json.json\n"
          ],
          "name": "stdout"
        }
      ]
    },
    {
      "cell_type": "markdown",
      "metadata": {
        "id": "MjJKMvDDzTKf",
        "colab_type": "text"
      },
      "source": [
        "Data Preparation\n",
        "Parse the JSON file to obtain annotations.\n",
        "\n",
        "JSON File Structure\n",
        "The annotation file will be of COCO format and have the following structure\n",
        "\n",
        "images\n",
        "\n",
        "id: Image id\n",
        "width: Width of the image\n",
        "height: Height of the image\n",
        "filename: Image file name\n",
        "license: License id for the image\n",
        "date_captured: Date of capture of the image\n",
        "\n",
        "\n",
        "annotations\n",
        "\n",
        "id: Annotation id\n",
        "image_id: Id of the image the annotation is associated with\n",
        "category_id: Id of the class the annotation belongs to\n",
        "segmentation: (x, y) coordinates of the four corners of the bounding box\n",
        "area: Area of the bounding box\n",
        "bbox: (x, y) coordinate of the top-left corner and width and height of the bounding box\n",
        "iscrowd: If the image has a crowd of objects denoted by this annotation"
      ]
    },
    {
      "cell_type": "code",
      "metadata": {
        "id": "GlESigftyoIZ",
        "colab_type": "code",
        "colab": {}
      },
      "source": [
        "def load_json(path):\n",
        "    \"\"\"Read the input JSON file.\n",
        "\n",
        "    Args:\n",
        "        path (str): Path to the JSON file.\n",
        "    \n",
        "    Returns:\n",
        "        Image annotations.\n",
        "    \"\"\"\n",
        "    with open(path) as f:\n",
        "        img_annotations = eval(f.read())\n",
        "    return img_annotations"
      ],
      "execution_count": 4,
      "outputs": []
    },
    {
      "cell_type": "code",
      "metadata": {
        "id": "bPtH3bvoyrCy",
        "colab_type": "code",
        "colab": {}
      },
      "source": [
        "def fetch_data_points(img_annotations):\n",
        "    \"\"\"Fetch data points from the image\n",
        "    annotations.\n",
        "\n",
        "    Args:\n",
        "        img_annotations (dict): Image annotations.\n",
        "    \n",
        "    Returns:\n",
        "        Array containing data points.\n",
        "    \"\"\"\n",
        "    data_points = []\n",
        "    for annotation in img_annotations['annotations']:\n",
        "        bbox = annotation['bbox']\n",
        "        img = img_annotations['images'][int(annotation['image_id'])-1]\n",
        "\n",
        "        # Normalize the height and width of the bounding box\n",
        "        data_points.append((\n",
        "            bbox[2] / img['width'],\n",
        "            bbox[3] / img['height']\n",
        "        ))\n",
        "    return np.array(data_points)"
      ],
      "execution_count": 16,
      "outputs": []
    },
    {
      "cell_type": "code",
      "metadata": {
        "id": "Rt52W7J-yueB",
        "colab_type": "code",
        "colab": {}
      },
      "source": [
        "import json\n",
        "\n",
        "img_annotations = load_json('dogs_coco.json')\n",
        "data_points = fetch_data_points(img_annotations)"
      ],
      "execution_count": 17,
      "outputs": []
    },
    {
      "cell_type": "markdown",
      "metadata": {
        "id": "9P5IJiRfzsQ_",
        "colab_type": "text"
      },
      "source": [
        "Visualize Data\n",
        "Display a scatter plot of the height and width of the normalized bounding boxes"
      ]
    },
    {
      "cell_type": "code",
      "metadata": {
        "id": "AvvfBvK8y2Nl",
        "colab_type": "code",
        "colab": {
          "base_uri": "https://localhost:8080/",
          "height": 300
        },
        "outputId": "8a0c7cc2-dce5-4180-ca30-2f539bcaac11"
      },
      "source": [
        "plt.scatter(data_points[:, 0], data_points[:, 1])\n",
        "plt.xlabel('width')\n",
        "plt.ylabel('height')"
      ],
      "execution_count": 18,
      "outputs": [
        {
          "output_type": "execute_result",
          "data": {
            "text/plain": [
              "Text(0, 0.5, 'height')"
            ]
          },
          "metadata": {
            "tags": []
          },
          "execution_count": 18
        },
        {
          "output_type": "display_data",
          "data": {
            "image/png": "[encoded data removed]",
            "text/plain": [
              "<Figure size 432x288 with 1 Axes>"
            ]
          },
          "metadata": {
            "tags": [],
            "needs_background": "light"
          }
        }
      ]
    },
    {
      "cell_type": "code",
      "metadata": {
        "id": "rKJqS1nIy21d",
        "colab_type": "code",
        "colab": {
          "base_uri": "https://localhost:8080/",
          "height": 297
        },
        "outputId": "101bf773-1996-4996-f5e1-0eed37a3a624"
      },
      "source": [
        "plt.scatter(np.log(data_points[:, 0]), np.log(data_points[:, 1]))\n",
        "plt.xlabel('log(width)')\n",
        "plt.ylabel('log(height)')"
      ],
      "execution_count": 19,
      "outputs": [
        {
          "output_type": "execute_result",
          "data": {
            "text/plain": [
              "Text(0, 0.5, 'log(height)')"
            ]
          },
          "metadata": {
            "tags": []
          },
          "execution_count": 19
        },
        {
          "output_type": "display_data",
          "data": {
            "image/png": "[encoded data removed]",
            "text/plain": [
              "<Figure size 432x288 with 1 Axes>"
            ]
          },
          "metadata": {
            "tags": [],
            "needs_background": "light"
          }
        }
      ]
    },
    {
      "cell_type": "markdown",
      "metadata": {
        "id": "eJB2A06xz0qE",
        "colab_type": "text"
      },
      "source": [
        "K-Means Clustering\n",
        "\n",
        "Define the K-Means algorithm"
      ]
    },
    {
      "cell_type": "code",
      "metadata": {
        "id": "vrY1syi-_04Q",
        "colab_type": "code",
        "colab": {}
      },
      "source": [
        "def get_iou(centroids,closest,data_points):\n",
        "  \"\"\"Calculate Intersection over Union (IoU) for each point\n",
        "  with its closest centroid.\"\"\"\n",
        "  closest_centroids = centroids[closest]\n",
        "  width = np.minimum(closest_centroids[:, 0], data_points[:, 0])\n",
        "  height = np.minimum(closest_centroids[:, 1], data_points[:, 1])\n",
        "\n",
        "  intersection = width * height\n",
        "  points_area = data_points[:, 0] * data_points[:, 1]\n",
        "  cluster_area = closest_centroids[:, 0] * closest_centroids[:, 1]\n",
        "\n",
        "  mean_iou = np.mean(intersection / (points_area + cluster_area - intersection))\n",
        "  return mean_iou"
      ],
      "execution_count": 23,
      "outputs": []
    },
    {
      "cell_type": "code",
      "metadata": {
        "id": "1apRmxZKz1vl",
        "colab_type": "code",
        "colab": {}
      },
      "source": [
        "from sklearn.cluster import KMeans\n",
        "import numpy as np\n",
        "\n",
        "# List containing the mean IoU for each set of\n",
        "# number of clusters\n",
        "iou_list = []\n",
        "\n",
        "# Range of number of clusters to try out\n",
        "num_clusters_start = 1\n",
        "num_clusters_end = 16\n",
        "\n",
        "# Run K-Means for each range of number of clusters\n",
        "for k in range(num_clusters_start, num_clusters_end + 1):\n",
        "    kmeans = KMeans(n_clusters=k, random_state=0).fit(data_points)\n",
        "    centroids=kmeans.cluster_centers_\n",
        "\n",
        "    distances = np.sqrt(((data_points - centroids[:, np.newaxis]) ** 2).sum(axis=2))\n",
        "    closest = np.argmin(distances, axis=0)\n",
        "    iou_list.append(get_iou(centroids,closest,data_points))"
      ],
      "execution_count": 24,
      "outputs": []
    },
    {
      "cell_type": "markdown",
      "metadata": {
        "id": "2mQ7fU6VAWAc",
        "colab_type": "text"
      },
      "source": [
        "Visualize Results\n",
        "Display the Number of clusters vs Mean IoU graph"
      ]
    },
    {
      "cell_type": "code",
      "metadata": {
        "id": "ho7OjolD1kyr",
        "colab_type": "code",
        "colab": {
          "base_uri": "https://localhost:8080/",
          "height": 350
        },
        "outputId": "ce70c2a7-28d2-4767-9d5b-a098df0f1a40"
      },
      "source": [
        "fig = plt.figure(figsize=(9, 5))\n",
        "\n",
        "_ = plt.plot(iou_list, '-s', markeredgecolor='green', markeredgewidth=3)\n",
        "\n",
        "plt.xlabel('Number of Clusters (k)')\n",
        "plt.ylabel('Mean IoU')\n",
        "\n",
        "plt.xticks(np.arange(len(iou_list)), np.arange(1, len(iou_list)+1))\n",
        "plt.title('Number of Clusters vs Mean IoU')\n",
        "\n",
        "fig.savefig('kmeans_iou.png')"
      ],
      "execution_count": 26,
      "outputs": [
        {
          "output_type": "display_data",
          "data": {
            "image/png": "[encoded data removed]",
            "text/plain": [
              "<Figure size 648x360 with 1 Axes>"
            ]
          },
          "metadata": {
            "tags": [],
            "needs_background": "light"
          }
        }
      ]
    },
    {
      "cell_type": "markdown",
      "metadata": {
        "id": "LoCwSDrXAed1",
        "colab_type": "text"
      },
      "source": [
        "For the above plot, k = 3 or k = 4 seems to be the best choice because for after 4, the curve becomes almost linear.\n",
        "\n",
        "Plot clusters\n",
        "Let's display plots for points with k = 3 and k = 4"
      ]
    },
    {
      "cell_type": "code",
      "metadata": {
        "id": "PZxG7hjtAOi_",
        "colab_type": "code",
        "colab": {}
      },
      "source": [
        "def display_clusters(kmeans,data_points):\n",
        "    num_clusters = kmeans.n_clusters\n",
        "\n",
        "    # Plot points for each cluster\n",
        "    for cluster_id in range(num_clusters):\n",
        "      distances = np.sqrt(((data_points - centroids[:, np.newaxis]) ** 2).sum(axis=2))\n",
        "      closest = np.argmin(distances, axis=0)\n",
        "\n",
        "      points = data_points[closest == cluster_id]\n",
        "      plt.scatter(points[:, 0], points[:, 1])\n",
        "  \n",
        "    # Plot centroids\n",
        "    plt.scatter(kmeans.cluster_centers_[:, 0], kmeans.cluster_centers_[:, 1], c='black', s=90, marker='x')\n",
        "    plt.xlabel('width')\n",
        "    plt.ylabel('height')\n",
        "    plt.title(f'Cluster Plot for k = {num_clusters}')\n",
        "\n",
        "    # Save figure\n",
        "    plt.savefig(f'cluster_plot_k{num_clusters}.png')"
      ],
      "execution_count": 36,
      "outputs": []
    },
    {
      "cell_type": "code",
      "metadata": {
        "id": "zNAYVf9YA4a2",
        "colab_type": "code",
        "colab": {
          "base_uri": "https://localhost:8080/",
          "height": 295
        },
        "outputId": "b2c5e299-c375-4674-8818-ee8855827980"
      },
      "source": [
        "# Plot for k = 3\n",
        "kmeans = KMeans(n_clusters=3, random_state=0).fit(data_points)\n",
        "display_clusters(kmeans,data_points)"
      ],
      "execution_count": 37,
      "outputs": [
        {
          "output_type": "display_data",
          "data": {
            "image/png": "[encoded data removed]",
            "text/plain": [
              "<Figure size 432x288 with 1 Axes>"
            ]
          },
          "metadata": {
            "tags": [],
            "needs_background": "light"
          }
        }
      ]
    },
    {
      "cell_type": "code",
      "metadata": {
        "id": "hwD-DMENA73C",
        "colab_type": "code",
        "colab": {
          "base_uri": "https://localhost:8080/",
          "height": 295
        },
        "outputId": "3ab283ba-f6b6-44be-ca5c-fdd2b6553bb5"
      },
      "source": [
        "# Plot for k = 4\n",
        "kmeans = KMeans(n_clusters=4, random_state=0).fit(data_points)\n",
        "display_clusters(kmeans,data_points)"
      ],
      "execution_count": 38,
      "outputs": [
        {
          "output_type": "display_data",
          "data": {
            "image/png": "[encoded data removed]",
            "text/plain": [
              "<Figure size 432x288 with 1 Axes>"
            ]
          },
          "metadata": {
            "tags": [],
            "needs_background": "light"
          }
        }
      ]
    },
    {
      "cell_type": "markdown",
      "metadata": {
        "id": "pdwOaeGoCZik",
        "colab_type": "text"
      },
      "source": [
        "Plot Anchor Boxes\n",
        "Plot the anchor boxes obtained for k = 3 and k = 4"
      ]
    },
    {
      "cell_type": "code",
      "metadata": {
        "id": "5XQ0m7-MCVjN",
        "colab_type": "code",
        "colab": {}
      },
      "source": [
        "def make_anchor_boxes(ax, clusters, edgecolor='b', alpha=1):\n",
        "    \"\"\"Make anchor boxes given cluster centroids.\"\"\"\n",
        "\n",
        "    xdata = np.array([0.5]*len(clusters))\n",
        "    ydata = np.array([0.5]*len(clusters))\n",
        "\n",
        "    xerror = np.array([list(np.exp(clusters[:, 0])/2)]*2)\n",
        "    yerror = np.array([list(np.exp(clusters[:, 1])/2)]*2)\n",
        "\n",
        "    # Create list for all the error patches\n",
        "    errorboxes = []\n",
        "\n",
        "    # Loop over data points; create box from errors at each point\n",
        "    for x, y, xe, ye in zip(xdata, ydata, xerror.T, yerror.T):\n",
        "        rect = Rectangle((x - xe[0], y - ye[0]), xe.sum(), ye.sum())\n",
        "        errorboxes.append(rect)\n",
        "\n",
        "    # Create patch collection with specified colour/alpha\n",
        "    pc = PatchCollection(\n",
        "        errorboxes, facecolor='None', alpha=alpha, edgecolor=edgecolor\n",
        "    )\n",
        "\n",
        "    # Add collection to axes\n",
        "    ax.add_collection(pc)\n",
        "\n",
        "    # Plot errorbars\n",
        "    artists = ax.errorbar(\n",
        "        xdata, ydata, xerr=xerror, yerr=yerror, fmt='None', ecolor='None'\n",
        "    )\n",
        "\n",
        "    return artists"
      ],
      "execution_count": 39,
      "outputs": []
    },
    {
      "cell_type": "code",
      "metadata": {
        "id": "3zCG--TOCgqG",
        "colab_type": "code",
        "colab": {
          "base_uri": "https://localhost:8080/",
          "height": 281
        },
        "outputId": "10dfba50-a6f5-4f5d-da0f-801686e3b6fc"
      },
      "source": [
        "# Create figure and axes\n",
        "fig, ax = plt.subplots(1)\n",
        "\n",
        "# Create error boxes\n",
        "kmeans = KMeans(n_clusters=3, random_state=0).fit(data_points)\n",
        "_ = make_anchor_boxes(ax, kmeans.cluster_centers_)\n",
        "\n",
        "# Show plot\n",
        "plt.title('Anchor boxes for k = 3')\n",
        "plt.show()\n",
        "fig.savefig('anchor_bbox_k3.png')"
      ],
      "execution_count": 42,
      "outputs": [
        {
          "output_type": "display_data",
          "data": {
            "image/png": "[encoded data removed]",
            "text/plain": [
              "<Figure size 432x288 with 1 Axes>"
            ]
          },
          "metadata": {
            "tags": [],
            "needs_background": "light"
          }
        }
      ]
    },
    {
      "cell_type": "code",
      "metadata": {
        "id": "irEsRz9JCjS3",
        "colab_type": "code",
        "colab": {
          "base_uri": "https://localhost:8080/",
          "height": 281
        },
        "outputId": "74860335-ee9a-44b4-8042-845bb3c74a5e"
      },
      "source": [
        "# Create figure and axes\n",
        "fig, ax = plt.subplots(1)\n",
        "\n",
        "# Create error boxes\n",
        "kmeans = KMeans(n_clusters=4, random_state=0).fit(data_points)\n",
        "_ = make_anchor_boxes(ax, kmeans.cluster_centers_)\n",
        "\n",
        "# Show plot\n",
        "plt.title('Anchor boxes for k = 3')\n",
        "plt.show()\n",
        "fig.savefig('anchor_bbox_k3.png')"
      ],
      "execution_count": 43,
      "outputs": [
        {
          "output_type": "display_data",
          "data": {
            "image/png": "[encoded data removed]",
            "text/plain": [
              "<Figure size 432x288 with 1 Axes>"
            ]
          },
          "metadata": {
            "tags": [],
            "needs_background": "light"
          }
        }
      ]
    },
    {
      "cell_type": "code",
      "metadata": {
        "id": "-chSI8hsC3E_",
        "colab_type": "code",
        "colab": {}
      },
      "source": [
        ""
      ],
      "execution_count": null,
      "outputs": []
    }
  ]
}