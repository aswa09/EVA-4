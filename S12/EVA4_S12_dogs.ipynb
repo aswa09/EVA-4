{
  "nbformat": 4,
  "nbformat_minor": 0,
  "metadata": {
    "colab": {
      "name": "EVA4_S12_dogs.ipynb",
      "provenance": [],
      "collapsed_sections": [],
      "authorship_tag": "ABX9TyM5/G5r7Qvosx3awlkVBU8v",
      "include_colab_link": true
    },
    "kernelspec": {
      "name": "python3",
      "display_name": "Python 3"
    },
    "accelerator": "GPU"
  },
  "cells": [
    {
      "cell_type": "markdown",
      "metadata": {
        "id": "view-in-github",
        "colab_type": "text"
      },
      "source": [
        "<a href=\"https://colab.research.google.com/github/aswa09/EVA-4/blob/master/S12/EVA4_S12_dogs.ipynb\" target=\"_parent\"><img src=\"https://colab.research.google.com/assets/colab-badge.svg\" alt=\"Open In Colab\"/></a>"
      ]
    },
    {
      "cell_type": "markdown",
      "metadata": {
        "id": "U713gFWpDfN9",
        "colab_type": "text"
      },
      "source": [
        "'dogs_coco.json' - JSON File Structure:\n",
        "\n",
        "The annotation file is a JSON COCO format file, and with the below contents:\n",
        "\n",
        "- images:\n",
        "\n",
        "  - id: Image id\n",
        "  - width: Width of the image\n",
        "  - height: Height of the image\n",
        "  - filename: Image file name\n",
        "  - license: License id for the image\n",
        "  - date_captured: Date of capture of the image\n",
        "\n",
        "\n",
        "- annotations:\n",
        "\n",
        "  - id: Annotation id\n",
        "  - image_id: Id of the image the annotation is associated with\n",
        "  - category_id: Id of the class the annotation belongs to\n",
        "  - segmentation: (x, y) coordinates of the four corners of the bounding box\n",
        "  - area: Area of the bounding box\n",
        "  - bbox: (x, y) coordinate of the top-left corner and width and height of the bounding box\n",
        "  - iscrowd: If the image has a crowd of objects denoted by this annotation"
      ]
    },
    {
      "cell_type": "markdown",
      "metadata": {
        "id": "2zAvVssozNHQ",
        "colab_type": "text"
      },
      "source": [
        "##Import Libraries"
      ]
    },
    {
      "cell_type": "code",
      "metadata": {
        "id": "uDFwnzDKycrt",
        "colab_type": "code",
        "colab": {}
      },
      "source": [
        "%matplotlib inline\n",
        "\n",
        "import numpy as np\n",
        "import matplotlib.pyplot as plt\n",
        "from matplotlib.collections import PatchCollection\n",
        "from matplotlib.patches import Rectangle\n",
        "import json\n",
        "import os\n",
        "from sklearn.cluster import KMeans\n",
        "import numpy as np"
      ],
      "execution_count": 1,
      "outputs": []
    },
    {
      "cell_type": "markdown",
      "metadata": {
        "id": "BgVam-P_DQ7L",
        "colab_type": "text"
      },
      "source": [
        "##Mount Drive"
      ]
    },
    {
      "cell_type": "code",
      "metadata": {
        "id": "jbOVX_eN5M9R",
        "colab_type": "code",
        "colab": {
          "base_uri": "https://localhost:8080/",
          "height": 35
        },
        "outputId": "6d27e7b3-38de-4952-acd0-e88147442acf"
      },
      "source": [
        "from google.colab import drive\n",
        "\n",
        "drive.mount('/content/drive/',force_remount=True)"
      ],
      "execution_count": 2,
      "outputs": [
        {
          "output_type": "stream",
          "text": [
            "Mounted at /content/drive/\n"
          ],
          "name": "stdout"
        }
      ]
    },
    {
      "cell_type": "code",
      "metadata": {
        "id": "NogiXEaa5b9A",
        "colab_type": "code",
        "colab": {
          "base_uri": "https://localhost:8080/",
          "height": 54
        },
        "outputId": "49683a95-35e0-4183-85c5-e4393095f83a"
      },
      "source": [
        "os.chdir('./drive/My Drive/Colab Notebooks/S12/datasets/dogs/')\n",
        "\n",
        "!ls"
      ],
      "execution_count": 3,
      "outputs": [
        {
          "output_type": "stream",
          "text": [
            "anchor_bbox_k3.png   cluster_plot_k4.png  dogs_csv.csv\t  kmeans_iou.png\n",
            "cluster_plot_k3.png  dogs_coco.json\t  dogs_json.json\n"
          ],
          "name": "stdout"
        }
      ]
    },
    {
      "cell_type": "markdown",
      "metadata": {
        "id": "MjJKMvDDzTKf",
        "colab_type": "text"
      },
      "source": [
        "##Parse the JSON file for annotations"
      ]
    },
    {
      "cell_type": "code",
      "metadata": {
        "id": "GlESigftyoIZ",
        "colab_type": "code",
        "colab": {}
      },
      "source": [
        "def load_json(path):\n",
        "    with open(path) as f:\n",
        "        img_annotations = eval(f.read())\n",
        "    return img_annotations"
      ],
      "execution_count": 4,
      "outputs": []
    },
    {
      "cell_type": "markdown",
      "metadata": {
        "id": "zLqK6EkdIMr8",
        "colab_type": "text"
      },
      "source": [
        "##Get datapoints from annotations "
      ]
    },
    {
      "cell_type": "code",
      "metadata": {
        "id": "bPtH3bvoyrCy",
        "colab_type": "code",
        "colab": {}
      },
      "source": [
        "def get_datapoints(img_annotations):\n",
        "    \"\"\"\n",
        "    Args:\n",
        "      img_annotations (dict): Image annotations.\n",
        "    Returns:\n",
        "      Array containing data points.\n",
        "    \"\"\"\n",
        "\n",
        "    data_points = []\n",
        "    for annotation in img_annotations['annotations']:\n",
        "        bbox = annotation['bbox']\n",
        "        img = img_annotations['images'][int(annotation['image_id'])-1]\n",
        "\n",
        "        # Norm height and width of bbox\n",
        "        data_points.append((\n",
        "            bbox[2] / img['width'],\n",
        "            bbox[3] / img['height']\n",
        "        ))\n",
        "    return np.array(data_points)"
      ],
      "execution_count": 5,
      "outputs": []
    },
    {
      "cell_type": "markdown",
      "metadata": {
        "id": "eJB2A06xz0qE",
        "colab_type": "text"
      },
      "source": [
        "##K-Means Clustering"
      ]
    },
    {
      "cell_type": "code",
      "metadata": {
        "id": "W7GlPZCvElHb",
        "colab_type": "code",
        "colab": {}
      },
      "source": [
        "def get_kmeans(data_points,k):\n",
        "  kmeans = KMeans(n_clusters=k, random_state=0).fit(data_points)\n",
        "  centroids=kmeans.cluster_centers_\n",
        "\n",
        "  distances = np.sqrt(((data_points - centroids[:, np.newaxis]) ** 2).sum(axis=2))\n",
        "  closest = np.argmin(distances, axis=0)\n",
        "\n",
        "  return centroids,closest,kmeans"
      ],
      "execution_count": 6,
      "outputs": []
    },
    {
      "cell_type": "markdown",
      "metadata": {
        "id": "MDCQMy_qFPUZ",
        "colab_type": "text"
      },
      "source": [
        "##Function to get IOU"
      ]
    },
    {
      "cell_type": "code",
      "metadata": {
        "id": "vrY1syi-_04Q",
        "colab_type": "code",
        "colab": {}
      },
      "source": [
        "def get_iou(centroids,closest,data_points):\n",
        "  \"\"\"Calculate Intersection over Union (IoU) for each point with its closest centroid.\"\"\"\n",
        "  closest_centroids = centroids[closest]\n",
        "  width = np.minimum(closest_centroids[:, 0], data_points[:, 0])\n",
        "  height = np.minimum(closest_centroids[:, 1], data_points[:, 1])\n",
        "\n",
        "  intersection = width * height\n",
        "  points_area = data_points[:, 0] * data_points[:, 1]\n",
        "  cluster_area = closest_centroids[:, 0] * closest_centroids[:, 1]\n",
        "\n",
        "  mean_iou = np.mean(intersection / (points_area + cluster_area - intersection))\n",
        "  return mean_iou"
      ],
      "execution_count": 7,
      "outputs": []
    },
    {
      "cell_type": "markdown",
      "metadata": {
        "id": "2mQ7fU6VAWAc",
        "colab_type": "text"
      },
      "source": [
        "Visualize Results\n",
        "Display the Number of clusters vs Mean IoU graph"
      ]
    },
    {
      "cell_type": "code",
      "metadata": {
        "id": "ho7OjolD1kyr",
        "colab_type": "code",
        "colab": {}
      },
      "source": [
        "def plot_k_iou(iou_list):\n",
        "  plt.cla\n",
        "  plt.clf()\n",
        "  \n",
        "  fig = plt.figure(figsize=(9, 5))\n",
        "\n",
        "  plt.plot(iou_list, '-s')\n",
        "\n",
        "  plt.xlabel('Number of Clusters(k)')\n",
        "  plt.ylabel('Mean IoU')\n",
        "\n",
        "  plt.xticks(np.arange(len(iou_list)), np.arange(1, len(iou_list)+1))\n",
        "  plt.title('Number of Clusters(k) vs Mean IoU')\n",
        "\n",
        "  fig.savefig('kmeans_iou.png')"
      ],
      "execution_count": 8,
      "outputs": []
    },
    {
      "cell_type": "code",
      "metadata": {
        "id": "gXqSz8eXFeNj",
        "colab_type": "code",
        "colab": {}
      },
      "source": [
        "def get_cluster_number():\n",
        "  img_annotations = load_json('dogs_coco.json')\n",
        "  data_points = get_datapoints(img_annotations)\n",
        "\n",
        "  # Visualize Data\n",
        "  # height vs width of normalized bounding boxes\n",
        "\n",
        "  plt.scatter(data_points[:, 0], data_points[:, 1])\n",
        "  plt.xlabel('width')\n",
        "  plt.ylabel('height')\n",
        "  plt.title('width vs height')\n",
        "  plt.show()\n",
        "\n",
        "  iou_list = []\n",
        "\n",
        "  #Range of clusters to use\n",
        "  nclusters_start = 1\n",
        "  nclusters_end = 16\n",
        "\n",
        "  for k in range(nclusters_start, nclusters_end + 1):\n",
        "      centroids,closest,kmeans=get_kmeans(data_points,k)\n",
        "      iou_list.append(get_iou(centroids,closest,data_points))\n",
        "\n",
        "  plot_k_iou(iou_list)\n",
        "\n",
        "  return data_points"
      ],
      "execution_count": 9,
      "outputs": []
    },
    {
      "cell_type": "code",
      "metadata": {
        "id": "OGOS0He8HDlS",
        "colab_type": "code",
        "colab": {
          "base_uri": "https://localhost:8080/",
          "height": 646
        },
        "outputId": "1f588091-5a84-480b-823a-ea7ccad5fc0e"
      },
      "source": [
        "data_points=get_cluster_number()"
      ],
      "execution_count": 10,
      "outputs": [
        {
          "output_type": "display_data",
          "data": {
            "image/png": "[encoded data removed]",
            "text/plain": [
              "<Figure size 432x288 with 1 Axes>"
            ]
          },
          "metadata": {
            "tags": [],
            "needs_background": "light"
          }
        },
        {
          "output_type": "display_data",
          "data": {
            "text/plain": [
              "<Figure size 432x288 with 0 Axes>"
            ]
          },
          "metadata": {
            "tags": []
          }
        },
        {
          "output_type": "display_data",
          "data": {
            "image/png": "[encoded data removed]",
            "text/plain": [
              "<Figure size 648x360 with 1 Axes>"
            ]
          },
          "metadata": {
            "tags": [],
            "needs_background": "light"
          }
        }
      ]
    },
    {
      "cell_type": "markdown",
      "metadata": {
        "id": "LoCwSDrXAed1",
        "colab_type": "text"
      },
      "source": [
        "####From the graph we can see that k = 3 or k = 4 appear to be optimal cluster numbers, as the curve tends to be linear after k=4"
      ]
    },
    {
      "cell_type": "markdown",
      "metadata": {
        "id": "hW4ijRBoHH-D",
        "colab_type": "text"
      },
      "source": [
        "##Plotting the clusters for k=3 and 4"
      ]
    },
    {
      "cell_type": "code",
      "metadata": {
        "id": "PZxG7hjtAOi_",
        "colab_type": "code",
        "colab": {}
      },
      "source": [
        "def display_clusters(kmeans,data_points):\n",
        "    num_clusters = kmeans.n_clusters\n",
        "\n",
        "    #clusters\n",
        "    for cluster_id in range(num_clusters):\n",
        "      distances = np.sqrt(((data_points - centroids[:, np.newaxis]) ** 2).sum(axis=2))\n",
        "      closest = np.argmin(distances, axis=0)\n",
        "\n",
        "      points = data_points[closest == cluster_id]\n",
        "      plt.scatter(points[:, 0], points[:, 1])\n",
        "  \n",
        "    #centroids\n",
        "    plt.scatter(kmeans.cluster_centers_[:, 0], kmeans.cluster_centers_[:, 1], c='black',marker='x')\n",
        "    plt.xlabel('width')\n",
        "    plt.ylabel('height')\n",
        "    plt.title(f'Cluster Plot for k='+str(num_clusters))\n",
        "    plt.show()\n",
        "    plt.savefig(f'cluster_plot_k'+str(num_clusters)+'.png')"
      ],
      "execution_count": 16,
      "outputs": []
    },
    {
      "cell_type": "code",
      "metadata": {
        "id": "zNAYVf9YA4a2",
        "colab_type": "code",
        "colab": {
          "base_uri": "https://localhost:8080/",
          "height": 591
        },
        "outputId": "0881de1b-5fdc-4045-d037-a6c137f91951"
      },
      "source": [
        "#k=3\n",
        "centroids,closest,kmeans=get_kmeans(data_points,3)\n",
        "display_clusters(kmeans,data_points)\n",
        "\n",
        "#k=4\n",
        "centroids,closest,kmeans=get_kmeans(data_points,4)\n",
        "display_clusters(kmeans,data_points)"
      ],
      "execution_count": 17,
      "outputs": [
        {
          "output_type": "display_data",
          "data": {
            "image/png": "[encoded data removed]",
            "text/plain": [
              "<Figure size 432x288 with 1 Axes>"
            ]
          },
          "metadata": {
            "tags": [],
            "needs_background": "light"
          }
        },
        {
          "output_type": "display_data",
          "data": {
            "image/png": "[encoded data removed]",
            "text/plain": [
              "<Figure size 432x288 with 1 Axes>"
            ]
          },
          "metadata": {
            "tags": [],
            "needs_background": "light"
          }
        },
        {
          "output_type": "display_data",
          "data": {
            "text/plain": [
              "<Figure size 432x288 with 0 Axes>"
            ]
          },
          "metadata": {
            "tags": []
          }
        }
      ]
    },
    {
      "cell_type": "markdown",
      "metadata": {
        "id": "pdwOaeGoCZik",
        "colab_type": "text"
      },
      "source": [
        "Plot Anchor Boxes\n",
        "Plot the anchor boxes obtained for k = 3 and k = 4"
      ]
    },
    {
      "cell_type": "code",
      "metadata": {
        "id": "5XQ0m7-MCVjN",
        "colab_type": "code",
        "colab": {}
      },
      "source": [
        "def make_anchor_boxes(ax, clusters, edgecolor='b', alpha=1):\n",
        "    \"\"\"Make anchorboxes for given cluster centroids.\"\"\"\n",
        "\n",
        "    xdata = np.array([0.5]*len(clusters))\n",
        "    ydata = np.array([0.5]*len(clusters))\n",
        "\n",
        "    xerror = np.array([list(np.exp(clusters[:, 0])/2)]*2)\n",
        "    yerror = np.array([list(np.exp(clusters[:, 1])/2)]*2)\n",
        "\n",
        "    errorboxes = []\n",
        "\n",
        "    #get box from errors at each point\n",
        "    for x, y, xe, ye in zip(xdata, ydata, xerror.T, yerror.T):\n",
        "        rect = Rectangle((x - xe[0], y - ye[0]), xe.sum(), ye.sum())\n",
        "        errorboxes.append(rect)\n",
        "\n",
        "    pc = PatchCollection(errorboxes, facecolor='None', alpha=alpha, edgecolor=edgecolor)\n",
        "    ax.add_collection(pc)\n",
        "\n",
        "    # Plot errorbars\n",
        "    errorbars = ax.errorbar(xdata, ydata, xerr=xerror, yerr=yerror, fmt='None', ecolor='None')\n",
        "\n",
        "    return errorbars"
      ],
      "execution_count": 13,
      "outputs": []
    },
    {
      "cell_type": "code",
      "metadata": {
        "id": "3zCG--TOCgqG",
        "colab_type": "code",
        "colab": {}
      },
      "source": [
        "def plot_aboxes(kmeans,k):\n",
        "  fig, ax = plt.subplots(1)\n",
        "\n",
        "  # Create error boxes\n",
        "  _ = make_anchor_boxes(ax, kmeans.cluster_centers_)\n",
        "\n",
        "  plt.title('Anchor boxes for k='+str(k))\n",
        "  plt.show()\n",
        "  fig.savefig('anchor_bbox_k'+str(k)+'.png')"
      ],
      "execution_count": 14,
      "outputs": []
    },
    {
      "cell_type": "code",
      "metadata": {
        "id": "irEsRz9JCjS3",
        "colab_type": "code",
        "colab": {
          "base_uri": "https://localhost:8080/",
          "height": 545
        },
        "outputId": "ca160a30-d1f6-4a55-cc1e-f45842d54438"
      },
      "source": [
        "#k=3\n",
        "centroids,closest,kmeans=get_kmeans(data_points,3)\n",
        "plot_aboxes(kmeans,k=3)\n",
        "\n",
        "#k=4\n",
        "centroids,closest,kmeans=get_kmeans(data_points,4)\n",
        "plot_aboxes(kmeans,k=4)"
      ],
      "execution_count": 15,
      "outputs": [
        {
          "output_type": "display_data",
          "data": {
            "image/png": "[encoded data removed]",
            "text/plain": [
              "<Figure size 432x288 with 1 Axes>"
            ]
          },
          "metadata": {
            "tags": [],
            "needs_background": "light"
          }
        },
        {
          "output_type": "display_data",
          "data": {
            "image/png": "[encoded data removed]",
            "text/plain": [
              "<Figure size 432x288 with 1 Axes>"
            ]
          },
          "metadata": {
            "tags": [],
            "needs_background": "light"
          }
        }
      ]
    }
  ]
}