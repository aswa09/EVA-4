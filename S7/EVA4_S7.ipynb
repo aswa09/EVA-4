{
  "nbformat": 4,
  "nbformat_minor": 0,
  "metadata": {
    "colab": {
      "name": "EVA4_S7.ipynb",
      "provenance": [],
      "collapsed_sections": [],
      "include_colab_link": true
    },
    "kernelspec": {
      "name": "python3",
      "display_name": "Python 3"
    }
  },
  "cells": [
    {
      "cell_type": "markdown",
      "metadata": {
        "id": "view-in-github",
        "colab_type": "text"
      },
      "source": [
        "<a href=\"https://colab.research.google.com/github/aswa09/EVA-4/blob/master/S7/EVA4_S7.ipynb\" target=\"_parent\"><img src=\"https://colab.research.google.com/assets/colab-badge.svg\" alt=\"Open In Colab\"/></a>"
      ]
    },
    {
      "cell_type": "markdown",
      "metadata": {
        "id": "0rFcT61cyXSI",
        "colab_type": "text"
      },
      "source": [
        "##Import Libraries"
      ]
    },
    {
      "cell_type": "code",
      "metadata": {
        "id": "3LVx4PxLyS-K",
        "colab_type": "code",
        "colab": {
          "base_uri": "https://localhost:8080/",
          "height": 35
        },
        "outputId": "04378961-305a-4e3f-ffcf-e2837d0f0fe8"
      },
      "source": [
        "import torch\n",
        "!pip install torchsummary\n",
        "from torchsummary import summary\n",
        "import torch.optim as optim\n",
        "import sys\n",
        "import os"
      ],
      "execution_count": 1,
      "outputs": [
        {
          "output_type": "stream",
          "text": [
            "Requirement already satisfied: torchsummary in /usr/local/lib/python3.6/dist-packages (1.5.1)\n"
          ],
          "name": "stdout"
        }
      ]
    },
    {
      "cell_type": "markdown",
      "metadata": {
        "id": "bCd_4Ep2ya0t",
        "colab_type": "text"
      },
      "source": [
        "##Mount Google Drive to get files"
      ]
    },
    {
      "cell_type": "code",
      "metadata": {
        "id": "_ZYG_feUrF1l",
        "colab_type": "code",
        "colab": {
          "base_uri": "https://localhost:8080/",
          "height": 35
        },
        "outputId": "48ce8b84-fde7-4fd9-b610-da09f7e4b484"
      },
      "source": [
        "from google.colab import drive\n",
        "drive.mount('/content/drive/',force_remount=True)"
      ],
      "execution_count": 2,
      "outputs": [
        {
          "output_type": "stream",
          "text": [
            "Mounted at /content/drive/\n"
          ],
          "name": "stdout"
        }
      ]
    },
    {
      "cell_type": "code",
      "metadata": {
        "id": "WT-h0c-_rM1r",
        "colab_type": "code",
        "colab": {
          "base_uri": "https://localhost:8080/",
          "height": 182
        },
        "outputId": "e1ea5389-9011-4f55-94e8-b6bf178e5d16"
      },
      "source": [
        "!rm -rf '/content/drive/My Drive/colab_notebooks/S7/__pycache__'\n",
        "!ls -lrt '/content/drive/My Drive/colab_notebooks/S7/'"
      ],
      "execution_count": 3,
      "outputs": [
        {
          "output_type": "stream",
          "text": [
            "total 97\n",
            "-rw------- 1 root root  1167 May 19 07:19 testing.py\n",
            "-rw------- 1 root root  1026 May 19 07:19 training.py\n",
            "-rw------- 1 root root  2834 May 19 07:20 base_model.py\n",
            "-rw------- 1 root root  1211 May 19 07:24 train_test_loader.py\n",
            "drwx------ 2 root root  4096 May 19 07:26 data\n",
            "-rw------- 1 root root   594 May 19 11:44 visualise_loss_acc.py\n",
            "-rw------- 1 root root 55159 May 19 11:45 acc_vs_loss.jpg\n",
            "-rw------- 1 root root 30915 May 19 11:46 EVA4_S7.ipynb\n"
          ],
          "name": "stdout"
        }
      ]
    },
    {
      "cell_type": "markdown",
      "metadata": {
        "id": "OHjU5kE7yrRK",
        "colab_type": "text"
      },
      "source": [
        "##Add Google Drive path to system path"
      ]
    },
    {
      "cell_type": "code",
      "metadata": {
        "id": "qEmP1fc1rOw-",
        "colab_type": "code",
        "outputId": "5c438134-e1ad-43e5-c85c-e59993116d78",
        "colab": {
          "base_uri": "https://localhost:8080/",
          "height": 54
        }
      },
      "source": [
        "os.chdir('./drive/My Drive/colab_notebooks/S7/')\n",
        "\n",
        "!ls"
      ],
      "execution_count": 4,
      "outputs": [
        {
          "output_type": "stream",
          "text": [
            "acc_vs_loss.jpg  data\t\ttesting.py   train_test_loader.py\n",
            "base_model.py\t EVA4_S7.ipynb\ttraining.py  visualise_loss_acc.py\n"
          ],
          "name": "stdout"
        }
      ]
    },
    {
      "cell_type": "markdown",
      "metadata": {
        "id": "31hCmKfqzG_u",
        "colab_type": "text"
      },
      "source": [
        "##Import python files"
      ]
    },
    {
      "cell_type": "code",
      "metadata": {
        "id": "DGKTTAH1zJGt",
        "colab_type": "code",
        "colab": {}
      },
      "source": [
        "import train_test_loader as ttl\n",
        "import base_model as bm\n",
        "import training as trn\n",
        "import testing as tst\n",
        "import visualise_loss_acc as vis"
      ],
      "execution_count": 0,
      "outputs": []
    },
    {
      "cell_type": "markdown",
      "metadata": {
        "id": "pBQb6UkzyFvw",
        "colab_type": "text"
      },
      "source": [
        "##Main Function"
      ]
    },
    {
      "cell_type": "code",
      "metadata": {
        "id": "Gy4ymXyXyGFk",
        "colab_type": "code",
        "colab": {}
      },
      "source": [
        "def main(classes):\n",
        "\n",
        "  train_loader, test_loader = ttl.get_train_test(classes)\n",
        "\n",
        "  use_cuda = torch.cuda.is_available()\n",
        "  device = torch.device(\"cuda\" if use_cuda else \"cpu\")\n",
        "  print(device)\n",
        "\n",
        "  model = bm.Net().to(device)\n",
        "  summary(model, input_size=(3, 32, 32))\n",
        "  optimizer = optim.SGD(model.parameters(), lr=0.01, momentum=0.9)\n",
        "  EPOCHS=25\n",
        " \n",
        "  test_loss=[]\n",
        "  test_accuracy=[]\n",
        "  for epoch in range(EPOCHS):\n",
        "      print(\"EPOCH:\", epoch + 1)\n",
        "      train_losses,train_acc=trn.train(model, device, train_loader, optimizer, epoch=EPOCHS)\n",
        "      test_losses,test_acc=tst.test(model, device, test_loader)\n",
        "\n",
        "      test_loss.append(test_losses)\n",
        "      test_accuracy.append(test_acc)\n",
        "  \n",
        "  vis.plot_acc_loss(test_loss,test_accuracy)\n",
        "  print(test_loss)\n",
        "  print(test_accuracy)"
      ],
      "execution_count": 0,
      "outputs": []
    },
    {
      "cell_type": "markdown",
      "metadata": {
        "id": "6gbPWWodyG6b",
        "colab_type": "text"
      },
      "source": [
        "##Calling Main"
      ]
    },
    {
      "cell_type": "code",
      "metadata": {
        "id": "wVho6_F1yHJ3",
        "colab_type": "code",
        "colab": {
          "base_uri": "https://localhost:8080/",
          "height": 1000
        },
        "outputId": "4dc9721c-b2fd-4f70-8e24-0c7043aa26b2"
      },
      "source": [
        "if __name__ == '__main__':\n",
        "  from tqdm import tqdm\n",
        "  if hasattr(tqdm, '_instances'):\n",
        "    tqdm._instances.clear()\n",
        "\n",
        "  classes = ('plane', 'car', 'bird', 'cat', 'deer', 'dog',\n",
        "    'frog', 'horse', 'ship', 'truck')\n",
        "  \n",
        "  main(classes)"
      ],
      "execution_count": 7,
      "outputs": [
        {
          "output_type": "stream",
          "text": [
            "CUDA Available? False\n",
            "Files already downloaded and verified\n",
            "Files already downloaded and verified\n",
            "cpu\n"
          ],
          "name": "stdout"
        },
        {
          "output_type": "stream",
          "text": [
            "\r  0%|          | 0/782 [00:00<?, ?it/s]"
          ],
          "name": "stderr"
        },
        {
          "output_type": "stream",
          "text": [
            "----------------------------------------------------------------\n",
            "        Layer (type)               Output Shape         Param #\n",
            "================================================================\n",
            "            Conv2d-1           [-1, 32, 32, 32]             864\n",
            "       BatchNorm2d-2           [-1, 32, 32, 32]              64\n",
            "              ReLU-3           [-1, 32, 32, 32]               0\n",
            "           Dropout-4           [-1, 32, 32, 32]               0\n",
            "            Conv2d-5           [-1, 32, 32, 32]           9,216\n",
            "       BatchNorm2d-6           [-1, 32, 32, 32]              64\n",
            "              ReLU-7           [-1, 32, 32, 32]               0\n",
            "           Dropout-8           [-1, 32, 32, 32]               0\n",
            "         MaxPool2d-9           [-1, 32, 16, 16]               0\n",
            "           Conv2d-10           [-1, 32, 16, 16]             288\n",
            "      BatchNorm2d-11           [-1, 32, 16, 16]              64\n",
            "             ReLU-12           [-1, 32, 16, 16]               0\n",
            "          Dropout-13           [-1, 32, 16, 16]               0\n",
            "           Conv2d-14           [-1, 64, 16, 16]          18,432\n",
            "      BatchNorm2d-15           [-1, 64, 16, 16]             128\n",
            "             ReLU-16           [-1, 64, 16, 16]               0\n",
            "          Dropout-17           [-1, 64, 16, 16]               0\n",
            "        MaxPool2d-18             [-1, 64, 8, 8]               0\n",
            "           Conv2d-19             [-1, 64, 6, 6]          36,864\n",
            "      BatchNorm2d-20             [-1, 64, 6, 6]             128\n",
            "             ReLU-21             [-1, 64, 6, 6]               0\n",
            "          Dropout-22             [-1, 64, 6, 6]               0\n",
            "        MaxPool2d-23             [-1, 64, 6, 6]               0\n",
            "           Conv2d-24            [-1, 128, 6, 6]          73,728\n",
            "      BatchNorm2d-25            [-1, 128, 6, 6]             256\n",
            "             ReLU-26            [-1, 128, 6, 6]               0\n",
            "          Dropout-27            [-1, 128, 6, 6]               0\n",
            "AdaptiveAvgPool2d-28            [-1, 128, 1, 1]               0\n",
            "           Conv2d-29             [-1, 10, 1, 1]           1,280\n",
            "================================================================\n",
            "Total params: 141,376\n",
            "Trainable params: 141,376\n",
            "Non-trainable params: 0\n",
            "----------------------------------------------------------------\n",
            "Input size (MB): 0.01\n",
            "Forward/backward pass size (MB): 3.07\n",
            "Params size (MB): 0.54\n",
            "Estimated Total Size (MB): 3.62\n",
            "----------------------------------------------------------------\n",
            "EPOCH: 1\n"
          ],
          "name": "stdout"
        },
        {
          "output_type": "stream",
          "text": [
            "Loss=0.6985763311386108 Batch_id=781 Accuracy=53.21: 100%|██████████| 782/782 [04:30<00:00,  2.89it/s]\n",
            "  0%|          | 0/782 [00:00<?, ?it/s]"
          ],
          "name": "stderr"
        },
        {
          "output_type": "stream",
          "text": [
            "\n",
            "Test set: Average loss: 1.0370, Accuracy: 6214/10000 (62.14%)\n",
            "\n",
            "EPOCH: 2\n"
          ],
          "name": "stdout"
        },
        {
          "output_type": "stream",
          "text": [
            "Loss=1.0337117910385132 Batch_id=781 Accuracy=68.39: 100%|██████████| 782/782 [04:50<00:00,  2.69it/s]\n",
            "  0%|          | 0/782 [00:00<?, ?it/s]"
          ],
          "name": "stderr"
        },
        {
          "output_type": "stream",
          "text": [
            "\n",
            "Test set: Average loss: 0.8764, Accuracy: 6938/10000 (69.38%)\n",
            "\n",
            "EPOCH: 3\n"
          ],
          "name": "stdout"
        },
        {
          "output_type": "stream",
          "text": [
            "Loss=0.6615044474601746 Batch_id=781 Accuracy=72.98: 100%|██████████| 782/782 [04:38<00:00,  2.80it/s]\n",
            "  0%|          | 0/782 [00:00<?, ?it/s]"
          ],
          "name": "stderr"
        },
        {
          "output_type": "stream",
          "text": [
            "\n",
            "Test set: Average loss: 0.7912, Accuracy: 7247/10000 (72.47%)\n",
            "\n",
            "EPOCH: 4\n"
          ],
          "name": "stdout"
        },
        {
          "output_type": "stream",
          "text": [
            "Loss=1.1331729888916016 Batch_id=781 Accuracy=75.74: 100%|██████████| 782/782 [04:38<00:00,  2.81it/s]\n",
            "  0%|          | 0/782 [00:00<?, ?it/s]"
          ],
          "name": "stderr"
        },
        {
          "output_type": "stream",
          "text": [
            "\n",
            "Test set: Average loss: 0.7234, Accuracy: 7501/10000 (75.01%)\n",
            "\n",
            "EPOCH: 5\n"
          ],
          "name": "stdout"
        },
        {
          "output_type": "stream",
          "text": [
            "Loss=0.6614992618560791 Batch_id=781 Accuracy=77.36: 100%|██████████| 782/782 [04:46<00:00,  2.73it/s]\n",
            "  0%|          | 0/782 [00:00<?, ?it/s]"
          ],
          "name": "stderr"
        },
        {
          "output_type": "stream",
          "text": [
            "\n",
            "Test set: Average loss: 0.6203, Accuracy: 7831/10000 (78.31%)\n",
            "\n",
            "EPOCH: 6\n"
          ],
          "name": "stdout"
        },
        {
          "output_type": "stream",
          "text": [
            "Loss=0.6046228408813477 Batch_id=781 Accuracy=78.88: 100%|██████████| 782/782 [04:42<00:00,  2.77it/s]\n",
            "  0%|          | 0/782 [00:00<?, ?it/s]"
          ],
          "name": "stderr"
        },
        {
          "output_type": "stream",
          "text": [
            "\n",
            "Test set: Average loss: 0.6478, Accuracy: 7756/10000 (77.56%)\n",
            "\n",
            "EPOCH: 7\n"
          ],
          "name": "stdout"
        },
        {
          "output_type": "stream",
          "text": [
            "Loss=1.9298251867294312 Batch_id=781 Accuracy=79.96: 100%|██████████| 782/782 [04:30<00:00,  2.89it/s]\n",
            "  0%|          | 0/782 [00:00<?, ?it/s]"
          ],
          "name": "stderr"
        },
        {
          "output_type": "stream",
          "text": [
            "\n",
            "Test set: Average loss: 0.6725, Accuracy: 7679/10000 (76.79%)\n",
            "\n",
            "EPOCH: 8\n"
          ],
          "name": "stdout"
        },
        {
          "output_type": "stream",
          "text": [
            "Loss=0.4651433825492859 Batch_id=781 Accuracy=80.62: 100%|██████████| 782/782 [04:34<00:00,  2.85it/s]\n",
            "  0%|          | 0/782 [00:00<?, ?it/s]"
          ],
          "name": "stderr"
        },
        {
          "output_type": "stream",
          "text": [
            "\n",
            "Test set: Average loss: 0.5674, Accuracy: 8044/10000 (80.44%)\n",
            "\n",
            "EPOCH: 9\n"
          ],
          "name": "stdout"
        },
        {
          "output_type": "stream",
          "text": [
            "Loss=0.2592446804046631 Batch_id=781 Accuracy=81.70: 100%|██████████| 782/782 [04:31<00:00,  2.88it/s]\n",
            "  0%|          | 0/782 [00:00<?, ?it/s]"
          ],
          "name": "stderr"
        },
        {
          "output_type": "stream",
          "text": [
            "\n",
            "Test set: Average loss: 0.5427, Accuracy: 8130/10000 (81.30%)\n",
            "\n",
            "EPOCH: 10\n"
          ],
          "name": "stdout"
        },
        {
          "output_type": "stream",
          "text": [
            "Loss=0.4247640073299408 Batch_id=781 Accuracy=82.28: 100%|██████████| 782/782 [04:35<00:00,  2.84it/s]\n",
            "  0%|          | 0/782 [00:00<?, ?it/s]"
          ],
          "name": "stderr"
        },
        {
          "output_type": "stream",
          "text": [
            "\n",
            "Test set: Average loss: 0.5588, Accuracy: 8069/10000 (80.69%)\n",
            "\n",
            "EPOCH: 11\n"
          ],
          "name": "stdout"
        },
        {
          "output_type": "stream",
          "text": [
            "Loss=0.1335463970899582 Batch_id=781 Accuracy=82.74: 100%|██████████| 782/782 [04:30<00:00,  2.90it/s]\n",
            "  0%|          | 0/782 [00:00<?, ?it/s]"
          ],
          "name": "stderr"
        },
        {
          "output_type": "stream",
          "text": [
            "\n",
            "Test set: Average loss: 0.5344, Accuracy: 8159/10000 (81.59%)\n",
            "\n",
            "EPOCH: 12\n"
          ],
          "name": "stdout"
        },
        {
          "output_type": "stream",
          "text": [
            "Loss=0.6954792737960815 Batch_id=781 Accuracy=83.28: 100%|██████████| 782/782 [04:31<00:00,  2.88it/s]\n",
            "  0%|          | 0/782 [00:00<?, ?it/s]"
          ],
          "name": "stderr"
        },
        {
          "output_type": "stream",
          "text": [
            "\n",
            "Test set: Average loss: 0.5311, Accuracy: 8137/10000 (81.37%)\n",
            "\n",
            "EPOCH: 13\n"
          ],
          "name": "stdout"
        },
        {
          "output_type": "stream",
          "text": [
            "Loss=0.10639174282550812 Batch_id=781 Accuracy=83.67: 100%|██████████| 782/782 [04:34<00:00,  2.84it/s]\n",
            "  0%|          | 0/782 [00:00<?, ?it/s]"
          ],
          "name": "stderr"
        },
        {
          "output_type": "stream",
          "text": [
            "\n",
            "Test set: Average loss: 0.5053, Accuracy: 8240/10000 (82.40%)\n",
            "\n",
            "EPOCH: 14\n"
          ],
          "name": "stdout"
        },
        {
          "output_type": "stream",
          "text": [
            "Loss=0.39969831705093384 Batch_id=781 Accuracy=84.04: 100%|██████████| 782/782 [04:31<00:00,  2.88it/s]\n",
            "  0%|          | 0/782 [00:00<?, ?it/s]"
          ],
          "name": "stderr"
        },
        {
          "output_type": "stream",
          "text": [
            "\n",
            "Test set: Average loss: 0.5088, Accuracy: 8232/10000 (82.32%)\n",
            "\n",
            "EPOCH: 15\n"
          ],
          "name": "stdout"
        },
        {
          "output_type": "stream",
          "text": [
            "Loss=0.9131845831871033 Batch_id=781 Accuracy=84.46: 100%|██████████| 782/782 [04:37<00:00,  2.82it/s]\n",
            "  0%|          | 0/782 [00:00<?, ?it/s]"
          ],
          "name": "stderr"
        },
        {
          "output_type": "stream",
          "text": [
            "\n",
            "Test set: Average loss: 0.4841, Accuracy: 8341/10000 (83.41%)\n",
            "\n",
            "EPOCH: 16\n"
          ],
          "name": "stdout"
        },
        {
          "output_type": "stream",
          "text": [
            "Loss=0.5911509394645691 Batch_id=781 Accuracy=84.72: 100%|██████████| 782/782 [04:32<00:00,  2.87it/s]\n",
            "  0%|          | 0/782 [00:00<?, ?it/s]"
          ],
          "name": "stderr"
        },
        {
          "output_type": "stream",
          "text": [
            "\n",
            "Test set: Average loss: 0.5034, Accuracy: 8250/10000 (82.50%)\n",
            "\n",
            "EPOCH: 17\n"
          ],
          "name": "stdout"
        },
        {
          "output_type": "stream",
          "text": [
            "Loss=0.42607778310775757 Batch_id=781 Accuracy=85.03: 100%|██████████| 782/782 [04:33<00:00,  2.86it/s]\n",
            "  0%|          | 0/782 [00:00<?, ?it/s]"
          ],
          "name": "stderr"
        },
        {
          "output_type": "stream",
          "text": [
            "\n",
            "Test set: Average loss: 0.4845, Accuracy: 8307/10000 (83.07%)\n",
            "\n",
            "EPOCH: 18\n"
          ],
          "name": "stdout"
        },
        {
          "output_type": "stream",
          "text": [
            "Loss=0.33054816722869873 Batch_id=781 Accuracy=85.33: 100%|██████████| 782/782 [04:32<00:00,  2.87it/s]\n",
            "  0%|          | 0/782 [00:00<?, ?it/s]"
          ],
          "name": "stderr"
        },
        {
          "output_type": "stream",
          "text": [
            "\n",
            "Test set: Average loss: 0.4531, Accuracy: 8434/10000 (84.34%)\n",
            "\n",
            "EPOCH: 19\n"
          ],
          "name": "stdout"
        },
        {
          "output_type": "stream",
          "text": [
            "Loss=0.9742223620414734 Batch_id=781 Accuracy=85.68: 100%|██████████| 782/782 [04:30<00:00,  2.90it/s]\n",
            "  0%|          | 0/782 [00:00<?, ?it/s]"
          ],
          "name": "stderr"
        },
        {
          "output_type": "stream",
          "text": [
            "\n",
            "Test set: Average loss: 0.4787, Accuracy: 8358/10000 (83.58%)\n",
            "\n",
            "EPOCH: 20\n"
          ],
          "name": "stdout"
        },
        {
          "output_type": "stream",
          "text": [
            "Loss=0.3201692998409271 Batch_id=781 Accuracy=85.76: 100%|██████████| 782/782 [04:28<00:00,  2.91it/s]\n",
            "  0%|          | 0/782 [00:00<?, ?it/s]"
          ],
          "name": "stderr"
        },
        {
          "output_type": "stream",
          "text": [
            "\n",
            "Test set: Average loss: 0.4564, Accuracy: 8422/10000 (84.22%)\n",
            "\n",
            "EPOCH: 21\n"
          ],
          "name": "stdout"
        },
        {
          "output_type": "stream",
          "text": [
            "Loss=0.6613367199897766 Batch_id=781 Accuracy=86.00: 100%|██████████| 782/782 [04:35<00:00,  2.84it/s]\n",
            "  0%|          | 0/782 [00:00<?, ?it/s]"
          ],
          "name": "stderr"
        },
        {
          "output_type": "stream",
          "text": [
            "\n",
            "Test set: Average loss: 0.4991, Accuracy: 8318/10000 (83.18%)\n",
            "\n",
            "EPOCH: 22\n"
          ],
          "name": "stdout"
        },
        {
          "output_type": "stream",
          "text": [
            "Loss=0.26690027117729187 Batch_id=781 Accuracy=86.46: 100%|██████████| 782/782 [04:36<00:00,  2.83it/s]\n",
            "  0%|          | 0/782 [00:00<?, ?it/s]"
          ],
          "name": "stderr"
        },
        {
          "output_type": "stream",
          "text": [
            "\n",
            "Test set: Average loss: 0.4612, Accuracy: 8426/10000 (84.26%)\n",
            "\n",
            "EPOCH: 23\n"
          ],
          "name": "stdout"
        },
        {
          "output_type": "stream",
          "text": [
            "Loss=0.35200414061546326 Batch_id=781 Accuracy=86.48: 100%|██████████| 782/782 [04:34<00:00,  2.85it/s]\n",
            "  0%|          | 0/782 [00:00<?, ?it/s]"
          ],
          "name": "stderr"
        },
        {
          "output_type": "stream",
          "text": [
            "\n",
            "Test set: Average loss: 0.4737, Accuracy: 8396/10000 (83.96%)\n",
            "\n",
            "EPOCH: 24\n"
          ],
          "name": "stdout"
        },
        {
          "output_type": "stream",
          "text": [
            "Loss=0.42069128155708313 Batch_id=781 Accuracy=86.60: 100%|██████████| 782/782 [04:46<00:00,  2.73it/s]\n",
            "  0%|          | 0/782 [00:00<?, ?it/s]"
          ],
          "name": "stderr"
        },
        {
          "output_type": "stream",
          "text": [
            "\n",
            "Test set: Average loss: 0.4678, Accuracy: 8406/10000 (84.06%)\n",
            "\n",
            "EPOCH: 25\n"
          ],
          "name": "stdout"
        },
        {
          "output_type": "stream",
          "text": [
            "Loss=0.22784917056560516 Batch_id=781 Accuracy=86.89: 100%|██████████| 782/782 [04:33<00:00,  2.86it/s]\n"
          ],
          "name": "stderr"
        },
        {
          "output_type": "stream",
          "text": [
            "\n",
            "Test set: Average loss: 0.4565, Accuracy: 8451/10000 (84.51%)\n",
            "\n",
            "[[1.03697551279068], [0.8764404493331909], [0.7911771411895752], [0.7233615316390991], [0.6203376547813415], [0.6478276092529297], [0.6724816699028016], [0.5673598861694336], [0.5426921178340912], [0.5587507281303405], [0.5343986216545105], [0.5310994144439697], [0.5052718126296997], [0.5087894278526306], [0.4840960024833679], [0.5033627045631409], [0.48447958722114565], [0.45306321620941165], [0.47874303817749025], [0.45642536392211913], [0.49909951453208923], [0.46119143114089967], [0.4737410897731781], [0.46783500719070437], [0.45649607405662534]]\n",
            "[[62.14], [69.38], [72.47], [75.01], [78.31], [77.56], [76.79], [80.44], [81.3], [80.69], [81.59], [81.37], [82.4], [82.32], [83.41], [82.5], [83.07], [84.34], [83.58], [84.22], [83.18], [84.26], [83.96], [84.06], [84.51]]\n"
          ],
          "name": "stdout"
        },
        {
          "output_type": "display_data",
          "data": {
            "image/png": "[encoded data removed]",
            "text/plain": [
              "<Figure size 1080x720 with 2 Axes>"
            ]
          },
          "metadata": {
            "tags": [],
            "needs_background": "light"
          }
        }
      ]
    }
  ]
}