{
  "nbformat": 4,
  "nbformat_minor": 0,
  "metadata": {
    "colab": {
      "name": "Quiz_S9.ipynb",
      "provenance": [],
      "collapsed_sections": [],
      "include_colab_link": true
    },
    "kernelspec": {
      "name": "python3",
      "display_name": "Python 3"
    },
    "accelerator": "GPU"
  },
  "cells": [
    {
      "cell_type": "markdown",
      "metadata": {
        "id": "view-in-github",
        "colab_type": "text"
      },
      "source": [
        "<a href=\"https://colab.research.google.com/github/aswa09/EVA-4/blob/master/S9/Quiz_S9.ipynb\" target=\"_parent\"><img src=\"https://colab.research.google.com/assets/colab-badge.svg\" alt=\"Open In Colab\"/></a>"
      ]
    },
    {
      "cell_type": "code",
      "metadata": {
        "id": "6Tyyr7P3tjTY",
        "colab_type": "code",
        "colab": {
          "base_uri": "https://localhost:8080/",
          "height": 35
        },
        "outputId": "ec9b1403-e65d-40b4-ff18-a268bfc44326"
      },
      "source": [
        "from datetime import datetime \n",
        "print(\"Current Date/Time: \", datetime.now())"
      ],
      "execution_count": 1,
      "outputs": [
        {
          "output_type": "stream",
          "text": [
            "Current Date/Time:  2020-05-30 22:55:44.532596\n"
          ],
          "name": "stdout"
        }
      ]
    },
    {
      "cell_type": "markdown",
      "metadata": {
        "id": "0rFcT61cyXSI",
        "colab_type": "text"
      },
      "source": [
        "##Import Libraries"
      ]
    },
    {
      "cell_type": "code",
      "metadata": {
        "id": "3LVx4PxLyS-K",
        "colab_type": "code",
        "outputId": "82878f33-46ba-4c2e-c178-3144f6657f64",
        "colab": {
          "base_uri": "https://localhost:8080/",
          "height": 35
        }
      },
      "source": [
        "import torch\n",
        "!pip install torchsummary\n",
        "from torchsummary import summary\n",
        "from torch.optim.lr_scheduler import StepLR\n",
        "import torch.optim as optim\n",
        "import sys\n",
        "import torch.nn as nn\n",
        "import os"
      ],
      "execution_count": 2,
      "outputs": [
        {
          "output_type": "stream",
          "text": [
            "Requirement already satisfied: torchsummary in /usr/local/lib/python3.6/dist-packages (1.5.1)\n"
          ],
          "name": "stdout"
        }
      ]
    },
    {
      "cell_type": "markdown",
      "metadata": {
        "id": "bCd_4Ep2ya0t",
        "colab_type": "text"
      },
      "source": [
        "##Mount Google Drive to get files"
      ]
    },
    {
      "cell_type": "code",
      "metadata": {
        "id": "_ZYG_feUrF1l",
        "colab_type": "code",
        "outputId": "43637d4e-679d-4299-892e-6eebc9cc14cd",
        "colab": {
          "base_uri": "https://localhost:8080/",
          "height": 35
        }
      },
      "source": [
        "from google.colab import drive\n",
        "drive.mount('/content/drive/',force_remount=True)"
      ],
      "execution_count": 3,
      "outputs": [
        {
          "output_type": "stream",
          "text": [
            "Mounted at /content/drive/\n"
          ],
          "name": "stdout"
        }
      ]
    },
    {
      "cell_type": "code",
      "metadata": {
        "id": "WT-h0c-_rM1r",
        "colab_type": "code",
        "outputId": "53581b71-49b4-49e4-93b2-745f9f07dc80",
        "colab": {
          "base_uri": "https://localhost:8080/",
          "height": 256
        }
      },
      "source": [
        "!rm -rf '/content/drive/My Drive/colab_notebooks/S9/__pycache__'\n",
        "!ls -lrt '/content/drive/My Drive/colab_notebooks/S9/'"
      ],
      "execution_count": 4,
      "outputs": [
        {
          "output_type": "stream",
          "text": [
            "total 256\n",
            "-rw------- 1 root root    594 May 18 10:44 visualise_loss_acc.py\n",
            "-rw------- 1 root root   1512 May 21 08:14 training.py\n",
            "-rw------- 1 root root   1332 May 21 09:34 testing.py\n",
            "-rw------- 1 root root   1644 May 30 18:36 train_test_loader.py\n",
            "drwx------ 2 root root   4096 May 30 18:38 data\n",
            "-rw------- 1 root root   4085 May 30 18:41 resnet18.py\n",
            "-rw------- 1 root root    722 May 30 19:02 albumentation_transforms.py\n",
            "-rw------- 1 root root   1475 May 30 21:03 get_images.py\n",
            "-rw------- 1 root root   6767 May 30 21:19 gradcam.py\n",
            "-rw------- 1 root root 176948 May 30 21:56 EVA4_S9.ipynb\n",
            "-rw------- 1 root root  56880 May 30 22:50 acc_vs_loss.jpg\n",
            "-rw------- 1 root root   2988 May 30 22:55 QuizDNN.py\n"
          ],
          "name": "stdout"
        }
      ]
    },
    {
      "cell_type": "markdown",
      "metadata": {
        "id": "OHjU5kE7yrRK",
        "colab_type": "text"
      },
      "source": [
        "##Add Google Drive path to system path"
      ]
    },
    {
      "cell_type": "code",
      "metadata": {
        "id": "qEmP1fc1rOw-",
        "colab_type": "code",
        "outputId": "9f6361d8-78be-42c0-83d2-b1a06acc39a5",
        "colab": {
          "base_uri": "https://localhost:8080/",
          "height": 72
        }
      },
      "source": [
        "os.chdir('./drive/My Drive/colab_notebooks/S9/')\n",
        "\n",
        "!ls"
      ],
      "execution_count": 5,
      "outputs": [
        {
          "output_type": "stream",
          "text": [
            "acc_vs_loss.jpg\t\t     EVA4_S9.ipynb  QuizDNN.py\t training.py\n",
            "albumentation_transforms.py  get_images.py  resnet18.py  train_test_loader.py\n",
            "data\t\t\t     gradcam.py     testing.py\t visualise_loss_acc.py\n"
          ],
          "name": "stdout"
        }
      ]
    },
    {
      "cell_type": "markdown",
      "metadata": {
        "id": "31hCmKfqzG_u",
        "colab_type": "text"
      },
      "source": [
        "##Import python files"
      ]
    },
    {
      "cell_type": "code",
      "metadata": {
        "id": "DGKTTAH1zJGt",
        "colab_type": "code",
        "colab": {}
      },
      "source": [
        "import train_test_loader as ttl\n",
        "import QuizDNN as bm\n",
        "import training as trn\n",
        "import testing as tst\n",
        "import visualise_loss_acc as vis\n",
        "import gradcam as gc\n",
        "import get_images as gc_img"
      ],
      "execution_count": 0,
      "outputs": []
    },
    {
      "cell_type": "markdown",
      "metadata": {
        "id": "pBQb6UkzyFvw",
        "colab_type": "text"
      },
      "source": [
        "##Main Function"
      ]
    },
    {
      "cell_type": "code",
      "metadata": {
        "id": "Gy4ymXyXyGFk",
        "colab_type": "code",
        "colab": {}
      },
      "source": [
        "def main(classes):\n",
        "\n",
        "  train_loader, test_loader,test_transform = ttl.get_train_test(classes)\n",
        "\n",
        "  use_cuda = torch.cuda.is_available()\n",
        "  device = torch.device(\"cuda\" if use_cuda else \"cpu\")\n",
        "  print(device)\n",
        "\n",
        "  model = bm.S9Quiz().to(device)\n",
        "  summary(model, input_size=(3, 32, 32))\n",
        "\n",
        "  criterion = nn.CrossEntropyLoss()\n",
        "  optimizer = optim.SGD(model.parameters(), lr=0.01, momentum=0.9)\n",
        "  scheduler = StepLR(optimizer, step_size=35, gamma=0.1)\n",
        "  EPOCHS=15\n",
        " \n",
        "  test_loss=[]\n",
        "  test_accuracy=[]\n",
        "  for epoch in range(EPOCHS):\n",
        "      print(\"EPOCH:\", epoch + 1)\n",
        "      train_losses,train_acc=trn.train(model, device, train_loader, optimizer,EPOCHS,criterion,l1=1e-6,l2=1e-3)\n",
        "      scheduler.step()\n",
        "      test_losses,test_acc=tst.test(model, device, test_loader,criterion)\n",
        "\n",
        "      test_loss.append(test_losses)\n",
        "      test_accuracy.append(test_acc)\n",
        "  \n",
        "  vis.plot_acc_loss(test_loss,test_accuracy)"
      ],
      "execution_count": 0,
      "outputs": []
    },
    {
      "cell_type": "markdown",
      "metadata": {
        "id": "6gbPWWodyG6b",
        "colab_type": "text"
      },
      "source": [
        "##Calling Main"
      ]
    },
    {
      "cell_type": "code",
      "metadata": {
        "id": "wVho6_F1yHJ3",
        "colab_type": "code",
        "outputId": "bb5fb120-ecbe-435d-9e40-3a8d1e4fb87d",
        "colab": {
          "base_uri": "https://localhost:8080/",
          "height": 1000
        }
      },
      "source": [
        "if __name__ == '__main__':\n",
        "  from tqdm import tqdm\n",
        "  if hasattr(tqdm, '_instances'):\n",
        "    tqdm._instances.clear()\n",
        "\n",
        "  classes = ('plane', 'car', 'bird', 'cat', 'deer', 'dog',\n",
        "    'frog', 'horse', 'ship', 'truck')\n",
        "  \n",
        "  main(classes)"
      ],
      "execution_count": 8,
      "outputs": [
        {
          "output_type": "stream",
          "text": [
            "CUDA Available? True\n",
            "Files already downloaded and verified\n",
            "Files already downloaded and verified\n",
            "cuda\n"
          ],
          "name": "stdout"
        },
        {
          "output_type": "stream",
          "text": [
            "\r  0%|          | 0/391 [00:00<?, ?it/s]"
          ],
          "name": "stderr"
        },
        {
          "output_type": "stream",
          "text": [
            "----------------------------------------------------------------\n",
            "        Layer (type)               Output Shape         Param #\n",
            "================================================================\n",
            "            Conv2d-1           [-1, 64, 32, 32]           1,728\n",
            "              ReLU-2           [-1, 64, 32, 32]               0\n",
            "       BatchNorm2d-3           [-1, 64, 32, 32]             128\n",
            "           Dropout-4           [-1, 64, 32, 32]               0\n",
            "            Conv2d-5           [-1, 64, 32, 32]          36,864\n",
            "              ReLU-6           [-1, 64, 32, 32]               0\n",
            "       BatchNorm2d-7           [-1, 64, 32, 32]             128\n",
            "           Dropout-8           [-1, 64, 32, 32]               0\n",
            "            Conv2d-9           [-1, 64, 32, 32]          36,864\n",
            "             ReLU-10           [-1, 64, 32, 32]               0\n",
            "      BatchNorm2d-11           [-1, 64, 32, 32]             128\n",
            "        MaxPool2d-12           [-1, 64, 16, 16]               0\n",
            "           Conv2d-13           [-1, 64, 16, 16]          36,864\n",
            "             ReLU-14           [-1, 64, 16, 16]               0\n",
            "      BatchNorm2d-15           [-1, 64, 16, 16]             128\n",
            "          Dropout-16           [-1, 64, 16, 16]               0\n",
            "           Conv2d-17           [-1, 64, 16, 16]          36,864\n",
            "             ReLU-18           [-1, 64, 16, 16]               0\n",
            "      BatchNorm2d-19           [-1, 64, 16, 16]             128\n",
            "          Dropout-20           [-1, 64, 16, 16]               0\n",
            "           Conv2d-21           [-1, 64, 16, 16]          36,864\n",
            "             ReLU-22           [-1, 64, 16, 16]               0\n",
            "      BatchNorm2d-23           [-1, 64, 16, 16]             128\n",
            "        MaxPool2d-24             [-1, 64, 8, 8]               0\n",
            "           Conv2d-25             [-1, 64, 8, 8]          36,864\n",
            "             ReLU-26             [-1, 64, 8, 8]               0\n",
            "      BatchNorm2d-27             [-1, 64, 8, 8]             128\n",
            "          Dropout-28             [-1, 64, 8, 8]               0\n",
            "           Conv2d-29             [-1, 64, 8, 8]          36,864\n",
            "             ReLU-30             [-1, 64, 8, 8]               0\n",
            "      BatchNorm2d-31             [-1, 64, 8, 8]             128\n",
            "          Dropout-32             [-1, 64, 8, 8]               0\n",
            "           Conv2d-33             [-1, 64, 8, 8]          36,864\n",
            "             ReLU-34             [-1, 64, 8, 8]               0\n",
            "      BatchNorm2d-35             [-1, 64, 8, 8]             128\n",
            "AdaptiveAvgPool2d-36             [-1, 64, 1, 1]               0\n",
            "           Linear-37                   [-1, 10]             650\n",
            "================================================================\n",
            "Total params: 298,442\n",
            "Trainable params: 298,442\n",
            "Non-trainable params: 0\n",
            "----------------------------------------------------------------\n",
            "Input size (MB): 0.01\n",
            "Forward/backward pass size (MB): 7.38\n",
            "Params size (MB): 1.14\n",
            "Estimated Total Size (MB): 8.53\n",
            "----------------------------------------------------------------\n",
            "EPOCH: 1\n"
          ],
          "name": "stdout"
        },
        {
          "output_type": "stream",
          "text": [
            "Loss=1.71480131149292 Batch_id=390 Accuracy=43.17: 100%|██████████| 391/391 [00:33<00:00, 11.84it/s]\n",
            "  0%|          | 0/391 [00:00<?, ?it/s]"
          ],
          "name": "stderr"
        },
        {
          "output_type": "stream",
          "text": [
            "\n",
            "Test set: Average loss: 0.0103, Accuracy: 5335/10000 (53.35%)\n",
            "\n",
            "EPOCH: 2\n"
          ],
          "name": "stdout"
        },
        {
          "output_type": "stream",
          "text": [
            "Loss=1.3352155685424805 Batch_id=390 Accuracy=57.98: 100%|██████████| 391/391 [00:33<00:00, 11.81it/s]\n",
            "  0%|          | 0/391 [00:00<?, ?it/s]"
          ],
          "name": "stderr"
        },
        {
          "output_type": "stream",
          "text": [
            "\n",
            "Test set: Average loss: 0.0089, Accuracy: 5977/10000 (59.77%)\n",
            "\n",
            "EPOCH: 3\n"
          ],
          "name": "stdout"
        },
        {
          "output_type": "stream",
          "text": [
            "Loss=1.0019651651382446 Batch_id=390 Accuracy=64.56: 100%|██████████| 391/391 [00:33<00:00, 11.82it/s]\n",
            "  0%|          | 0/391 [00:00<?, ?it/s]"
          ],
          "name": "stderr"
        },
        {
          "output_type": "stream",
          "text": [
            "\n",
            "Test set: Average loss: 0.0075, Accuracy: 6741/10000 (67.41%)\n",
            "\n",
            "EPOCH: 4\n"
          ],
          "name": "stdout"
        },
        {
          "output_type": "stream",
          "text": [
            "Loss=0.9969819784164429 Batch_id=390 Accuracy=68.67: 100%|██████████| 391/391 [00:32<00:00, 11.96it/s]\n",
            "  0%|          | 0/391 [00:00<?, ?it/s]"
          ],
          "name": "stderr"
        },
        {
          "output_type": "stream",
          "text": [
            "\n",
            "Test set: Average loss: 0.0062, Accuracy: 7231/10000 (72.31%)\n",
            "\n",
            "EPOCH: 5\n"
          ],
          "name": "stdout"
        },
        {
          "output_type": "stream",
          "text": [
            "Loss=1.0712171792984009 Batch_id=390 Accuracy=71.46: 100%|██████████| 391/391 [00:32<00:00, 11.95it/s]\n",
            "  0%|          | 0/391 [00:00<?, ?it/s]"
          ],
          "name": "stderr"
        },
        {
          "output_type": "stream",
          "text": [
            "\n",
            "Test set: Average loss: 0.0055, Accuracy: 7578/10000 (75.78%)\n",
            "\n",
            "EPOCH: 6\n"
          ],
          "name": "stdout"
        },
        {
          "output_type": "stream",
          "text": [
            "Loss=0.9361951351165771 Batch_id=390 Accuracy=73.86: 100%|██████████| 391/391 [00:32<00:00, 11.92it/s]\n",
            "  0%|          | 0/391 [00:00<?, ?it/s]"
          ],
          "name": "stderr"
        },
        {
          "output_type": "stream",
          "text": [
            "\n",
            "Test set: Average loss: 0.0054, Accuracy: 7646/10000 (76.46%)\n",
            "\n",
            "EPOCH: 7\n"
          ],
          "name": "stdout"
        },
        {
          "output_type": "stream",
          "text": [
            "Loss=0.8563260436058044 Batch_id=390 Accuracy=75.27: 100%|██████████| 391/391 [00:32<00:00, 12.02it/s]\n",
            "  0%|          | 0/391 [00:00<?, ?it/s]"
          ],
          "name": "stderr"
        },
        {
          "output_type": "stream",
          "text": [
            "\n",
            "Test set: Average loss: 0.0063, Accuracy: 7334/10000 (73.34%)\n",
            "\n",
            "EPOCH: 8\n"
          ],
          "name": "stdout"
        },
        {
          "output_type": "stream",
          "text": [
            "Loss=0.7202111482620239 Batch_id=390 Accuracy=76.43: 100%|██████████| 391/391 [00:32<00:00, 12.14it/s]\n",
            "  0%|          | 0/391 [00:00<?, ?it/s]"
          ],
          "name": "stderr"
        },
        {
          "output_type": "stream",
          "text": [
            "\n",
            "Test set: Average loss: 0.0047, Accuracy: 7990/10000 (79.90%)\n",
            "\n",
            "EPOCH: 9\n"
          ],
          "name": "stdout"
        },
        {
          "output_type": "stream",
          "text": [
            "Loss=0.7123046517372131 Batch_id=390 Accuracy=77.80: 100%|██████████| 391/391 [00:32<00:00, 12.05it/s]\n",
            "  0%|          | 0/391 [00:00<?, ?it/s]"
          ],
          "name": "stderr"
        },
        {
          "output_type": "stream",
          "text": [
            "\n",
            "Test set: Average loss: 0.0045, Accuracy: 8041/10000 (80.41%)\n",
            "\n",
            "EPOCH: 10\n"
          ],
          "name": "stdout"
        },
        {
          "output_type": "stream",
          "text": [
            "Loss=0.8781449794769287 Batch_id=390 Accuracy=78.62: 100%|██████████| 391/391 [00:32<00:00, 12.04it/s]\n",
            "  0%|          | 0/391 [00:00<?, ?it/s]"
          ],
          "name": "stderr"
        },
        {
          "output_type": "stream",
          "text": [
            "\n",
            "Test set: Average loss: 0.0042, Accuracy: 8166/10000 (81.66%)\n",
            "\n",
            "EPOCH: 11\n"
          ],
          "name": "stdout"
        },
        {
          "output_type": "stream",
          "text": [
            "Loss=0.8327065110206604 Batch_id=390 Accuracy=79.69: 100%|██████████| 391/391 [00:32<00:00, 12.03it/s]\n",
            "  0%|          | 0/391 [00:00<?, ?it/s]"
          ],
          "name": "stderr"
        },
        {
          "output_type": "stream",
          "text": [
            "\n",
            "Test set: Average loss: 0.0042, Accuracy: 8184/10000 (81.84%)\n",
            "\n",
            "EPOCH: 12\n"
          ],
          "name": "stdout"
        },
        {
          "output_type": "stream",
          "text": [
            "Loss=0.7261978387832642 Batch_id=390 Accuracy=80.18: 100%|██████████| 391/391 [00:32<00:00, 12.06it/s]\n",
            "  0%|          | 0/391 [00:00<?, ?it/s]"
          ],
          "name": "stderr"
        },
        {
          "output_type": "stream",
          "text": [
            "\n",
            "Test set: Average loss: 0.0040, Accuracy: 8313/10000 (83.13%)\n",
            "\n",
            "EPOCH: 13\n"
          ],
          "name": "stdout"
        },
        {
          "output_type": "stream",
          "text": [
            "Loss=0.7044111490249634 Batch_id=390 Accuracy=80.96: 100%|██████████| 391/391 [00:32<00:00, 12.00it/s]\n",
            "  0%|          | 0/391 [00:00<?, ?it/s]"
          ],
          "name": "stderr"
        },
        {
          "output_type": "stream",
          "text": [
            "\n",
            "Test set: Average loss: 0.0038, Accuracy: 8370/10000 (83.70%)\n",
            "\n",
            "EPOCH: 14\n"
          ],
          "name": "stdout"
        },
        {
          "output_type": "stream",
          "text": [
            "Loss=0.6260969638824463 Batch_id=390 Accuracy=81.19: 100%|██████████| 391/391 [00:32<00:00, 11.97it/s]\n",
            "  0%|          | 0/391 [00:00<?, ?it/s]"
          ],
          "name": "stderr"
        },
        {
          "output_type": "stream",
          "text": [
            "\n",
            "Test set: Average loss: 0.0037, Accuracy: 8392/10000 (83.92%)\n",
            "\n",
            "EPOCH: 15\n"
          ],
          "name": "stdout"
        },
        {
          "output_type": "stream",
          "text": [
            "Loss=0.8556615114212036 Batch_id=390 Accuracy=81.78: 100%|██████████| 391/391 [00:32<00:00, 12.09it/s]\n"
          ],
          "name": "stderr"
        },
        {
          "output_type": "stream",
          "text": [
            "\n",
            "Test set: Average loss: 0.0038, Accuracy: 8378/10000 (83.78%)\n",
            "\n"
          ],
          "name": "stdout"
        },
        {
          "output_type": "display_data",
          "data": {
            "image/png": "[encoded data removed]",
            "text/plain": [
              "<Figure size 1080x720 with 2 Axes>"
            ]
          },
          "metadata": {
            "tags": [],
            "needs_background": "light"
          }
        }
      ]
    },
    {
      "cell_type": "code",
      "metadata": {
        "id": "GAIhhJykXULa",
        "colab_type": "code",
        "colab": {}
      },
      "source": [
        ""
      ],
      "execution_count": 0,
      "outputs": []
    }
  ]
}