{
  "nbformat": 4,
  "nbformat_minor": 0,
  "metadata": {
    "colab": {
      "name": "Quiz_S9.ipynb",
      "provenance": [],
      "collapsed_sections": [],
      "include_colab_link": true
    },
    "kernelspec": {
      "name": "python3",
      "display_name": "Python 3"
    },
    "accelerator": "GPU"
  },
  "cells": [
    {
      "cell_type": "markdown",
      "metadata": {
        "id": "view-in-github",
        "colab_type": "text"
      },
      "source": [
        "<a href=\"https://colab.research.google.com/github/aswa09/EVA-4/blob/master/S9/Quiz_S9.ipynb\" target=\"_parent\"><img src=\"https://colab.research.google.com/assets/colab-badge.svg\" alt=\"Open In Colab\"/></a>"
      ]
    },
    {
      "cell_type": "code",
      "metadata": {
        "id": "6Tyyr7P3tjTY",
        "colab_type": "code",
        "colab": {
          "base_uri": "https://localhost:8080/",
          "height": 35
        },
        "outputId": "96c1b70a-997f-421b-b362-bce0c2c6b86e"
      },
      "source": [
        "from datetime import datetime \n",
        "print(\"Current Date/Time: \", datetime.now())"
      ],
      "execution_count": 1,
      "outputs": [
        {
          "output_type": "stream",
          "text": [
            "Current Date/Time:  2020-05-30 22:36:36.350932\n"
          ],
          "name": "stdout"
        }
      ]
    },
    {
      "cell_type": "markdown",
      "metadata": {
        "id": "0rFcT61cyXSI",
        "colab_type": "text"
      },
      "source": [
        "##Import Libraries"
      ]
    },
    {
      "cell_type": "code",
      "metadata": {
        "id": "3LVx4PxLyS-K",
        "colab_type": "code",
        "outputId": "94d17b30-9f67-47b7-eefc-f1e302449057",
        "colab": {
          "base_uri": "https://localhost:8080/",
          "height": 35
        }
      },
      "source": [
        "import torch\n",
        "!pip install torchsummary\n",
        "from torchsummary import summary\n",
        "from torch.optim.lr_scheduler import StepLR\n",
        "import torch.optim as optim\n",
        "import sys\n",
        "import torch.nn as nn\n",
        "import os"
      ],
      "execution_count": 2,
      "outputs": [
        {
          "output_type": "stream",
          "text": [
            "Requirement already satisfied: torchsummary in /usr/local/lib/python3.6/dist-packages (1.5.1)\n"
          ],
          "name": "stdout"
        }
      ]
    },
    {
      "cell_type": "markdown",
      "metadata": {
        "id": "bCd_4Ep2ya0t",
        "colab_type": "text"
      },
      "source": [
        "##Mount Google Drive to get files"
      ]
    },
    {
      "cell_type": "code",
      "metadata": {
        "id": "_ZYG_feUrF1l",
        "colab_type": "code",
        "outputId": "6bb3d3bc-2719-4d2a-9b63-fb820b6e9c0e",
        "colab": {
          "base_uri": "https://localhost:8080/",
          "height": 35
        }
      },
      "source": [
        "from google.colab import drive\n",
        "drive.mount('/content/drive/',force_remount=True)"
      ],
      "execution_count": 3,
      "outputs": [
        {
          "output_type": "stream",
          "text": [
            "Mounted at /content/drive/\n"
          ],
          "name": "stdout"
        }
      ]
    },
    {
      "cell_type": "code",
      "metadata": {
        "id": "WT-h0c-_rM1r",
        "colab_type": "code",
        "outputId": "8fd8e74f-6390-4e34-8356-a40bc760fafb",
        "colab": {
          "base_uri": "https://localhost:8080/",
          "height": 237
        }
      },
      "source": [
        "!rm -rf '/content/drive/My Drive/colab_notebooks/S9/__pycache__'\n",
        "!ls -lrt '/content/drive/My Drive/colab_notebooks/S9/'"
      ],
      "execution_count": 4,
      "outputs": [
        {
          "output_type": "stream",
          "text": [
            "total 200\n",
            "-rw------- 1 root root    594 May 18 10:44 visualise_loss_acc.py\n",
            "-rw------- 1 root root   1512 May 21 08:14 training.py\n",
            "-rw------- 1 root root   1332 May 21 09:34 testing.py\n",
            "-rw------- 1 root root   1644 May 30 18:36 train_test_loader.py\n",
            "drwx------ 2 root root   4096 May 30 18:38 data\n",
            "-rw------- 1 root root   4085 May 30 18:41 resnet18.py\n",
            "-rw------- 1 root root    722 May 30 19:02 albumentation_transforms.py\n",
            "-rw------- 1 root root   1475 May 30 21:03 get_images.py\n",
            "-rw------- 1 root root   6767 May 30 21:19 gradcam.py\n",
            "-rw------- 1 root root 176948 May 30 21:56 EVA4_S9.ipynb\n",
            "-rw------- 1 root root   2988 May 30 22:22 quiz9_base_model.py\n"
          ],
          "name": "stdout"
        }
      ]
    },
    {
      "cell_type": "markdown",
      "metadata": {
        "id": "OHjU5kE7yrRK",
        "colab_type": "text"
      },
      "source": [
        "##Add Google Drive path to system path"
      ]
    },
    {
      "cell_type": "code",
      "metadata": {
        "id": "qEmP1fc1rOw-",
        "colab_type": "code",
        "outputId": "b42b6a02-9d09-409d-e0b5-ee446c55555b",
        "colab": {
          "base_uri": "https://localhost:8080/",
          "height": 90
        }
      },
      "source": [
        "os.chdir('./drive/My Drive/colab_notebooks/S9/')\n",
        "\n",
        "!ls"
      ],
      "execution_count": 5,
      "outputs": [
        {
          "output_type": "stream",
          "text": [
            "albumentation_transforms.py  gradcam.py\t\t  training.py\n",
            "data\t\t\t     quiz9_base_model.py  train_test_loader.py\n",
            "EVA4_S9.ipynb\t\t     resnet18.py\t  visualise_loss_acc.py\n",
            "get_images.py\t\t     testing.py\n"
          ],
          "name": "stdout"
        }
      ]
    },
    {
      "cell_type": "markdown",
      "metadata": {
        "id": "31hCmKfqzG_u",
        "colab_type": "text"
      },
      "source": [
        "##Import python files"
      ]
    },
    {
      "cell_type": "code",
      "metadata": {
        "id": "DGKTTAH1zJGt",
        "colab_type": "code",
        "colab": {}
      },
      "source": [
        "import train_test_loader as ttl\n",
        "import quiz9_base_model as bm\n",
        "import training as trn\n",
        "import testing as tst\n",
        "import visualise_loss_acc as vis\n",
        "import gradcam as gc\n",
        "import get_images as gc_img"
      ],
      "execution_count": 0,
      "outputs": []
    },
    {
      "cell_type": "markdown",
      "metadata": {
        "id": "pBQb6UkzyFvw",
        "colab_type": "text"
      },
      "source": [
        "##Main Function"
      ]
    },
    {
      "cell_type": "code",
      "metadata": {
        "id": "Gy4ymXyXyGFk",
        "colab_type": "code",
        "colab": {}
      },
      "source": [
        "def main(classes):\n",
        "\n",
        "  train_loader, test_loader,test_transform = ttl.get_train_test(classes)\n",
        "\n",
        "  use_cuda = torch.cuda.is_available()\n",
        "  device = torch.device(\"cuda\" if use_cuda else \"cpu\")\n",
        "  print(device)\n",
        "\n",
        "  model = bm.S9Quiz().to(device)\n",
        "  summary(model, input_size=(3, 32, 32))\n",
        "\n",
        "  criterion = nn.CrossEntropyLoss()\n",
        "  optimizer = optim.SGD(model.parameters(), lr=0.01, momentum=0.9)\n",
        "  scheduler = StepLR(optimizer, step_size=35, gamma=0.1)\n",
        "  EPOCHS=15\n",
        " \n",
        "  test_loss=[]\n",
        "  test_accuracy=[]\n",
        "  for epoch in range(EPOCHS):\n",
        "      print(\"EPOCH:\", epoch + 1)\n",
        "      train_losses,train_acc=trn.train(model, device, train_loader, optimizer,EPOCHS,criterion,l1=1e-6,l2=1e-3)\n",
        "      scheduler.step()\n",
        "      test_losses,test_acc=tst.test(model, device, test_loader,criterion)\n",
        "\n",
        "      test_loss.append(test_losses)\n",
        "      test_accuracy.append(test_acc)\n",
        "  \n",
        "  vis.plot_acc_loss(test_loss,test_accuracy)\n",
        "  \n",
        "  # ##gradcam##\n",
        "\n",
        "  # misclass, correct=gc_img.get_images(model,device, test_loader,batch_size=128,num_imgs=2)\n",
        "  # target_layers = [\"layer1\",\"layer2\",\"layer3\",\"layer4\"]\n",
        "  # viz_cam = gc.VisualizeCam(model,classes, target_layers)\n",
        "\n",
        "  # num_img = len(misclass)\n",
        "\n",
        "  # incorrect_pred_imgs = []\n",
        "  # inc_image_for_gradcam = []\n",
        "  # for i in range(num_img):\n",
        "  #   incorrect_pred_imgs.append(torch.as_tensor(misclass[i][0]))\n",
        "  #   inc_image_for_gradcam.append(misclass[i])\n",
        "\n",
        "  # print('\\n--GRADCAM FOR MISCLASSIFIED IMAGES--')\n",
        "  # viz_cam(torch.stack(incorrect_pred_imgs), inc_image_for_gradcam, target_layers, metric=\"incorrect\")"
      ],
      "execution_count": 0,
      "outputs": []
    },
    {
      "cell_type": "markdown",
      "metadata": {
        "id": "6gbPWWodyG6b",
        "colab_type": "text"
      },
      "source": [
        "##Calling Main"
      ]
    },
    {
      "cell_type": "code",
      "metadata": {
        "id": "wVho6_F1yHJ3",
        "colab_type": "code",
        "outputId": "b43a665e-bbdd-4ff4-88ea-446659a6fd2b",
        "colab": {
          "base_uri": "https://localhost:8080/",
          "height": 1000
        }
      },
      "source": [
        "if __name__ == '__main__':\n",
        "  from tqdm import tqdm\n",
        "  if hasattr(tqdm, '_instances'):\n",
        "    tqdm._instances.clear()\n",
        "\n",
        "  classes = ('plane', 'car', 'bird', 'cat', 'deer', 'dog',\n",
        "    'frog', 'horse', 'ship', 'truck')\n",
        "  \n",
        "  main(classes)"
      ],
      "execution_count": 11,
      "outputs": [
        {
          "output_type": "stream",
          "text": [
            "CUDA Available? True\n",
            "Files already downloaded and verified\n",
            "Files already downloaded and verified\n"
          ],
          "name": "stdout"
        },
        {
          "output_type": "stream",
          "text": [
            "\r  0%|          | 0/391 [00:00<?, ?it/s]"
          ],
          "name": "stderr"
        },
        {
          "output_type": "stream",
          "text": [
            "cuda\n",
            "----------------------------------------------------------------\n",
            "        Layer (type)               Output Shape         Param #\n",
            "================================================================\n",
            "            Conv2d-1           [-1, 64, 32, 32]           1,728\n",
            "              ReLU-2           [-1, 64, 32, 32]               0\n",
            "       BatchNorm2d-3           [-1, 64, 32, 32]             128\n",
            "           Dropout-4           [-1, 64, 32, 32]               0\n",
            "            Conv2d-5           [-1, 64, 32, 32]          36,864\n",
            "              ReLU-6           [-1, 64, 32, 32]               0\n",
            "       BatchNorm2d-7           [-1, 64, 32, 32]             128\n",
            "           Dropout-8           [-1, 64, 32, 32]               0\n",
            "            Conv2d-9           [-1, 64, 32, 32]          36,864\n",
            "             ReLU-10           [-1, 64, 32, 32]               0\n",
            "      BatchNorm2d-11           [-1, 64, 32, 32]             128\n",
            "        MaxPool2d-12           [-1, 64, 16, 16]               0\n",
            "           Conv2d-13           [-1, 64, 16, 16]          36,864\n",
            "             ReLU-14           [-1, 64, 16, 16]               0\n",
            "      BatchNorm2d-15           [-1, 64, 16, 16]             128\n",
            "          Dropout-16           [-1, 64, 16, 16]               0\n",
            "           Conv2d-17           [-1, 64, 16, 16]          36,864\n",
            "             ReLU-18           [-1, 64, 16, 16]               0\n",
            "      BatchNorm2d-19           [-1, 64, 16, 16]             128\n",
            "          Dropout-20           [-1, 64, 16, 16]               0\n",
            "           Conv2d-21           [-1, 64, 16, 16]          36,864\n",
            "             ReLU-22           [-1, 64, 16, 16]               0\n",
            "      BatchNorm2d-23           [-1, 64, 16, 16]             128\n",
            "        MaxPool2d-24             [-1, 64, 8, 8]               0\n",
            "           Conv2d-25             [-1, 64, 8, 8]          36,864\n",
            "             ReLU-26             [-1, 64, 8, 8]               0\n",
            "      BatchNorm2d-27             [-1, 64, 8, 8]             128\n",
            "          Dropout-28             [-1, 64, 8, 8]               0\n",
            "           Conv2d-29             [-1, 64, 8, 8]          36,864\n",
            "             ReLU-30             [-1, 64, 8, 8]               0\n",
            "      BatchNorm2d-31             [-1, 64, 8, 8]             128\n",
            "          Dropout-32             [-1, 64, 8, 8]               0\n",
            "           Conv2d-33             [-1, 64, 8, 8]          36,864\n",
            "             ReLU-34             [-1, 64, 8, 8]               0\n",
            "      BatchNorm2d-35             [-1, 64, 8, 8]             128\n",
            "AdaptiveAvgPool2d-36             [-1, 64, 1, 1]               0\n",
            "           Linear-37                   [-1, 10]             650\n",
            "================================================================\n",
            "Total params: 298,442\n",
            "Trainable params: 298,442\n",
            "Non-trainable params: 0\n",
            "----------------------------------------------------------------\n",
            "Input size (MB): 0.01\n",
            "Forward/backward pass size (MB): 7.38\n",
            "Params size (MB): 1.14\n",
            "Estimated Total Size (MB): 8.53\n",
            "----------------------------------------------------------------\n",
            "EPOCH: 1\n"
          ],
          "name": "stdout"
        },
        {
          "output_type": "stream",
          "text": [
            "Loss=1.6567020416259766 Batch_id=390 Accuracy=43.07: 100%|██████████| 391/391 [00:33<00:00, 11.72it/s]\n",
            "  0%|          | 0/391 [00:00<?, ?it/s]"
          ],
          "name": "stderr"
        },
        {
          "output_type": "stream",
          "text": [
            "\n",
            "Test set: Average loss: 0.0112, Accuracy: 5136/10000 (51.36%)\n",
            "\n",
            "EPOCH: 2\n"
          ],
          "name": "stdout"
        },
        {
          "output_type": "stream",
          "text": [
            "Loss=1.2615580558776855 Batch_id=390 Accuracy=57.99: 100%|██████████| 391/391 [00:33<00:00, 11.71it/s]\n",
            "  0%|          | 0/391 [00:00<?, ?it/s]"
          ],
          "name": "stderr"
        },
        {
          "output_type": "stream",
          "text": [
            "\n",
            "Test set: Average loss: 0.0084, Accuracy: 6308/10000 (63.08%)\n",
            "\n",
            "EPOCH: 3\n"
          ],
          "name": "stdout"
        },
        {
          "output_type": "stream",
          "text": [
            "Loss=1.1062438488006592 Batch_id=390 Accuracy=64.53: 100%|██████████| 391/391 [00:33<00:00, 11.72it/s]\n",
            "  0%|          | 0/391 [00:00<?, ?it/s]"
          ],
          "name": "stderr"
        },
        {
          "output_type": "stream",
          "text": [
            "\n",
            "Test set: Average loss: 0.0073, Accuracy: 6806/10000 (68.06%)\n",
            "\n",
            "EPOCH: 4\n"
          ],
          "name": "stdout"
        },
        {
          "output_type": "stream",
          "text": [
            "Loss=0.975237250328064 Batch_id=390 Accuracy=68.80: 100%|██████████| 391/391 [00:33<00:00, 11.76it/s]\n",
            "  0%|          | 0/391 [00:00<?, ?it/s]"
          ],
          "name": "stderr"
        },
        {
          "output_type": "stream",
          "text": [
            "\n",
            "Test set: Average loss: 0.0061, Accuracy: 7285/10000 (72.85%)\n",
            "\n",
            "EPOCH: 5\n"
          ],
          "name": "stdout"
        },
        {
          "output_type": "stream",
          "text": [
            "Loss=1.0133421421051025 Batch_id=390 Accuracy=71.41: 100%|██████████| 391/391 [00:33<00:00, 11.71it/s]\n",
            "  0%|          | 0/391 [00:00<?, ?it/s]"
          ],
          "name": "stderr"
        },
        {
          "output_type": "stream",
          "text": [
            "\n",
            "Test set: Average loss: 0.0055, Accuracy: 7625/10000 (76.25%)\n",
            "\n",
            "EPOCH: 6\n"
          ],
          "name": "stdout"
        },
        {
          "output_type": "stream",
          "text": [
            "Loss=0.9675486087799072 Batch_id=390 Accuracy=73.75: 100%|██████████| 391/391 [00:33<00:00, 11.78it/s]\n",
            "  0%|          | 0/391 [00:00<?, ?it/s]"
          ],
          "name": "stderr"
        },
        {
          "output_type": "stream",
          "text": [
            "\n",
            "Test set: Average loss: 0.0051, Accuracy: 7791/10000 (77.91%)\n",
            "\n",
            "EPOCH: 7\n"
          ],
          "name": "stdout"
        },
        {
          "output_type": "stream",
          "text": [
            "Loss=0.8534090518951416 Batch_id=390 Accuracy=75.44: 100%|██████████| 391/391 [00:33<00:00, 11.80it/s]\n",
            "  0%|          | 0/391 [00:00<?, ?it/s]"
          ],
          "name": "stderr"
        },
        {
          "output_type": "stream",
          "text": [
            "\n",
            "Test set: Average loss: 0.0053, Accuracy: 7735/10000 (77.35%)\n",
            "\n",
            "EPOCH: 8\n"
          ],
          "name": "stdout"
        },
        {
          "output_type": "stream",
          "text": [
            "Loss=0.7895926833152771 Batch_id=390 Accuracy=76.41: 100%|██████████| 391/391 [00:32<00:00, 11.88it/s]\n",
            "  0%|          | 0/391 [00:00<?, ?it/s]"
          ],
          "name": "stderr"
        },
        {
          "output_type": "stream",
          "text": [
            "\n",
            "Test set: Average loss: 0.0046, Accuracy: 8019/10000 (80.19%)\n",
            "\n",
            "EPOCH: 9\n"
          ],
          "name": "stdout"
        },
        {
          "output_type": "stream",
          "text": [
            "Loss=0.6998517513275146 Batch_id=390 Accuracy=77.62: 100%|██████████| 391/391 [00:33<00:00, 11.84it/s]\n",
            "  0%|          | 0/391 [00:00<?, ?it/s]"
          ],
          "name": "stderr"
        },
        {
          "output_type": "stream",
          "text": [
            "\n",
            "Test set: Average loss: 0.0045, Accuracy: 8100/10000 (81.00%)\n",
            "\n",
            "EPOCH: 10\n"
          ],
          "name": "stdout"
        },
        {
          "output_type": "stream",
          "text": [
            "Loss=0.9256702661514282 Batch_id=390 Accuracy=78.62: 100%|██████████| 391/391 [00:32<00:00, 11.85it/s]\n",
            "  0%|          | 0/391 [00:00<?, ?it/s]"
          ],
          "name": "stderr"
        },
        {
          "output_type": "stream",
          "text": [
            "\n",
            "Test set: Average loss: 0.0041, Accuracy: 8215/10000 (82.15%)\n",
            "\n",
            "EPOCH: 11\n"
          ],
          "name": "stdout"
        },
        {
          "output_type": "stream",
          "text": [
            "Loss=0.8146381378173828 Batch_id=390 Accuracy=79.69: 100%|██████████| 391/391 [00:33<00:00, 11.81it/s]\n",
            "  0%|          | 0/391 [00:00<?, ?it/s]"
          ],
          "name": "stderr"
        },
        {
          "output_type": "stream",
          "text": [
            "\n",
            "Test set: Average loss: 0.0044, Accuracy: 8075/10000 (80.75%)\n",
            "\n",
            "EPOCH: 12\n"
          ],
          "name": "stdout"
        },
        {
          "output_type": "stream",
          "text": [
            "Loss=0.6522727012634277 Batch_id=390 Accuracy=80.16: 100%|██████████| 391/391 [00:32<00:00, 11.86it/s]\n",
            "  0%|          | 0/391 [00:00<?, ?it/s]"
          ],
          "name": "stderr"
        },
        {
          "output_type": "stream",
          "text": [
            "\n",
            "Test set: Average loss: 0.0039, Accuracy: 8305/10000 (83.05%)\n",
            "\n",
            "EPOCH: 13\n"
          ],
          "name": "stdout"
        },
        {
          "output_type": "stream",
          "text": [
            "Loss=0.7234589457511902 Batch_id=390 Accuracy=81.05: 100%|██████████| 391/391 [00:33<00:00, 11.80it/s]\n",
            "  0%|          | 0/391 [00:00<?, ?it/s]"
          ],
          "name": "stderr"
        },
        {
          "output_type": "stream",
          "text": [
            "\n",
            "Test set: Average loss: 0.0036, Accuracy: 8436/10000 (84.36%)\n",
            "\n",
            "EPOCH: 14\n"
          ],
          "name": "stdout"
        },
        {
          "output_type": "stream",
          "text": [
            "Loss=0.6680245399475098 Batch_id=390 Accuracy=81.40: 100%|██████████| 391/391 [00:33<00:00, 11.79it/s]\n",
            "  0%|          | 0/391 [00:00<?, ?it/s]"
          ],
          "name": "stderr"
        },
        {
          "output_type": "stream",
          "text": [
            "\n",
            "Test set: Average loss: 0.0041, Accuracy: 8301/10000 (83.01%)\n",
            "\n",
            "EPOCH: 15\n"
          ],
          "name": "stdout"
        },
        {
          "output_type": "stream",
          "text": [
            "Loss=0.7915332317352295 Batch_id=390 Accuracy=81.65: 100%|██████████| 391/391 [00:33<00:00, 11.67it/s]\n"
          ],
          "name": "stderr"
        },
        {
          "output_type": "stream",
          "text": [
            "\n",
            "Test set: Average loss: 0.0036, Accuracy: 8428/10000 (84.28%)\n",
            "\n"
          ],
          "name": "stdout"
        },
        {
          "output_type": "stream",
          "text": [
            "\rLoss=0.8359184861183167 Batch_id=102 Accuracy=74.92:  26%|██▋       | 103/391 [09:39<27:01,  5.63s/it]\n"
          ],
          "name": "stderr"
        },
        {
          "output_type": "display_data",
          "data": {
            "image/png": "[encoded data removed]",
            "text/plain": [
              "<Figure size 1080x720 with 2 Axes>"
            ]
          },
          "metadata": {
            "tags": [],
            "needs_background": "light"
          }
        }
      ]
    },
    {
      "cell_type": "code",
      "metadata": {
        "id": "GAIhhJykXULa",
        "colab_type": "code",
        "colab": {}
      },
      "source": [
        ""
      ],
      "execution_count": 0,
      "outputs": []
    }
  ]
}